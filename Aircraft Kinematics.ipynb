{
 "cells": [
  {
   "cell_type": "code",
   "execution_count": 1,
   "metadata": {
    "collapsed": false
   },
   "outputs": [],
   "source": [
    "%matplotlib inline\n",
    "import pylab as pl\n",
    "import sympy\n",
    "import sympy.physics.mechanics as mech\n",
    "import control\n",
    "sympy.init_printing(use_latex='mathjax')\n",
    "mech.init_vprinting(use_latex='mathjax')"
   ]
  },
  {
   "cell_type": "code",
   "execution_count": 2,
   "metadata": {
    "collapsed": false
   },
   "outputs": [],
   "source": [
    "p_N, p_E, p_D, U, V, W, V_T, alpha, beta, P, Q, R, psi, theta, \\\n",
    "phi, t , m, J_x, J_y, J_z, J_xz = \\\n",
    "    sympy.symbols('p_N p_E p_D U V W V_T alpha beta P Q R psi theta phi t m J_x J_y J_z J_xz')\n",
    "F_bx, F_by, F_bz, M_bx, M_by, M_bz = sympy.symbols('F_bx F_by F_bz M_bx M_by M_bz')\n",
    "F_wx, F_wy, F_wz, M_wx, M_wy, M_wz = sympy.symbols('F_wx F_wy F_wz M_wx M_wy M_wz')"
   ]
  },
  {
   "cell_type": "code",
   "execution_count": 3,
   "metadata": {
    "collapsed": true
   },
   "outputs": [],
   "source": [
    "def bke(vect, frame_i, frame_b, t):\n",
    "    return vect.diff(t, frame_b) + frame_b.ang_vel_in(frame_i).cross(vect)"
   ]
  },
  {
   "cell_type": "markdown",
   "metadata": {},
   "source": [
    "#Define Frames and Rotation Rates"
   ]
  },
  {
   "cell_type": "code",
   "execution_count": 4,
   "metadata": {
    "collapsed": false
   },
   "outputs": [
    {
     "data": {
      "text/latex": [
       "$$\\left \\{ \\dot{\\phi} : P + Q \\operatorname{sin}\\left(\\phi\\right) \\operatorname{tan}\\left(\\theta\\right) + R \\operatorname{cos}\\left(\\phi\\right) \\operatorname{tan}\\left(\\theta\\right), \\quad \\dot{\\psi} : \\frac{1}{\\operatorname{cos}\\left(\\theta\\right)} \\left(Q \\operatorname{sin}\\left(\\phi\\right) + R \\operatorname{cos}\\left(\\phi\\right)\\right), \\quad \\dot{\\theta} : Q \\operatorname{cos}\\left(\\phi\\right) - R \\operatorname{sin}\\left(\\phi\\right)\\right \\}$$"
      ],
      "text/plain": [
       "⎧                                               Q⋅sin(φ) + R⋅cos(φ)           \n",
       "⎨φ̇: P + Q⋅sin(φ)⋅tan(θ) + R⋅cos(φ)⋅tan(θ), ψ̇: ───────────────────, θ̇: Q⋅cos\n",
       "⎩                                                      cos(θ)                 \n",
       "\n",
       "              ⎫\n",
       "(φ) - R⋅sin(φ)⎬\n",
       "              ⎭"
      ]
     },
     "execution_count": 4,
     "metadata": {},
     "output_type": "execute_result"
    }
   ],
   "source": [
    "frame_i = mech.ReferenceFrame('i')\n",
    "frame_b = frame_i.orientnew('b', 'Body', (psi(t), theta(t), phi(t)), '321')\n",
    "frame_w = frame_b.orientnew('w', 'Body', (beta(t), -alpha(t), 0), '321')\n",
    "omega_ib_b = P(t)*frame_b.x + Q(t)*frame_b.y + R(t)*frame_b.z\n",
    "sol_euler_rates = sympy.solve((frame_b.ang_vel_in(frame_i) - omega_ib_b).to_matrix(frame_b),\n",
    "            [xi(t).diff(t) for xi in [phi, theta, psi]])\n",
    "frame_b.set_ang_vel(frame_i, omega_ib_b)\n",
    "sol_euler_rates"
   ]
  },
  {
   "cell_type": "markdown",
   "metadata": {},
   "source": [
    "#Define Points and Velocities"
   ]
  },
  {
   "cell_type": "code",
   "execution_count": 5,
   "metadata": {
    "collapsed": false
   },
   "outputs": [],
   "source": [
    "p_i = p_N(t)*frame_i.x + p_E(t)*frame_i.y + p_D(t)*frame_i.z\n",
    "point_o = mech.Point('o')\n",
    "point_o.set_vel(frame_i, 0)"
   ]
  },
  {
   "cell_type": "markdown",
   "metadata": {},
   "source": [
    "Define the Center of Mass with Velocity Described in the Body Frame"
   ]
  },
  {
   "cell_type": "code",
   "execution_count": 6,
   "metadata": {
    "collapsed": false
   },
   "outputs": [
    {
     "data": {
      "text/latex": [
       "$$\\left \\{ \\dot{p}_{D} : - U \\operatorname{sin}\\left(\\theta\\right) + V \\operatorname{sin}\\left(\\phi\\right) \\operatorname{cos}\\left(\\theta\\right) + W \\operatorname{cos}\\left(\\phi\\right) \\operatorname{cos}\\left(\\theta\\right), \\quad \\dot{p}_{E} : U \\operatorname{sin}\\left(\\psi\\right) \\operatorname{cos}\\left(\\theta\\right) + V \\operatorname{sin}\\left(\\phi\\right) \\operatorname{sin}\\left(\\psi\\right) \\operatorname{sin}\\left(\\theta\\right) + V \\operatorname{cos}\\left(\\phi\\right) \\operatorname{cos}\\left(\\psi\\right) - W \\operatorname{sin}\\left(\\phi\\right) \\operatorname{cos}\\left(\\psi\\right) + W \\operatorname{sin}\\left(\\psi\\right) \\operatorname{sin}\\left(\\theta\\right) \\operatorname{cos}\\left(\\phi\\right), \\quad \\dot{p}_{N} : U \\operatorname{cos}\\left(\\psi\\right) \\operatorname{cos}\\left(\\theta\\right) + V \\operatorname{sin}\\left(\\phi\\right) \\operatorname{sin}\\left(\\theta\\right) \\operatorname{cos}\\left(\\psi\\right) - V \\operatorname{sin}\\left(\\psi\\right) \\operatorname{cos}\\left(\\phi\\right) + W \\operatorname{sin}\\left(\\phi\\right) \\operatorname{sin}\\left(\\psi\\right) + W \\operatorname{sin}\\left(\\theta\\right) \\operatorname{cos}\\left(\\phi\\right) \\operatorname{cos}\\left(\\psi\\right)\\right \\}$$"
      ],
      "text/plain": [
       "{p_̇D: -U⋅sin(θ) + V⋅sin(φ)⋅cos(θ) + W⋅cos(φ)⋅cos(θ), p_̇E: U⋅sin(ψ)⋅cos(θ) + \n",
       "V⋅sin(φ)⋅sin(ψ)⋅sin(θ) + V⋅cos(φ)⋅cos(ψ) - W⋅sin(φ)⋅cos(ψ) + W⋅sin(ψ)⋅sin(θ)⋅c\n",
       "os(φ), p_̇N: U⋅cos(ψ)⋅cos(θ) + V⋅sin(φ)⋅sin(θ)⋅cos(ψ) - V⋅sin(ψ)⋅cos(φ) + W⋅si\n",
       "n(φ)⋅sin(ψ) + W⋅sin(θ)⋅cos(φ)⋅cos(ψ)}"
      ]
     },
     "execution_count": 6,
     "metadata": {},
     "output_type": "execute_result"
    }
   ],
   "source": [
    "point_cm_b = point_o.locatenew('cm', p_i)\n",
    "point_cm_b.set_vel(frame_b, 0)\n",
    "V_i_b = U(t)*frame_b.x + V(t)*frame_b.y + W(t)*frame_b.z\n",
    "point_cm_b.set_vel(frame_i, point_cm_b.pos_from(point_o).diff(t, frame_i))\n",
    "sol_vel_body = sympy.solve((point_cm_b.vel(frame_i) - V_i_b).to_matrix(frame_i),\n",
    "                      [xi(t).diff(t) for xi in [p_N, p_E, p_D]])\n",
    "point_cm_b.set_vel(frame_i, V_i_b)\n",
    "sol_vel_body"
   ]
  },
  {
   "cell_type": "markdown",
   "metadata": {
    "collapsed": true
   },
   "source": [
    "Define the Center of Mass with Velocity Described in the Wind Frame"
   ]
  },
  {
   "cell_type": "code",
   "execution_count": 7,
   "metadata": {
    "collapsed": false
   },
   "outputs": [
    {
     "data": {
      "text/latex": [
       "$$\\left \\{ \\dot{p}_{D} : \\left(\\operatorname{sin}\\left(\\alpha\\right) \\operatorname{cos}\\left(\\phi\\right) \\operatorname{cos}\\left(\\theta\\right) + \\operatorname{sin}\\left(\\beta\\right) \\operatorname{sin}\\left(\\phi\\right) \\operatorname{cos}\\left(\\alpha\\right) \\operatorname{cos}\\left(\\theta\\right) - \\operatorname{sin}\\left(\\theta\\right) \\operatorname{cos}\\left(\\alpha\\right) \\operatorname{cos}\\left(\\beta\\right)\\right) V_{T}, \\quad \\dot{p}_{E} : \\left(- \\operatorname{sin}\\left(\\alpha\\right) \\operatorname{sin}\\left(\\phi\\right) \\operatorname{cos}\\left(\\psi\\right) + \\operatorname{sin}\\left(\\alpha\\right) \\operatorname{sin}\\left(\\psi\\right) \\operatorname{sin}\\left(\\theta\\right) \\operatorname{cos}\\left(\\phi\\right) + \\operatorname{sin}\\left(\\beta\\right) \\operatorname{sin}\\left(\\phi\\right) \\operatorname{sin}\\left(\\psi\\right) \\operatorname{sin}\\left(\\theta\\right) \\operatorname{cos}\\left(\\alpha\\right) + \\operatorname{sin}\\left(\\beta\\right) \\operatorname{cos}\\left(\\alpha\\right) \\operatorname{cos}\\left(\\phi\\right) \\operatorname{cos}\\left(\\psi\\right) + \\operatorname{sin}\\left(\\psi\\right) \\operatorname{cos}\\left(\\alpha\\right) \\operatorname{cos}\\left(\\beta\\right) \\operatorname{cos}\\left(\\theta\\right)\\right) V_{T}, \\quad \\dot{p}_{N} : \\left(\\operatorname{sin}\\left(\\alpha\\right) \\operatorname{sin}\\left(\\phi\\right) \\operatorname{sin}\\left(\\psi\\right) + \\operatorname{sin}\\left(\\alpha\\right) \\operatorname{sin}\\left(\\theta\\right) \\operatorname{cos}\\left(\\phi\\right) \\operatorname{cos}\\left(\\psi\\right) + \\operatorname{sin}\\left(\\beta\\right) \\operatorname{sin}\\left(\\phi\\right) \\operatorname{sin}\\left(\\theta\\right) \\operatorname{cos}\\left(\\alpha\\right) \\operatorname{cos}\\left(\\psi\\right) - \\operatorname{sin}\\left(\\beta\\right) \\operatorname{sin}\\left(\\psi\\right) \\operatorname{cos}\\left(\\alpha\\right) \\operatorname{cos}\\left(\\phi\\right) + \\operatorname{cos}\\left(\\alpha\\right) \\operatorname{cos}\\left(\\beta\\right) \\operatorname{cos}\\left(\\psi\\right) \\operatorname{cos}\\left(\\theta\\right)\\right) V_{T}\\right \\}$$"
      ],
      "text/plain": [
       "{p_̇D: (sin(α)⋅cos(φ)⋅cos(θ) + sin(β)⋅sin(φ)⋅cos(α)⋅cos(θ) - sin(θ)⋅cos(α)⋅cos\n",
       "(β))⋅V_T, p_̇E: (-sin(α)⋅sin(φ)⋅cos(ψ) + sin(α)⋅sin(ψ)⋅sin(θ)⋅cos(φ) + sin(β)⋅\n",
       "sin(φ)⋅sin(ψ)⋅sin(θ)⋅cos(α) + sin(β)⋅cos(α)⋅cos(φ)⋅cos(ψ) + sin(ψ)⋅cos(α)⋅cos(\n",
       "β)⋅cos(θ))⋅V_T, p_̇N: (sin(α)⋅sin(φ)⋅sin(ψ) + sin(α)⋅sin(θ)⋅cos(φ)⋅cos(ψ) + si\n",
       "n(β)⋅sin(φ)⋅sin(θ)⋅cos(α)⋅cos(ψ) - sin(β)⋅sin(ψ)⋅cos(α)⋅cos(φ) + cos(α)⋅cos(β)\n",
       "⋅cos(ψ)⋅cos(θ))⋅V_T}"
      ]
     },
     "execution_count": 7,
     "metadata": {},
     "output_type": "execute_result"
    }
   ],
   "source": [
    "point_cm_w = point_o.locatenew('cm', p_i)\n",
    "point_cm_w.set_vel(frame_b, 0)\n",
    "V_i_w = V_T(t)*frame_w.x\n",
    "point_cm_w.set_vel(frame_i, point_cm_w.pos_from(point_o).diff(t, frame_i))\n",
    "sol_vel_wind = sympy.solve((point_cm_w.vel(frame_i) - V_i_w).to_matrix(frame_i),\n",
    "                      [xi(t).diff(t) for xi in [p_N, p_E, p_D]])\n",
    "point_cm_w.set_vel(frame_i, V_i_w)\n",
    "sol_vel_wind"
   ]
  },
  {
   "cell_type": "markdown",
   "metadata": {},
   "source": [
    "#Rigid Body"
   ]
  },
  {
   "cell_type": "code",
   "execution_count": 8,
   "metadata": {
    "collapsed": false
   },
   "outputs": [],
   "source": [
    "J_cm_b = mech.inertia(frame_b, ixx=J_x, iyy=J_y, izz=J_z, izx=J_xz)\n",
    "body_b = mech.RigidBody('body', point_cm_b, frame_b, m, (J_cm_b, point_cm_b))\n",
    "body_w = mech.RigidBody('body', point_cm_w, frame_b, m, (J_cm_b, point_cm_w))"
   ]
  },
  {
   "cell_type": "code",
   "execution_count": 9,
   "metadata": {
    "collapsed": false
   },
   "outputs": [
    {
     "data": {
      "text/latex": [
       "$$\\left \\{ \\dot{U} : - Q W + R V + \\frac{F_{bx}}{m}, \\quad \\dot{V} : P W - R U + \\frac{F_{by}}{m}, \\quad \\dot{W} : - P V + Q U + \\frac{F_{bz}}{m}\\right \\}$$"
      ],
      "text/plain": [
       "⎧                 F_bx                  F_by                   F_bz⎫\n",
       "⎨U̇: -Q⋅W + R⋅V + ────, V̇: P⋅W - R⋅U + ────, Ẇ: -P⋅V + Q⋅U + ────⎬\n",
       "⎩                  m                     m                      m  ⎭"
      ]
     },
     "execution_count": 9,
     "metadata": {},
     "output_type": "execute_result"
    }
   ],
   "source": [
    "L_i_b = body_b.linear_momentum(frame_i)\n",
    "F_b = F_bx(t)*frame_b.x + F_by(t)*frame_b.y + F_bz(t)*frame_b.z\n",
    "sol_trans_body = sympy.solve((bke(L_i_b, frame_i, frame_b, t) - F_b).to_matrix(frame_b),\n",
    "                        [xi(t).diff(t) for xi in [U, V, W]])\n",
    "sol_trans_body"
   ]
  },
  {
   "cell_type": "code",
   "execution_count": 10,
   "metadata": {
    "collapsed": false
   },
   "outputs": [
    {
     "data": {
      "text/latex": [
       "$$\\left \\{ \\dot{V}_{T} : \\frac{F_{wx}}{m}, \\quad \\dot{\\alpha} : - P \\operatorname{sin}\\left(\\beta\\right) + Q \\operatorname{cos}\\left(\\beta\\right) + \\frac{F_{wz}}{m V_{T}}, \\quad \\dot{\\beta} : P \\operatorname{cos}\\left(\\beta\\right) \\operatorname{tan}\\left(\\alpha\\right) + Q \\operatorname{sin}\\left(\\beta\\right) \\operatorname{tan}\\left(\\alpha\\right) - R + \\frac{F_{wy}}{m V_{T} \\operatorname{cos}\\left(\\alpha\\right)}\\right \\}$$"
      ],
      "text/plain": [
       "⎧      F_wx                              F_wz                                 \n",
       "⎨V_̇T: ────, α̇: -P⋅sin(β) + Q⋅cos(β) + ─────, β̇: P⋅cos(β)⋅tan(α) + Q⋅sin(β)⋅\n",
       "⎩       m                               m⋅V_T                                 \n",
       "\n",
       "                 F_wy    ⎫\n",
       "tan(α) - R + ────────────⎬\n",
       "             m⋅V_T⋅cos(α)⎭"
      ]
     },
     "execution_count": 10,
     "metadata": {},
     "output_type": "execute_result"
    }
   ],
   "source": [
    "L_i_w = body_w.linear_momentum(frame_i)\n",
    "F_w = F_wx(t)*frame_w.x + F_wy(t)*frame_w.y + F_wz(t)*frame_w.z\n",
    "sol_trans_wind = sympy.solve((bke(L_i_w, frame_i, frame_w, t) - F_w).to_matrix(frame_w),\n",
    "                        [xi(t).diff(t) for xi in [V_T, alpha, beta]])\n",
    "sol_trans_wind"
   ]
  },
  {
   "cell_type": "code",
   "execution_count": 11,
   "metadata": {
    "collapsed": false
   },
   "outputs": [
    {
     "data": {
      "text/latex": [
       "$$\\left \\{ \\dot{P} : - \\frac{1}{J_{x} J_{z} - J_{xz}^{2}} \\left(J_{xz} \\left(J_{x} P Q + J_{xz} Q R - J_{y} P Q + M_{bz}\\right) + J_{z} \\left(J_{xz} P Q - J_{y} Q R + J_{z} Q R - M_{bx}\\right)\\right), \\quad \\dot{Q} : \\frac{1}{J_{y}} \\left(- J_{x} P R + J_{xz} P^{2} - J_{xz} R^{2} + J_{z} P R + M_{by}\\right), \\quad \\dot{R} : \\frac{1}{J_{x} J_{z} - J_{xz}^{2}} \\left(J_{x} \\left(J_{x} P Q + J_{xz} Q R - J_{y} P Q + M_{bz}\\right) + J_{xz} \\left(J_{xz} P Q - J_{y} Q R + J_{z} Q R - M_{bx}\\right)\\right)\\right \\}$$"
      ],
      "text/plain": [
       "⎧                                                                             \n",
       "⎪    -(J_xz⋅(Jₓ⋅P⋅Q + J_xz⋅Q⋅R - J_y⋅P⋅Q + M_bz) + J_z⋅(J_xz⋅P⋅Q - J_y⋅Q⋅R + J\n",
       "⎨Ṗ: ─────────────────────────────────────────────────────────────────────────\n",
       "⎪                                                       2                     \n",
       "⎩                                          Jₓ⋅J_z - J_xz                      \n",
       "\n",
       "                                      2         2                             \n",
       "_z⋅Q⋅R - M_bx))       -Jₓ⋅P⋅R + J_xz⋅P  - J_xz⋅R  + J_z⋅P⋅R + M_by      Jₓ⋅(Jₓ\n",
       "────────────────, Q̇: ────────────────────────────────────────────, Ṙ: ──────\n",
       "                                          J_y                                 \n",
       "                                                                              \n",
       "\n",
       "                                                                              \n",
       "⋅P⋅Q + J_xz⋅Q⋅R - J_y⋅P⋅Q + M_bz) + J_xz⋅(J_xz⋅P⋅Q - J_y⋅Q⋅R + J_z⋅Q⋅R - M_bx)\n",
       "──────────────────────────────────────────────────────────────────────────────\n",
       "                                          2                                   \n",
       "                             Jₓ⋅J_z - J_xz                                    \n",
       "\n",
       "⎫\n",
       "⎪\n",
       "⎬\n",
       "⎪\n",
       "⎭"
      ]
     },
     "execution_count": 11,
     "metadata": {},
     "output_type": "execute_result"
    }
   ],
   "source": [
    "H_cm_i_b = body_b.angular_momentum(point_cm_b, frame_i)\n",
    "M_b = M_bx*frame_b.x + M_by*frame_b.y + M_bz*frame_b.z\n",
    "sol_rot = sympy.solve((bke(H_cm_i_b, frame_i, frame_b, t) - M_b).to_matrix(frame_b),\n",
    "                      [xi(t).diff(t) for xi in [P, Q, R]])\n",
    "sol_rot"
   ]
  }
 ],
 "metadata": {
  "kernelspec": {
   "display_name": "Python 2",
   "language": "python",
   "name": "python2"
  },
  "language_info": {
   "codemirror_mode": {
    "name": "ipython",
    "version": 2
   },
   "file_extension": ".py",
   "mimetype": "text/x-python",
   "name": "python",
   "nbconvert_exporter": "python",
   "pygments_lexer": "ipython2",
   "version": "2.7.6"
  }
 },
 "nbformat": 4,
 "nbformat_minor": 0
}
