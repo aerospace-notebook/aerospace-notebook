{
 "cells": [
  {
   "cell_type": "code",
   "execution_count": 1,
   "metadata": {
    "collapsed": false
   },
   "outputs": [],
   "source": [
    "import sympy\n",
    "import sympy.physics.mechanics as mech\n",
    "import control\n",
    "import pylab as pl\n",
    "import pickle\n",
    "sympy.init_printing(use_latex='mathjax')\n",
    "mech.init_vprinting(use_latex='mathjax')\n",
    "%matplotlib inline"
   ]
  },
  {
   "cell_type": "code",
   "execution_count": 2,
   "metadata": {
    "collapsed": false
   },
   "outputs": [],
   "source": [
    "t, m, Jx, Jy, Jz, Jxz, P, Q, R, U, V, W, phi, theta, psi, p_N, p_E, p_D = \\\n",
    "    sympy.symbols('t m Jx Jy Jz Jxz P Q R U V W phi theta psi p_N p_E p_D')\n",
    "F_bx, F_by, F_bz, M_bx, M_by, M_bz = sympy.symbols('F_bx F_by F_bz M_bx M_by M_bz')"
   ]
  },
  {
   "cell_type": "code",
   "execution_count": 3,
   "metadata": {
    "collapsed": false
   },
   "outputs": [
    {
     "data": {
      "text/latex": [
       "$$\\left \\{ \\dot{\\phi} : P + Q \\operatorname{sin}\\left(\\phi\\right) \\operatorname{tan}\\left(\\theta\\right) + R \\operatorname{cos}\\left(\\phi\\right) \\operatorname{tan}\\left(\\theta\\right), \\quad \\dot{\\psi} : \\frac{1}{\\operatorname{cos}\\left(\\theta\\right)} \\left(Q \\operatorname{sin}\\left(\\phi\\right) + R \\operatorname{cos}\\left(\\phi\\right)\\right), \\quad \\dot{\\theta} : Q \\operatorname{cos}\\left(\\phi\\right) - R \\operatorname{sin}\\left(\\phi\\right)\\right \\}$$"
      ],
      "text/plain": [
       "⎧                                               Q⋅sin(φ) + R⋅cos(φ)           \n",
       "⎨φ̇: P + Q⋅sin(φ)⋅tan(θ) + R⋅cos(φ)⋅tan(θ), ψ̇: ───────────────────, θ̇: Q⋅cos\n",
       "⎩                                                      cos(θ)                 \n",
       "\n",
       "              ⎫\n",
       "(φ) - R⋅sin(φ)⎬\n",
       "              ⎭"
      ]
     },
     "execution_count": 3,
     "metadata": {},
     "output_type": "execute_result"
    }
   ],
   "source": [
    "frame_i = mech.ReferenceFrame('i')\n",
    "frame_b = frame_i.orientnew('b', 'Body', (psi(t), theta(t), phi(t)), '321')\n",
    "omega_ib = P(t)*frame_b.x + Q(t)*frame_b.y + R(t)*frame_b.z\n",
    "sol_euler_rates = sympy.solve((frame_b.ang_vel_in(frame_i) - omega_ib).to_matrix(frame_b),\n",
    "            [xi(t).diff(t) for xi in [phi, theta, psi]])\n",
    "frame_b.set_ang_vel(frame_i, omega_ib)\n",
    "sol_euler_rates"
   ]
  },
  {
   "cell_type": "code",
   "execution_count": 4,
   "metadata": {
    "collapsed": false
   },
   "outputs": [
    {
     "data": {
      "text/latex": [
       "$$\\left \\{ \\dot{p}_{D} : - U \\operatorname{sin}\\left(\\theta\\right) + V \\operatorname{sin}\\left(\\phi\\right) \\operatorname{cos}\\left(\\theta\\right) + W \\operatorname{cos}\\left(\\phi\\right) \\operatorname{cos}\\left(\\theta\\right), \\quad \\dot{p}_{E} : U \\operatorname{sin}\\left(\\psi\\right) \\operatorname{cos}\\left(\\theta\\right) + V \\operatorname{sin}\\left(\\phi\\right) \\operatorname{sin}\\left(\\psi\\right) \\operatorname{sin}\\left(\\theta\\right) + V \\operatorname{cos}\\left(\\phi\\right) \\operatorname{cos}\\left(\\psi\\right) - W \\operatorname{sin}\\left(\\phi\\right) \\operatorname{cos}\\left(\\psi\\right) + W \\operatorname{sin}\\left(\\psi\\right) \\operatorname{sin}\\left(\\theta\\right) \\operatorname{cos}\\left(\\phi\\right), \\quad \\dot{p}_{N} : U \\operatorname{cos}\\left(\\psi\\right) \\operatorname{cos}\\left(\\theta\\right) + V \\operatorname{sin}\\left(\\phi\\right) \\operatorname{sin}\\left(\\theta\\right) \\operatorname{cos}\\left(\\psi\\right) - V \\operatorname{sin}\\left(\\psi\\right) \\operatorname{cos}\\left(\\phi\\right) + W \\operatorname{sin}\\left(\\phi\\right) \\operatorname{sin}\\left(\\psi\\right) + W \\operatorname{sin}\\left(\\theta\\right) \\operatorname{cos}\\left(\\phi\\right) \\operatorname{cos}\\left(\\psi\\right)\\right \\}$$"
      ],
      "text/plain": [
       "{p_̇D: -U⋅sin(θ) + V⋅sin(φ)⋅cos(θ) + W⋅cos(φ)⋅cos(θ), p_̇E: U⋅sin(ψ)⋅cos(θ) + \n",
       "V⋅sin(φ)⋅sin(ψ)⋅sin(θ) + V⋅cos(φ)⋅cos(ψ) - W⋅sin(φ)⋅cos(ψ) + W⋅sin(ψ)⋅sin(θ)⋅c\n",
       "os(φ), p_̇N: U⋅cos(ψ)⋅cos(θ) + V⋅sin(φ)⋅sin(θ)⋅cos(ψ) - V⋅sin(ψ)⋅cos(φ) + W⋅si\n",
       "n(φ)⋅sin(ψ) + W⋅sin(θ)⋅cos(φ)⋅cos(ψ)}"
      ]
     },
     "execution_count": 4,
     "metadata": {},
     "output_type": "execute_result"
    }
   ],
   "source": [
    "point_o = mech.Point('o')\n",
    "point_o.set_vel(frame_i, 0)\n",
    "point_cm = point_o.locatenew('cm', p_N(t)*frame_i.x + p_E(t)*frame_i.y + p_D(t)*frame_i.z)\n",
    "point_cm.set_vel(frame_b, 0)\n",
    "point_cm.set_vel(frame_i, point_cm.pos_from(point_o).diff(t, frame_i))\n",
    "V_i = U(t)*frame_b.x + V(t)*frame_b.y + W(t)*frame_b.z\n",
    "sol_kin_trans = sympy.solve((V_i - point_cm.vel(frame_i)).to_matrix(frame_i), [xi(t).diff(t) for xi in [p_N, p_E, p_D]])\n",
    "point_cm.set_vel(frame_i, V_i)\n",
    "sol_kin_trans"
   ]
  },
  {
   "cell_type": "code",
   "execution_count": 5,
   "metadata": {
    "collapsed": false
   },
   "outputs": [],
   "source": [
    "J = mech.inertia(frame_b, ixx=Jx, iyy=Jy, izz=Jz, izx=Jxz)\n",
    "body = mech.RigidBody('body', point_cm, frame_b, m, (J, point_cm))\n",
    "def bke(vect, frame_i, frame_b, t):\n",
    "    return vect.diff(t, frame_b) + frame_b.ang_vel_in(frame_i).cross(vect)"
   ]
  },
  {
   "cell_type": "code",
   "execution_count": 6,
   "metadata": {
    "collapsed": false
   },
   "outputs": [
    {
     "data": {
      "text/latex": [
       "$$\\left \\{ \\dot{U} : - Q W + R V + \\frac{F_{bx}}{m}, \\quad \\dot{V} : P W - R U + \\frac{F_{by}}{m}, \\quad \\dot{W} : - P V + Q U + \\frac{F_{bz}}{m}\\right \\}$$"
      ],
      "text/plain": [
       "⎧                 F_bx                  F_by                   F_bz⎫\n",
       "⎨U̇: -Q⋅W + R⋅V + ────, V̇: P⋅W - R⋅U + ────, Ẇ: -P⋅V + Q⋅U + ────⎬\n",
       "⎩                  m                     m                      m  ⎭"
      ]
     },
     "execution_count": 6,
     "metadata": {},
     "output_type": "execute_result"
    }
   ],
   "source": [
    "F_b = F_bx(t)*frame_b.x +  F_by(t)*frame_b.y + F_bz(t)*frame_b.z\n",
    "sol_trans = sympy.solve((bke(body.linear_momentum(frame_i), frame_i, frame_b, t) - F_b).to_matrix(frame_b),\n",
    "            [xi(t).diff(t) for xi in [U, V, W]])\n",
    "sol_trans"
   ]
  },
  {
   "cell_type": "code",
   "execution_count": 7,
   "metadata": {
    "collapsed": false
   },
   "outputs": [
    {
     "data": {
      "text/latex": [
       "$$\\left \\{ \\dot{P} : - \\frac{1}{Jx Jz - Jxz^{2}} \\left(Jxz \\left(Jx P Q + Jxz Q R - Jy P Q + M_{bz}\\right) + Jz \\left(Jxz P Q - Jy Q R + Jz Q R - M_{bx}\\right)\\right), \\quad \\dot{Q} : \\frac{1}{Jy} \\left(- Jx P R + Jxz P^{2} - Jxz R^{2} + Jz P R + M_{by}\\right), \\quad \\dot{R} : \\frac{1}{Jx Jz - Jxz^{2}} \\left(Jx \\left(Jx P Q + Jxz Q R - Jy P Q + M_{bz}\\right) + Jxz \\left(Jxz P Q - Jy Q R + Jz Q R - M_{bx}\\right)\\right)\\right \\}$$"
      ],
      "text/plain": [
       "⎧                                                                             \n",
       "⎪    -(Jxz⋅(Jx⋅P⋅Q + Jxz⋅Q⋅R - Jy⋅P⋅Q + M_bz) + Jz⋅(Jxz⋅P⋅Q - Jy⋅Q⋅R + Jz⋅Q⋅R \n",
       "⎨Ṗ: ─────────────────────────────────────────────────────────────────────────\n",
       "⎪                                                  2                          \n",
       "⎩                                       Jx⋅Jz - Jxz                           \n",
       "\n",
       "                              2        2                                      \n",
       "- M_bx))       -Jx⋅P⋅R + Jxz⋅P  - Jxz⋅R  + Jz⋅P⋅R + M_by      Jx⋅(Jx⋅P⋅Q + Jxz\n",
       "─────────, Q̇: ─────────────────────────────────────────, Ṙ: ────────────────\n",
       "                                   Jy                                         \n",
       "                                                                              \n",
       "\n",
       "                                                              ⎫\n",
       "⋅Q⋅R - Jy⋅P⋅Q + M_bz) + Jxz⋅(Jxz⋅P⋅Q - Jy⋅Q⋅R + Jz⋅Q⋅R - M_bx)⎪\n",
       "──────────────────────────────────────────────────────────────⎬\n",
       "                            2                                 ⎪\n",
       "                 Jx⋅Jz - Jxz                                  ⎭"
      ]
     },
     "execution_count": 7,
     "metadata": {},
     "output_type": "execute_result"
    }
   ],
   "source": [
    "M_b = M_bx(t)*frame_b.x +  M_by(t)*frame_b.y + M_bz(t)*frame_b.z\n",
    "sol_rot = sympy.solve((bke(body.angular_momentum(point_cm, frame_i), frame_i, frame_b, t) - M_b).to_matrix(frame_b),\n",
    "                      [xi(t).diff(t) for xi in [P, Q, R]])\n",
    "sol_rot"
   ]
  },
  {
   "cell_type": "code",
   "execution_count": 8,
   "metadata": {
    "collapsed": false
   },
   "outputs": [
    {
     "data": {
      "text/latex": [
       "$$\\left ( \\left[\\begin{array}{cccccccccccc}U & V & W & P & Q & R & \\phi & \\theta & \\psi & p_{N} & p_{E} & p_{D}\\end{array}\\right], \\quad \\left[\\begin{matrix}F_{bx} & F_{by} & F_{bz} & M_{bx} & M_{by} & M_{bz}\\end{matrix}\\right]\\right )$$"
      ],
      "text/plain": [
       "([U  V  W  P  Q  R  φ  θ  ψ  p_N  p_E  p_D], [F_bx  F_by  F_bz  M_bx  M_by  M_\n",
       "bz])"
      ]
     },
     "execution_count": 8,
     "metadata": {},
     "output_type": "execute_result"
    }
   ],
   "source": [
    "eoms = {}\n",
    "eoms.update(sol_euler_rates)\n",
    "eoms.update(sol_trans)\n",
    "eoms.update(sol_rot)\n",
    "eoms.update(sol_kin_trans)\n",
    "x_vect = sympy.Matrix([U, V, W, P, Q, R, phi, theta, psi, p_N, p_E, p_D])\n",
    "u_vect = sympy.Matrix([F_bx, F_by, F_bz, M_bx, M_by, M_bz])\n",
    "sub_no_t = {xi(t):xi for xi in list(x_vect) + list(u_vect)}\n",
    "f_vect = sympy.Matrix([eoms[xi(t).diff(t)].subs(sub_no_t) for xi in x_vect])\n",
    "g_vect = x_vect\n",
    "x_vect.T, u_vect.T"
   ]
  },
  {
   "cell_type": "code",
   "execution_count": 9,
   "metadata": {
    "collapsed": false
   },
   "outputs": [
    {
     "data": {
      "text/latex": [
       "$$\\left[\\begin{matrix}\\frac{F_{bx}}{m} - Q W + R V\\\\\\frac{F_{by}}{m} + P W - R U\\\\\\frac{F_{bz}}{m} - P V + Q U\\\\- \\frac{1}{Jx Jz - Jxz^{2}} \\left(Jxz \\left(Jx P Q + Jxz Q R - Jy P Q + M_{bz}\\right) + Jz \\left(Jxz P Q - Jy Q R + Jz Q R - M_{bx}\\right)\\right)\\\\\\frac{1}{Jy} \\left(- Jx P R + Jxz P^{2} - Jxz R^{2} + Jz P R + M_{by}\\right)\\\\\\frac{1}{Jx Jz - Jxz^{2}} \\left(Jx \\left(Jx P Q + Jxz Q R - Jy P Q + M_{bz}\\right) + Jxz \\left(Jxz P Q - Jy Q R + Jz Q R - M_{bx}\\right)\\right)\\\\P + Q \\operatorname{sin}\\left(\\phi\\right) \\operatorname{tan}\\left(\\theta\\right) + R \\operatorname{cos}\\left(\\phi\\right) \\operatorname{tan}\\left(\\theta\\right)\\\\Q \\operatorname{cos}\\left(\\phi\\right) - R \\operatorname{sin}\\left(\\phi\\right)\\\\\\frac{1}{\\operatorname{cos}\\left(\\theta\\right)} \\left(Q \\operatorname{sin}\\left(\\phi\\right) + R \\operatorname{cos}\\left(\\phi\\right)\\right)\\\\U \\operatorname{cos}\\left(\\psi\\right) \\operatorname{cos}\\left(\\theta\\right) + V \\operatorname{sin}\\left(\\phi\\right) \\operatorname{sin}\\left(\\theta\\right) \\operatorname{cos}\\left(\\psi\\right) - V \\operatorname{sin}\\left(\\psi\\right) \\operatorname{cos}\\left(\\phi\\right) + W \\operatorname{sin}\\left(\\phi\\right) \\operatorname{sin}\\left(\\psi\\right) + W \\operatorname{sin}\\left(\\theta\\right) \\operatorname{cos}\\left(\\phi\\right) \\operatorname{cos}\\left(\\psi\\right)\\\\U \\operatorname{sin}\\left(\\psi\\right) \\operatorname{cos}\\left(\\theta\\right) + V \\operatorname{sin}\\left(\\phi\\right) \\operatorname{sin}\\left(\\psi\\right) \\operatorname{sin}\\left(\\theta\\right) + V \\operatorname{cos}\\left(\\phi\\right) \\operatorname{cos}\\left(\\psi\\right) - W \\operatorname{sin}\\left(\\phi\\right) \\operatorname{cos}\\left(\\psi\\right) + W \\operatorname{sin}\\left(\\psi\\right) \\operatorname{sin}\\left(\\theta\\right) \\operatorname{cos}\\left(\\phi\\right)\\\\- U \\operatorname{sin}\\left(\\theta\\right) + V \\operatorname{sin}\\left(\\phi\\right) \\operatorname{cos}\\left(\\theta\\right) + W \\operatorname{cos}\\left(\\phi\\right) \\operatorname{cos}\\left(\\theta\\right)\\end{matrix}\\right]$$"
      ],
      "text/plain": [
       "⎡                                          F_bx                               \n",
       "⎢                                          ──── - Q⋅W + R⋅V                   \n",
       "⎢                                           m                                 \n",
       "⎢                                                                             \n",
       "⎢                                          F_by                               \n",
       "⎢                                          ──── + P⋅W - R⋅U                   \n",
       "⎢                                           m                                 \n",
       "⎢                                                                             \n",
       "⎢                                          F_bz                               \n",
       "⎢                                          ──── - P⋅V + Q⋅U                   \n",
       "⎢                                           m                                 \n",
       "⎢                                                                             \n",
       "⎢         -(Jxz⋅(Jx⋅P⋅Q + Jxz⋅Q⋅R - Jy⋅P⋅Q + M_bz) + Jz⋅(Jxz⋅P⋅Q - Jy⋅Q⋅R + Jz\n",
       "⎢         ────────────────────────────────────────────────────────────────────\n",
       "⎢                                                       2                     \n",
       "⎢                                            Jx⋅Jz - Jxz                      \n",
       "⎢                                                                             \n",
       "⎢                                             2        2                      \n",
       "⎢                              -Jx⋅P⋅R + Jxz⋅P  - Jxz⋅R  + Jz⋅P⋅R + M_by      \n",
       "⎢                              ─────────────────────────────────────────      \n",
       "⎢                                                  Jy                         \n",
       "⎢                                                                             \n",
       "⎢           Jx⋅(Jx⋅P⋅Q + Jxz⋅Q⋅R - Jy⋅P⋅Q + M_bz) + Jxz⋅(Jxz⋅P⋅Q - Jy⋅Q⋅R + Jz\n",
       "⎢           ──────────────────────────────────────────────────────────────────\n",
       "⎢                                                       2                     \n",
       "⎢                                            Jx⋅Jz - Jxz                      \n",
       "⎢                                                                             \n",
       "⎢                                P + Q⋅sin(φ)⋅tan(θ) + R⋅cos(φ)⋅tan(θ)        \n",
       "⎢                                                                             \n",
       "⎢                                         Q⋅cos(φ) - R⋅sin(φ)                 \n",
       "⎢                                                                             \n",
       "⎢                                         Q⋅sin(φ) + R⋅cos(φ)                 \n",
       "⎢                                         ───────────────────                 \n",
       "⎢                                                cos(θ)                       \n",
       "⎢                                                                             \n",
       "⎢U⋅cos(ψ)⋅cos(θ) + V⋅sin(φ)⋅sin(θ)⋅cos(ψ) - V⋅sin(ψ)⋅cos(φ) + W⋅sin(φ)⋅sin(ψ) \n",
       "⎢                                                                             \n",
       "⎢U⋅sin(ψ)⋅cos(θ) + V⋅sin(φ)⋅sin(ψ)⋅sin(θ) + V⋅cos(φ)⋅cos(ψ) - W⋅sin(φ)⋅cos(ψ) \n",
       "⎢                                                                             \n",
       "⎣                            -U⋅sin(θ) + V⋅sin(φ)⋅cos(θ) + W⋅cos(φ)⋅cos(θ)    \n",
       "\n",
       "                        ⎤\n",
       "                        ⎥\n",
       "                        ⎥\n",
       "                        ⎥\n",
       "                        ⎥\n",
       "                        ⎥\n",
       "                        ⎥\n",
       "                        ⎥\n",
       "                        ⎥\n",
       "                        ⎥\n",
       "                        ⎥\n",
       "                        ⎥\n",
       "⋅Q⋅R - M_bx))           ⎥\n",
       "──────────────          ⎥\n",
       "                        ⎥\n",
       "                        ⎥\n",
       "                        ⎥\n",
       "                        ⎥\n",
       "                        ⎥\n",
       "                        ⎥\n",
       "                        ⎥\n",
       "                        ⎥\n",
       "⋅Q⋅R - M_bx)            ⎥\n",
       "────────────            ⎥\n",
       "                        ⎥\n",
       "                        ⎥\n",
       "                        ⎥\n",
       "                        ⎥\n",
       "                        ⎥\n",
       "                        ⎥\n",
       "                        ⎥\n",
       "                        ⎥\n",
       "                        ⎥\n",
       "                        ⎥\n",
       "                        ⎥\n",
       "+ W⋅sin(θ)⋅cos(φ)⋅cos(ψ)⎥\n",
       "                        ⎥\n",
       "+ W⋅sin(ψ)⋅sin(θ)⋅cos(φ)⎥\n",
       "                        ⎥\n",
       "                        ⎦"
      ]
     },
     "execution_count": 9,
     "metadata": {},
     "output_type": "execute_result"
    }
   ],
   "source": [
    "f_vect"
   ]
  },
  {
   "cell_type": "code",
   "execution_count": 10,
   "metadata": {
    "collapsed": false
   },
   "outputs": [],
   "source": [
    "#A = f_vect.jacobian(x_vect).applyfunc(lambda e: e.simplify())\n",
    "#B = f_vect.jacobian(u_vect).applyfunc(lambda e: e.simplify())\n",
    "#C = g_vect.jacobian(x_vect).applyfunc(lambda e: e.simplify())\n",
    "#D = g_vect.jacobian(u_vect).applyfunc(lambda e: e.simplify())\n",
    "#sub_const = {\n",
    "#    m:1,\n",
    "#    Jx:1,\n",
    "#    Jy:1,\n",
    "#    Jz:1,\n",
    "#    Jxz:0,\n",
    "#}\n",
    "#sub_x0 = {\n",
    "#    phi:0,\n",
    "#    theta:0,\n",
    "#    psi:0,\n",
    "#    P:0,\n",
    "#    Q:0,\n",
    "#    R:0,\n",
    "#    U:0,\n",
    "#    V:0,\n",
    "#    W:0,\n",
    "#}\n",
    "#ss0 = control.ss(*[pl.array(xi.subs(sub_x0).subs(sub_const)).astype(float) for xi in [A, B, C, D]])\n",
    "#control.bode(ss0[0,0]);\n",
    "#control.rlocus(ss0[0,0]);"
   ]
  }
 ],
 "metadata": {
  "kernelspec": {
   "display_name": "Python 2",
   "language": "python",
   "name": "python2"
  },
  "language_info": {
   "codemirror_mode": {
    "name": "ipython",
    "version": 2
   },
   "file_extension": ".py",
   "mimetype": "text/x-python",
   "name": "python",
   "nbconvert_exporter": "python",
   "pygments_lexer": "ipython2",
   "version": "2.7.6"
  }
 },
 "nbformat": 4,
 "nbformat_minor": 0
}
