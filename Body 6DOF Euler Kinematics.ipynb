{
 "metadata": {
  "name": "",
  "signature": "sha256:12f2a48d69df4d7909ab8bffaeb8d16acc90e639bad9a7aa957f09a1b7749d68"
 },
 "nbformat": 3,
 "nbformat_minor": 0,
 "worksheets": [
  {
   "cells": [
    {
     "cell_type": "code",
     "collapsed": false,
     "input": [
      "import sympy\n",
      "import sympy.physics.mechanics as mech\n",
      "import control\n",
      "import pylab as pl\n",
      "import pickle\n",
      "sympy.init_printing(use_latex='mathjax')\n",
      "mech.init_vprinting(use_latex='mathjax')\n",
      "%matplotlib inline"
     ],
     "language": "python",
     "metadata": {},
     "outputs": [],
     "prompt_number": 1
    },
    {
     "cell_type": "code",
     "collapsed": false,
     "input": [
      "t, m, Jx, Jy, Jz, Jxz, P, Q, R, U, V, W, phi, theta, psi, p_N, p_E, p_D = \\\n",
      "    sympy.symbols('t m Jx Jy Jz Jxz P Q R U V W phi theta psi p_N p_E p_D')\n",
      "F_bx, F_by, F_bz, M_bx, M_by, M_bz = sympy.symbols('F_bx F_by F_bz M_bx M_by M_bz')"
     ],
     "language": "python",
     "metadata": {},
     "outputs": [],
     "prompt_number": 2
    },
    {
     "cell_type": "code",
     "collapsed": false,
     "input": [
      "frame_i = mech.ReferenceFrame('i')\n",
      "frame_b = frame_i.orientnew('b', 'Body', (psi(t), theta(t), phi(t)), '321')\n",
      "omega_ib = P(t)*frame_b.x + Q(t)*frame_b.y + R(t)*frame_b.z\n",
      "sol_euler_rates = sympy.solve((frame_b.ang_vel_in(frame_i) - omega_ib).to_matrix(frame_b),\n",
      "            [xi(t).diff(t) for xi in [phi, theta, psi]])\n",
      "frame_b.set_ang_vel(frame_i, omega_ib)\n",
      "sol_euler_rates"
     ],
     "language": "python",
     "metadata": {},
     "outputs": [
      {
       "latex": [
        "$$\\left \\{ \\dot{\\phi} : P + Q \\operatorname{sin}\\left(\\phi\\right) \\operatorname{tan}\\left(\\theta\\right) + R \\operatorname{cos}\\left(\\phi\\right) \\operatorname{tan}\\left(\\theta\\right), \\quad \\dot{\\psi} : \\frac{1}{\\operatorname{cos}\\left(\\theta\\right)} \\left(Q \\operatorname{sin}\\left(\\phi\\right) + R \\operatorname{cos}\\left(\\phi\\right)\\right), \\quad \\dot{\\theta} : Q \\operatorname{cos}\\left(\\phi\\right) - R \\operatorname{sin}\\left(\\phi\\right)\\right \\}$$"
       ],
       "metadata": {},
       "output_type": "pyout",
       "prompt_number": 3,
       "text": [
        "\u23a7                                               Q\u22c5sin(\u03c6) + R\u22c5cos(\u03c6)           \n",
        "\u23a8\u03c6\u0307: P + Q\u22c5sin(\u03c6)\u22c5tan(\u03b8) + R\u22c5cos(\u03c6)\u22c5tan(\u03b8), \u03c8\u0307: \u2500\u2500\u2500\u2500\u2500\u2500\u2500\u2500\u2500\u2500\u2500\u2500\u2500\u2500\u2500\u2500\u2500\u2500\u2500, \u03b8\u0307: Q\u22c5cos\n",
        "\u23a9                                                      cos(\u03b8)                 \n",
        "\n",
        "              \u23ab\n",
        "(\u03c6) - R\u22c5sin(\u03c6)\u23ac\n",
        "              \u23ad"
       ]
      }
     ],
     "prompt_number": 3
    },
    {
     "cell_type": "code",
     "collapsed": false,
     "input": [
      "point_o = mech.Point('o')\n",
      "point_o.set_vel(frame_i, 0)\n",
      "point_cm = point_o.locatenew('cm', p_N(t)*frame_i.x + p_E(t)*frame_i.y + p_D(t)*frame_i.z)\n",
      "point_cm.set_vel(frame_b, 0)\n",
      "point_cm.set_vel(frame_i, point_cm.pos_from(point_o).diff(t, frame_i))\n",
      "V_i = U(t)*frame_b.x + V(t)*frame_b.y + W(t)*frame_b.z\n",
      "sol_kin_trans = sympy.solve((V_i - point_cm.vel(frame_i)).to_matrix(frame_i), [xi(t).diff(t) for xi in [p_N, p_E, p_D]])\n",
      "point_cm.set_vel(frame_i, V_i)\n",
      "sol_kin_trans"
     ],
     "language": "python",
     "metadata": {},
     "outputs": [
      {
       "latex": [
        "$$\\left \\{ \\dot{p}_{D} : - U \\operatorname{sin}\\left(\\theta\\right) + V \\operatorname{sin}\\left(\\phi\\right) \\operatorname{cos}\\left(\\theta\\right) + W \\operatorname{cos}\\left(\\phi\\right) \\operatorname{cos}\\left(\\theta\\right), \\quad \\dot{p}_{E} : U \\operatorname{sin}\\left(\\psi\\right) \\operatorname{cos}\\left(\\theta\\right) + V \\operatorname{sin}\\left(\\phi\\right) \\operatorname{sin}\\left(\\psi\\right) \\operatorname{sin}\\left(\\theta\\right) + V \\operatorname{cos}\\left(\\phi\\right) \\operatorname{cos}\\left(\\psi\\right) - W \\operatorname{sin}\\left(\\phi\\right) \\operatorname{cos}\\left(\\psi\\right) + W \\operatorname{sin}\\left(\\psi\\right) \\operatorname{sin}\\left(\\theta\\right) \\operatorname{cos}\\left(\\phi\\right), \\quad \\dot{p}_{N} : U \\operatorname{cos}\\left(\\psi\\right) \\operatorname{cos}\\left(\\theta\\right) + V \\operatorname{sin}\\left(\\phi\\right) \\operatorname{sin}\\left(\\theta\\right) \\operatorname{cos}\\left(\\psi\\right) - V \\operatorname{sin}\\left(\\psi\\right) \\operatorname{cos}\\left(\\phi\\right) + W \\operatorname{sin}\\left(\\phi\\right) \\operatorname{sin}\\left(\\psi\\right) + W \\operatorname{sin}\\left(\\theta\\right) \\operatorname{cos}\\left(\\phi\\right) \\operatorname{cos}\\left(\\psi\\right)\\right \\}$$"
       ],
       "metadata": {},
       "output_type": "pyout",
       "prompt_number": 4,
       "text": [
        "{p_\u0307D: -U\u22c5sin(\u03b8) + V\u22c5sin(\u03c6)\u22c5cos(\u03b8) + W\u22c5cos(\u03c6)\u22c5cos(\u03b8), p_\u0307E: U\u22c5sin(\u03c8)\u22c5cos(\u03b8) + \n",
        "V\u22c5sin(\u03c6)\u22c5sin(\u03c8)\u22c5sin(\u03b8) + V\u22c5cos(\u03c6)\u22c5cos(\u03c8) - W\u22c5sin(\u03c6)\u22c5cos(\u03c8) + W\u22c5sin(\u03c8)\u22c5sin(\u03b8)\u22c5c\n",
        "os(\u03c6), p_\u0307N: U\u22c5cos(\u03c8)\u22c5cos(\u03b8) + V\u22c5sin(\u03c6)\u22c5sin(\u03b8)\u22c5cos(\u03c8) - V\u22c5sin(\u03c8)\u22c5cos(\u03c6) + W\u22c5si\n",
        "n(\u03c6)\u22c5sin(\u03c8) + W\u22c5sin(\u03b8)\u22c5cos(\u03c6)\u22c5cos(\u03c8)}"
       ]
      }
     ],
     "prompt_number": 4
    },
    {
     "cell_type": "code",
     "collapsed": false,
     "input": [
      "J = mech.inertia(frame_b, ixx=Jx, iyy=Jy, izz=Jz, izx=Jxz)\n",
      "body = mech.RigidBody('body', point_cm, frame_b, m, (J, point_cm))\n",
      "def bke(vect, frame_i, frame_b, t):\n",
      "    return vect.diff(t, frame_b) + frame_b.ang_vel_in(frame_i).cross(vect)"
     ],
     "language": "python",
     "metadata": {},
     "outputs": [],
     "prompt_number": 5
    },
    {
     "cell_type": "code",
     "collapsed": false,
     "input": [
      "F_b = F_bx(t)*frame_b.x +  F_by(t)*frame_b.y + F_bz(t)*frame_b.z\n",
      "sol_trans = sympy.solve((bke(body.linear_momentum(frame_i), frame_i, frame_b, t) - F_b).to_matrix(frame_b),\n",
      "            [xi(t).diff(t) for xi in [U, V, W]])\n",
      "sol_trans"
     ],
     "language": "python",
     "metadata": {},
     "outputs": [
      {
       "latex": [
        "$$\\left \\{ \\dot{U} : - Q W + R V + \\frac{F_{bx}}{m}, \\quad \\dot{V} : P W - R U + \\frac{F_{by}}{m}, \\quad \\dot{W} : - P V + Q U + \\frac{F_{bz}}{m}\\right \\}$$"
       ],
       "metadata": {},
       "output_type": "pyout",
       "prompt_number": 6,
       "text": [
        "\u23a7                 F_bx                  F_by                   F_bz\u23ab\n",
        "\u23a8U\u0307: -Q\u22c5W + R\u22c5V + \u2500\u2500\u2500\u2500, V\u0307: P\u22c5W - R\u22c5U + \u2500\u2500\u2500\u2500, W\u0307: -P\u22c5V + Q\u22c5U + \u2500\u2500\u2500\u2500\u23ac\n",
        "\u23a9                  m                     m                      m  \u23ad"
       ]
      }
     ],
     "prompt_number": 6
    },
    {
     "cell_type": "code",
     "collapsed": false,
     "input": [
      "M_b = M_bx(t)*frame_b.x +  M_by(t)*frame_b.y + M_bz(t)*frame_b.z\n",
      "sol_rot = sympy.solve((bke(body.angular_momentum(point_cm, frame_i), frame_i, frame_b, t) - M_b).to_matrix(frame_b),\n",
      "                      [xi(t).diff(t) for xi in [P, Q, R]])\n",
      "sol_rot"
     ],
     "language": "python",
     "metadata": {},
     "outputs": [
      {
       "latex": [
        "$$\\left \\{ \\dot{P} : - \\frac{1}{Jx Jz - Jxz^{2}} \\left(Jxz \\left(Jx P Q + Jxz Q R - Jy P Q + M_{bz}\\right) + Jz \\left(Jxz P Q - Jy Q R + Jz Q R - M_{bx}\\right)\\right), \\quad \\dot{Q} : \\frac{1}{Jy} \\left(- Jx P R + Jxz P^{2} - Jxz R^{2} + Jz P R + M_{by}\\right), \\quad \\dot{R} : \\frac{1}{Jx Jz - Jxz^{2}} \\left(Jx \\left(Jx P Q + Jxz Q R - Jy P Q + M_{bz}\\right) + Jxz \\left(Jxz P Q - Jy Q R + Jz Q R - M_{bx}\\right)\\right)\\right \\}$$"
       ],
       "metadata": {},
       "output_type": "pyout",
       "prompt_number": 7,
       "text": [
        "\u23a7                                                                             \n",
        "\u23aa    -(Jxz\u22c5(Jx\u22c5P\u22c5Q + Jxz\u22c5Q\u22c5R - Jy\u22c5P\u22c5Q + M_bz) + Jz\u22c5(Jxz\u22c5P\u22c5Q - Jy\u22c5Q\u22c5R + Jz\u22c5Q\u22c5R \n",
        "\u23a8P\u0307: \u2500\u2500\u2500\u2500\u2500\u2500\u2500\u2500\u2500\u2500\u2500\u2500\u2500\u2500\u2500\u2500\u2500\u2500\u2500\u2500\u2500\u2500\u2500\u2500\u2500\u2500\u2500\u2500\u2500\u2500\u2500\u2500\u2500\u2500\u2500\u2500\u2500\u2500\u2500\u2500\u2500\u2500\u2500\u2500\u2500\u2500\u2500\u2500\u2500\u2500\u2500\u2500\u2500\u2500\u2500\u2500\u2500\u2500\u2500\u2500\u2500\u2500\u2500\u2500\u2500\u2500\u2500\u2500\u2500\u2500\u2500\u2500\u2500\n",
        "\u23aa                                                  2                          \n",
        "\u23a9                                       Jx\u22c5Jz - Jxz                           \n",
        "\n",
        "                              2        2                                      \n",
        "- M_bx))       -Jx\u22c5P\u22c5R + Jxz\u22c5P  - Jxz\u22c5R  + Jz\u22c5P\u22c5R + M_by      Jx\u22c5(Jx\u22c5P\u22c5Q + Jxz\n",
        "\u2500\u2500\u2500\u2500\u2500\u2500\u2500\u2500\u2500, Q\u0307: \u2500\u2500\u2500\u2500\u2500\u2500\u2500\u2500\u2500\u2500\u2500\u2500\u2500\u2500\u2500\u2500\u2500\u2500\u2500\u2500\u2500\u2500\u2500\u2500\u2500\u2500\u2500\u2500\u2500\u2500\u2500\u2500\u2500\u2500\u2500\u2500\u2500\u2500\u2500\u2500\u2500, R\u0307: \u2500\u2500\u2500\u2500\u2500\u2500\u2500\u2500\u2500\u2500\u2500\u2500\u2500\u2500\u2500\u2500\n",
        "                                   Jy                                         \n",
        "                                                                              \n",
        "\n",
        "                                                              \u23ab\n",
        "\u22c5Q\u22c5R - Jy\u22c5P\u22c5Q + M_bz) + Jxz\u22c5(Jxz\u22c5P\u22c5Q - Jy\u22c5Q\u22c5R + Jz\u22c5Q\u22c5R - M_bx)\u23aa\n",
        "\u2500\u2500\u2500\u2500\u2500\u2500\u2500\u2500\u2500\u2500\u2500\u2500\u2500\u2500\u2500\u2500\u2500\u2500\u2500\u2500\u2500\u2500\u2500\u2500\u2500\u2500\u2500\u2500\u2500\u2500\u2500\u2500\u2500\u2500\u2500\u2500\u2500\u2500\u2500\u2500\u2500\u2500\u2500\u2500\u2500\u2500\u2500\u2500\u2500\u2500\u2500\u2500\u2500\u2500\u2500\u2500\u2500\u2500\u2500\u2500\u2500\u2500\u23ac\n",
        "                            2                                 \u23aa\n",
        "                 Jx\u22c5Jz - Jxz                                  \u23ad"
       ]
      }
     ],
     "prompt_number": 7
    },
    {
     "cell_type": "code",
     "collapsed": false,
     "input": [
      "eoms = {}\n",
      "eoms.update(sol_euler_rates)\n",
      "eoms.update(sol_trans)\n",
      "eoms.update(sol_rot)\n",
      "eoms.update(sol_kin_trans)\n",
      "x_vect = sympy.Matrix([U, V, W, P, Q, R, phi, theta, psi, p_N, p_E, p_D])\n",
      "u_vect = sympy.Matrix([F_bx, F_by, F_bz, M_bx, M_by, M_bz])\n",
      "sub_no_t = {xi(t):xi for xi in list(x_vect) + list(u_vect)}\n",
      "f_vect = sympy.Matrix([eoms[xi(t).diff(t)].subs(sub_no_t) for xi in x_vect])\n",
      "g_vect = x_vect\n",
      "x_vect.T, u_vect.T"
     ],
     "language": "python",
     "metadata": {},
     "outputs": [
      {
       "latex": [
        "$$\\left ( \\left[\\begin{array}{cccccccccccc}U & V & W & P & Q & R & \\phi & \\theta & \\psi & p_{N} & p_{E} & p_{D}\\end{array}\\right], \\quad \\left[\\begin{matrix}F_{bx} & F_{by} & F_{bz} & M_{bx} & M_{by} & M_{bz}\\end{matrix}\\right]\\right )$$"
       ],
       "metadata": {},
       "output_type": "pyout",
       "prompt_number": 8,
       "text": [
        "([U  V  W  P  Q  R  \u03c6  \u03b8  \u03c8  p_N  p_E  p_D], [F_bx  F_by  F_bz  M_bx  M_by  M_\n",
        "bz])"
       ]
      }
     ],
     "prompt_number": 8
    },
    {
     "cell_type": "code",
     "collapsed": false,
     "input": [
      "f_vect"
     ],
     "language": "python",
     "metadata": {},
     "outputs": [
      {
       "latex": [
        "$$\\left[\\begin{matrix}\\frac{F_{bx}}{m} - Q W + R V\\\\\\frac{F_{by}}{m} + P W - R U\\\\\\frac{F_{bz}}{m} - P V + Q U\\\\- \\frac{1}{Jx Jz - Jxz^{2}} \\left(Jxz \\left(Jx P Q + Jxz Q R - Jy P Q + M_{bz}\\right) + Jz \\left(Jxz P Q - Jy Q R + Jz Q R - M_{bx}\\right)\\right)\\\\\\frac{1}{Jy} \\left(- Jx P R + Jxz P^{2} - Jxz R^{2} + Jz P R + M_{by}\\right)\\\\\\frac{1}{Jx Jz - Jxz^{2}} \\left(Jx \\left(Jx P Q + Jxz Q R - Jy P Q + M_{bz}\\right) + Jxz \\left(Jxz P Q - Jy Q R + Jz Q R - M_{bx}\\right)\\right)\\\\P + Q \\operatorname{sin}\\left(\\phi\\right) \\operatorname{tan}\\left(\\theta\\right) + R \\operatorname{cos}\\left(\\phi\\right) \\operatorname{tan}\\left(\\theta\\right)\\\\Q \\operatorname{cos}\\left(\\phi\\right) - R \\operatorname{sin}\\left(\\phi\\right)\\\\\\frac{1}{\\operatorname{cos}\\left(\\theta\\right)} \\left(Q \\operatorname{sin}\\left(\\phi\\right) + R \\operatorname{cos}\\left(\\phi\\right)\\right)\\\\U \\operatorname{cos}\\left(\\psi\\right) \\operatorname{cos}\\left(\\theta\\right) + V \\operatorname{sin}\\left(\\phi\\right) \\operatorname{sin}\\left(\\theta\\right) \\operatorname{cos}\\left(\\psi\\right) - V \\operatorname{sin}\\left(\\psi\\right) \\operatorname{cos}\\left(\\phi\\right) + W \\operatorname{sin}\\left(\\phi\\right) \\operatorname{sin}\\left(\\psi\\right) + W \\operatorname{sin}\\left(\\theta\\right) \\operatorname{cos}\\left(\\phi\\right) \\operatorname{cos}\\left(\\psi\\right)\\\\U \\operatorname{sin}\\left(\\psi\\right) \\operatorname{cos}\\left(\\theta\\right) + V \\operatorname{sin}\\left(\\phi\\right) \\operatorname{sin}\\left(\\psi\\right) \\operatorname{sin}\\left(\\theta\\right) + V \\operatorname{cos}\\left(\\phi\\right) \\operatorname{cos}\\left(\\psi\\right) - W \\operatorname{sin}\\left(\\phi\\right) \\operatorname{cos}\\left(\\psi\\right) + W \\operatorname{sin}\\left(\\psi\\right) \\operatorname{sin}\\left(\\theta\\right) \\operatorname{cos}\\left(\\phi\\right)\\\\- U \\operatorname{sin}\\left(\\theta\\right) + V \\operatorname{sin}\\left(\\phi\\right) \\operatorname{cos}\\left(\\theta\\right) + W \\operatorname{cos}\\left(\\phi\\right) \\operatorname{cos}\\left(\\theta\\right)\\end{matrix}\\right]$$"
       ],
       "metadata": {},
       "output_type": "pyout",
       "prompt_number": 9,
       "text": [
        "\u23a1                                          F_bx                               \n",
        "\u23a2                                          \u2500\u2500\u2500\u2500 - Q\u22c5W + R\u22c5V                   \n",
        "\u23a2                                           m                                 \n",
        "\u23a2                                                                             \n",
        "\u23a2                                          F_by                               \n",
        "\u23a2                                          \u2500\u2500\u2500\u2500 + P\u22c5W - R\u22c5U                   \n",
        "\u23a2                                           m                                 \n",
        "\u23a2                                                                             \n",
        "\u23a2                                          F_bz                               \n",
        "\u23a2                                          \u2500\u2500\u2500\u2500 - P\u22c5V + Q\u22c5U                   \n",
        "\u23a2                                           m                                 \n",
        "\u23a2                                                                             \n",
        "\u23a2         -(Jxz\u22c5(Jx\u22c5P\u22c5Q + Jxz\u22c5Q\u22c5R - Jy\u22c5P\u22c5Q + M_bz) + Jz\u22c5(Jxz\u22c5P\u22c5Q - Jy\u22c5Q\u22c5R + Jz\n",
        "\u23a2         \u2500\u2500\u2500\u2500\u2500\u2500\u2500\u2500\u2500\u2500\u2500\u2500\u2500\u2500\u2500\u2500\u2500\u2500\u2500\u2500\u2500\u2500\u2500\u2500\u2500\u2500\u2500\u2500\u2500\u2500\u2500\u2500\u2500\u2500\u2500\u2500\u2500\u2500\u2500\u2500\u2500\u2500\u2500\u2500\u2500\u2500\u2500\u2500\u2500\u2500\u2500\u2500\u2500\u2500\u2500\u2500\u2500\u2500\u2500\u2500\u2500\u2500\u2500\u2500\u2500\u2500\u2500\u2500\n",
        "\u23a2                                                       2                     \n",
        "\u23a2                                            Jx\u22c5Jz - Jxz                      \n",
        "\u23a2                                                                             \n",
        "\u23a2                                             2        2                      \n",
        "\u23a2                              -Jx\u22c5P\u22c5R + Jxz\u22c5P  - Jxz\u22c5R  + Jz\u22c5P\u22c5R + M_by      \n",
        "\u23a2                              \u2500\u2500\u2500\u2500\u2500\u2500\u2500\u2500\u2500\u2500\u2500\u2500\u2500\u2500\u2500\u2500\u2500\u2500\u2500\u2500\u2500\u2500\u2500\u2500\u2500\u2500\u2500\u2500\u2500\u2500\u2500\u2500\u2500\u2500\u2500\u2500\u2500\u2500\u2500\u2500\u2500      \n",
        "\u23a2                                                  Jy                         \n",
        "\u23a2                                                                             \n",
        "\u23a2           Jx\u22c5(Jx\u22c5P\u22c5Q + Jxz\u22c5Q\u22c5R - Jy\u22c5P\u22c5Q + M_bz) + Jxz\u22c5(Jxz\u22c5P\u22c5Q - Jy\u22c5Q\u22c5R + Jz\n",
        "\u23a2           \u2500\u2500\u2500\u2500\u2500\u2500\u2500\u2500\u2500\u2500\u2500\u2500\u2500\u2500\u2500\u2500\u2500\u2500\u2500\u2500\u2500\u2500\u2500\u2500\u2500\u2500\u2500\u2500\u2500\u2500\u2500\u2500\u2500\u2500\u2500\u2500\u2500\u2500\u2500\u2500\u2500\u2500\u2500\u2500\u2500\u2500\u2500\u2500\u2500\u2500\u2500\u2500\u2500\u2500\u2500\u2500\u2500\u2500\u2500\u2500\u2500\u2500\u2500\u2500\u2500\u2500\n",
        "\u23a2                                                       2                     \n",
        "\u23a2                                            Jx\u22c5Jz - Jxz                      \n",
        "\u23a2                                                                             \n",
        "\u23a2                                P + Q\u22c5sin(\u03c6)\u22c5tan(\u03b8) + R\u22c5cos(\u03c6)\u22c5tan(\u03b8)        \n",
        "\u23a2                                                                             \n",
        "\u23a2                                         Q\u22c5cos(\u03c6) - R\u22c5sin(\u03c6)                 \n",
        "\u23a2                                                                             \n",
        "\u23a2                                         Q\u22c5sin(\u03c6) + R\u22c5cos(\u03c6)                 \n",
        "\u23a2                                         \u2500\u2500\u2500\u2500\u2500\u2500\u2500\u2500\u2500\u2500\u2500\u2500\u2500\u2500\u2500\u2500\u2500\u2500\u2500                 \n",
        "\u23a2                                                cos(\u03b8)                       \n",
        "\u23a2                                                                             \n",
        "\u23a2U\u22c5cos(\u03c8)\u22c5cos(\u03b8) + V\u22c5sin(\u03c6)\u22c5sin(\u03b8)\u22c5cos(\u03c8) - V\u22c5sin(\u03c8)\u22c5cos(\u03c6) + W\u22c5sin(\u03c6)\u22c5sin(\u03c8) \n",
        "\u23a2                                                                             \n",
        "\u23a2U\u22c5sin(\u03c8)\u22c5cos(\u03b8) + V\u22c5sin(\u03c6)\u22c5sin(\u03c8)\u22c5sin(\u03b8) + V\u22c5cos(\u03c6)\u22c5cos(\u03c8) - W\u22c5sin(\u03c6)\u22c5cos(\u03c8) \n",
        "\u23a2                                                                             \n",
        "\u23a3                            -U\u22c5sin(\u03b8) + V\u22c5sin(\u03c6)\u22c5cos(\u03b8) + W\u22c5cos(\u03c6)\u22c5cos(\u03b8)    \n",
        "\n",
        "                        \u23a4\n",
        "                        \u23a5\n",
        "                        \u23a5\n",
        "                        \u23a5\n",
        "                        \u23a5\n",
        "                        \u23a5\n",
        "                        \u23a5\n",
        "                        \u23a5\n",
        "                        \u23a5\n",
        "                        \u23a5\n",
        "                        \u23a5\n",
        "                        \u23a5\n",
        "\u22c5Q\u22c5R - M_bx))           \u23a5\n",
        "\u2500\u2500\u2500\u2500\u2500\u2500\u2500\u2500\u2500\u2500\u2500\u2500\u2500\u2500          \u23a5\n",
        "                        \u23a5\n",
        "                        \u23a5\n",
        "                        \u23a5\n",
        "                        \u23a5\n",
        "                        \u23a5\n",
        "                        \u23a5\n",
        "                        \u23a5\n",
        "                        \u23a5\n",
        "\u22c5Q\u22c5R - M_bx)            \u23a5\n",
        "\u2500\u2500\u2500\u2500\u2500\u2500\u2500\u2500\u2500\u2500\u2500\u2500            \u23a5\n",
        "                        \u23a5\n",
        "                        \u23a5\n",
        "                        \u23a5\n",
        "                        \u23a5\n",
        "                        \u23a5\n",
        "                        \u23a5\n",
        "                        \u23a5\n",
        "                        \u23a5\n",
        "                        \u23a5\n",
        "                        \u23a5\n",
        "                        \u23a5\n",
        "+ W\u22c5sin(\u03b8)\u22c5cos(\u03c6)\u22c5cos(\u03c8)\u23a5\n",
        "                        \u23a5\n",
        "+ W\u22c5sin(\u03c8)\u22c5sin(\u03b8)\u22c5cos(\u03c6)\u23a5\n",
        "                        \u23a5\n",
        "                        \u23a6"
       ]
      }
     ],
     "prompt_number": 9
    },
    {
     "cell_type": "code",
     "collapsed": false,
     "input": [
      "#A = f_vect.jacobian(x_vect).applyfunc(lambda e: e.simplify())\n",
      "#B = f_vect.jacobian(u_vect).applyfunc(lambda e: e.simplify())\n",
      "#C = g_vect.jacobian(x_vect).applyfunc(lambda e: e.simplify())\n",
      "#D = g_vect.jacobian(u_vect).applyfunc(lambda e: e.simplify())\n",
      "#sub_const = {\n",
      "#    m:1,\n",
      "#    Jx:1,\n",
      "#    Jy:1,\n",
      "#    Jz:1,\n",
      "#    Jxz:0,\n",
      "#}\n",
      "#sub_x0 = {\n",
      "#    phi:0,\n",
      "#    theta:0,\n",
      "#    psi:0,\n",
      "#    P:0,\n",
      "#    Q:0,\n",
      "#    R:0,\n",
      "#    U:0,\n",
      "#    V:0,\n",
      "#    W:0,\n",
      "#}\n",
      "#ss0 = control.ss(*[pl.array(xi.subs(sub_x0).subs(sub_const)).astype(float) for xi in [A, B, C, D]])\n",
      "#control.bode(ss0[0,0]);\n",
      "#control.rlocus(ss0[0,0]);"
     ],
     "language": "python",
     "metadata": {},
     "outputs": [],
     "prompt_number": 10
    }
   ],
   "metadata": {}
  }
 ]
}