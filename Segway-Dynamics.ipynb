{
 "cells": [
  {
   "cell_type": "code",
   "execution_count": 1,
   "metadata": {
    "collapsed": true
   },
   "outputs": [],
   "source": [
    "import sympy\n",
    "import sympy.physics.mechanics as mech\n",
    "sympy.init_printing(use_latex='mathjax')\n",
    "from IPython.display import display"
   ]
  },
  {
   "cell_type": "markdown",
   "metadata": {},
   "source": [
    "Define BKE Function"
   ]
  },
  {
   "cell_type": "code",
   "execution_count": 2,
   "metadata": {
    "collapsed": true
   },
   "outputs": [],
   "source": [
    "def bke(vector, frame_i, frame_b, t):\n",
    "    return (vector.diff(t, frame_b) + frame_b.ang_vel_in(frame_i).cross(vector))"
   ]
  },
  {
   "cell_type": "markdown",
   "metadata": {},
   "source": [
    "Define Symbolic Variables"
   ]
  },
  {
   "cell_type": "code",
   "execution_count": 3,
   "metadata": {
    "collapsed": true
   },
   "outputs": [],
   "source": [
    "T, r, m_w, m_p, l, F, x, g, alpha, theta, t, R_x, R_z, N, J_p, J_w, v_x, omega, k_emf, b_damp, V, J_motor, a = \\\n",
    "    sympy.symbols('T r m_w m_p l F x g alpha theta t R_x R_z N J_p J_w v_x omega k_emf b_damp V J_motor a')"
   ]
  },
  {
   "cell_type": "markdown",
   "metadata": {},
   "source": [
    "# Dynamics"
   ]
  },
  {
   "cell_type": "markdown",
   "metadata": {},
   "source": [
    "Define Reference Frames"
   ]
  },
  {
   "cell_type": "code",
   "execution_count": 4,
   "metadata": {
    "collapsed": true
   },
   "outputs": [],
   "source": [
    "frame_i = mech.ReferenceFrame('i') #inertial frame\n",
    "frame_b = frame_i.orientnew('b', 'Axis', [theta(t), frame_i.y]) #fixed in pendulum\n",
    "frame_w = frame_b.orientnew('w', 'Axis', [-alpha(t), frame_i.y]) #fixed in wheel"
   ]
  },
  {
   "cell_type": "markdown",
   "metadata": {},
   "source": [
    "Define Points of Interest"
   ]
  },
  {
   "cell_type": "code",
   "execution_count": 5,
   "metadata": {
    "collapsed": false
   },
   "outputs": [],
   "source": [
    "point_o = mech.Point('o') \n",
    "point_o.set_vel(frame_i, 0) #point o is inertially fixed\n",
    "\n",
    "point_W = point_o.locatenew('W', frame_i.x*x(t))  #wheel c.m.\n",
    "point_W.set_vel(frame_b, 0) #point W is fixed in pendulum frame, too\n",
    "point_W.set_vel(frame_i, point_W.pos_from(point_o).diff(t, frame_i))\n",
    "\n",
    "point_P = point_W.locatenew('P', frame_b.z*(-l)) #pendulum c.m.\n",
    "point_P.set_vel(frame_b, 0)\n",
    "point_P.v2pt_theory(point_W, frame_i, frame_b);"
   ]
  },
  {
   "cell_type": "markdown",
   "metadata": {},
   "source": [
    "Define Bodies"
   ]
  },
  {
   "cell_type": "code",
   "execution_count": 6,
   "metadata": {
    "collapsed": true
   },
   "outputs": [],
   "source": [
    "# Wheel Creation\n",
    "J_wheel = mech.inertia(frame_w, 0, J_w, 0)\n",
    "wheel = mech.RigidBody('wheel', point_W, frame_w, m_w, (J_wheel, point_W))\n",
    "\n",
    "# Pendulum Creation\n",
    "J_pend = mech.inertia(frame_b, 0, J_p, 0)\n",
    "pend = mech.RigidBody('pend', point_P, frame_b, m_p, (J_pend, point_P)) #change inertia point to point_p"
   ]
  },
  {
   "cell_type": "markdown",
   "metadata": {},
   "source": [
    "Lagranges Method"
   ]
  },
  {
   "cell_type": "raw",
   "metadata": {},
   "source": [
    "wheel.set_potential_energy(0)\n",
    "pendulum.set_potential_energy(m_p*g*(l/2)*sympy.cos(theta(t)))"
   ]
  },
  {
   "cell_type": "code",
   "execution_count": null,
   "metadata": {
    "collapsed": false,
    "scrolled": true
   },
   "outputs": [
    {
     "data": {
      "text/latex": [
       "$$\\left[\\begin{matrix}\\frac{m_{p}}{2} \\left(2 l \\sin{\\left (\\theta{\\left (t \\right )} \\right )} \\left(\\frac{d}{d t} \\theta{\\left (t \\right )}\\right)^{2} - 2 l \\cos{\\left (\\theta{\\left (t \\right )} \\right )} \\frac{d^{2}}{d t^{2}}  \\theta{\\left (t \\right )} + 2 \\frac{d^{2}}{d t^{2}}  x{\\left (t \\right )}\\right) + m_{w} \\frac{d^{2}}{d t^{2}}  x{\\left (t \\right )}\\\\J_{p} \\frac{d^{2}}{d t^{2}}  \\theta{\\left (t \\right )} + \\frac{J_{w}}{2} \\left(- \\frac{d^{2}}{d t^{2}}  \\alpha{\\left (t \\right )} + \\frac{d^{2}}{d t^{2}}  \\theta{\\left (t \\right )}\\right) - \\frac{J_{w}}{2} \\frac{d^{2}}{d t^{2}}  \\alpha{\\left (t \\right )} + \\frac{J_{w}}{2} \\frac{d^{2}}{d t^{2}}  \\theta{\\left (t \\right )} - b_{damp} \\frac{d}{d t} \\alpha{\\left (t \\right )} - g l m_{p} \\sin{\\left (\\theta{\\left (t \\right )} \\right )} - l m_{p} \\sin{\\left (\\theta{\\left (t \\right )} \\right )} \\frac{d}{d t} \\theta{\\left (t \\right )} \\frac{d}{d t} x{\\left (t \\right )} + \\frac{m_{p}}{2} \\left(2 l^{2} \\frac{d^{2}}{d t^{2}}  \\theta{\\left (t \\right )} + 2 l \\sin{\\left (\\theta{\\left (t \\right )} \\right )} \\frac{d}{d t} \\theta{\\left (t \\right )} \\frac{d}{d t} x{\\left (t \\right )} - 2 l \\cos{\\left (\\theta{\\left (t \\right )} \\right )} \\frac{d^{2}}{d t^{2}}  x{\\left (t \\right )}\\right) - T{\\left (t \\right )}\\\\- \\frac{J_{w}}{2} \\left(- \\frac{d^{2}}{d t^{2}}  \\alpha{\\left (t \\right )} + \\frac{d^{2}}{d t^{2}}  \\theta{\\left (t \\right )}\\right) + \\frac{J_{w}}{2} \\frac{d^{2}}{d t^{2}}  \\alpha{\\left (t \\right )} - \\frac{J_{w}}{2} \\frac{d^{2}}{d t^{2}}  \\theta{\\left (t \\right )}\\end{matrix}\\right]$$"
      ],
      "text/plain": [
       "⎡                                                                             \n",
       "⎢                                                                             \n",
       "⎢                                                                             \n",
       "⎢                                                                             \n",
       "⎢                                                                             \n",
       "⎢                                                                             \n",
       "⎢                                                                             \n",
       "⎢                                                                             \n",
       "⎢                                                                             \n",
       "⎢                    ⎛    2           2      ⎞         2               2      \n",
       "⎢                    ⎜   d           d       ⎟        d               d       \n",
       "⎢                J_w⋅⎜- ───(α(t)) + ───(θ(t))⎟   J_w⋅───(α(t))   J_w⋅───(θ(t))\n",
       "⎢      2             ⎜    2           2      ⎟         2               2      \n",
       "⎢     d              ⎝  dt          dt       ⎠       dt              dt       \n",
       "⎢J_p⋅───(θ(t)) + ───────────────────────────── - ───────────── + ─────────────\n",
       "⎢      2                       2                       2               2      \n",
       "⎢    dt                                                                       \n",
       "⎢                                                                             \n",
       "⎢                                                                             \n",
       "⎢                                                                             \n",
       "⎢                                                                             \n",
       "⎢                                                                             \n",
       "⎢                                                                             \n",
       "⎢                                                                             \n",
       "⎣                                                                             \n",
       "\n",
       "    ⎛                        2                   2             2      ⎞       \n",
       "    ⎜              ⎛d       ⎞                   d             d       ⎟       \n",
       "m_p⋅⎜2⋅l⋅sin(θ(t))⋅⎜──(θ(t))⎟  - 2⋅l⋅cos(θ(t))⋅───(θ(t)) + 2⋅───(x(t))⎟       \n",
       "    ⎜              ⎝dt      ⎠                    2             2      ⎟       \n",
       "    ⎝                                          dt            dt       ⎠       \n",
       "─────────────────────────────────────────────────────────────────────── + m_w⋅\n",
       "                                   2                                          \n",
       "                                                                              \n",
       "                                                                              \n",
       "                                                                              \n",
       "                                                                              \n",
       "                                                                             m\n",
       "                                                                              \n",
       "          d                                              d        d           \n",
       " - b_damp⋅──(α(t)) - g⋅l⋅m_p⋅sin(θ(t)) - l⋅m_p⋅sin(θ(t))⋅──(θ(t))⋅──(x(t)) + ─\n",
       "          dt                                             dt       dt          \n",
       "                                                                              \n",
       "                                                                              \n",
       "                  ⎛    2           2      ⎞         2               2         \n",
       "                  ⎜   d           d       ⎟        d               d          \n",
       "              J_w⋅⎜- ───(α(t)) + ───(θ(t))⎟   J_w⋅───(α(t))   J_w⋅───(θ(t))   \n",
       "                  ⎜    2           2      ⎟         2               2         \n",
       "                  ⎝  dt          dt       ⎠       dt              dt          \n",
       "            - ───────────────────────────── + ───────────── - ─────────────   \n",
       "                            2                       2               2         \n",
       "\n",
       "                                                                              \n",
       "                                                                              \n",
       "                                                                              \n",
       "  2                                                                           \n",
       " d                                                                            \n",
       "───(x(t))                                                                     \n",
       "  2                                                                           \n",
       "dt                                                                            \n",
       "                                                                              \n",
       "   ⎛       2                                                           2      \n",
       "   ⎜   2  d                        d        d                         d       \n",
       "_p⋅⎜2⋅l ⋅───(θ(t)) + 2⋅l⋅sin(θ(t))⋅──(θ(t))⋅──(x(t)) - 2⋅l⋅cos(θ(t))⋅───(x(t))\n",
       "   ⎜       2                       dt       dt                         2      \n",
       "   ⎝     dt                                                          dt       \n",
       "──────────────────────────────────────────────────────────────────────────────\n",
       "                                      2                                       \n",
       "                                                                              \n",
       "                                                                              \n",
       "                                                                              \n",
       "                                                                              \n",
       "                                                                              \n",
       "                                                                              \n",
       "                                                                              \n",
       "                                                                              \n",
       "                                                                              \n",
       "\n",
       "        ⎤\n",
       "        ⎥\n",
       "        ⎥\n",
       "        ⎥\n",
       "        ⎥\n",
       "        ⎥\n",
       "        ⎥\n",
       "        ⎥\n",
       "        ⎥\n",
       "⎞       ⎥\n",
       "⎟       ⎥\n",
       "⎟       ⎥\n",
       "⎟       ⎥\n",
       "⎠       ⎥\n",
       "─ - T(t)⎥\n",
       "        ⎥\n",
       "        ⎥\n",
       "        ⎥\n",
       "        ⎥\n",
       "        ⎥\n",
       "        ⎥\n",
       "        ⎥\n",
       "        ⎥\n",
       "        ⎥\n",
       "        ⎦"
      ]
     },
     "execution_count": 7,
     "metadata": {},
     "output_type": "execute_result"
    }
   ],
   "source": [
    "noslip = [(r*(alpha(t) - theta(t)) - x(t))] # constraint equation, same as before?\n",
    "flist = [(point_P, m_p*g*frame_i.z), (frame_b, T(t)*frame_i.y), (frame_b, b_damp*alpha(t).diff(t)*frame_i.y)] #force list, external torque T, damping b in y direction \n",
    "L = mech.Lagrangian(frame_i, wheel, pend)\n",
    "#l = mech.LagrangesMethod(L, [x(t), theta(t)], forcelist = flist, hol_coneqs=noslip, frame = frame_i)\n",
    "l = mech.LagrangesMethod(L, [x(t), theta(t), alpha(t)], forcelist = flist, frame = frame_i)\n",
    "eoms = l.form_lagranges_equations()\n",
    "eoms"
   ]
  },
  {
   "cell_type": "code",
   "execution_count": null,
   "metadata": {
    "collapsed": false,
    "scrolled": true
   },
   "outputs": [],
   "source": [
    "eom_sol = sympy.solve(eoms, [theta(t).diff(t,2), alpha(t).diff(t,2), x(t).diff(t,2), \\\n",
    "        alpha(t).diff(t)], simplify=False)\n",
    "eom_sol"
   ]
  },
  {
   "cell_type": "code",
   "execution_count": null,
   "metadata": {
    "collapsed": true
   },
   "outputs": [],
   "source": []
  },
  {
   "cell_type": "code",
   "execution_count": 44,
   "metadata": {
    "collapsed": false
   },
   "outputs": [
    {
     "data": {
      "text/latex": [
       "$$\\frac{1}{\\left(J_{p} m_{p} + J_{p} m_{w} + l^{2} m_{p}^{2} \\sin^{2}{\\left (\\theta{\\left (t \\right )} \\right )} + l^{2} m_{p} m_{w}\\right) \\cos{\\left (\\theta{\\left (t \\right )} \\right )}} \\left(\\left(m_{p} + m_{w}\\right) \\left(b_{damp} \\frac{d}{d t} \\alpha{\\left (t \\right )} + g l m_{p} \\sin{\\left (\\theta{\\left (t \\right )} \\right )} + T{\\left (t \\right )}\\right) \\cos{\\left (\\theta{\\left (t \\right )} \\right )} + \\left(J_{p} m_{p} \\sin{\\left (\\theta{\\left (t \\right )} \\right )} - J_{p} m_{p} \\cos{\\left (\\theta{\\left (t \\right )} \\right )} \\tan{\\left (\\theta{\\left (t \\right )} \\right )} + J_{p} m_{w} \\sin{\\left (\\theta{\\left (t \\right )} \\right )} - J_{p} m_{w} \\cos{\\left (\\theta{\\left (t \\right )} \\right )} \\tan{\\left (\\theta{\\left (t \\right )} \\right )} + l^{2} m_{p}^{2} \\sin^{3}{\\left (\\theta{\\left (t \\right )} \\right )} - l^{2} m_{p}^{2} \\cos{\\left (\\theta{\\left (t \\right )} \\right )} \\tan{\\left (\\theta{\\left (t \\right )} \\right )} + l^{2} m_{p} m_{w} \\sin{\\left (\\theta{\\left (t \\right )} \\right )} - l^{2} m_{p} m_{w} \\cos{\\left (\\theta{\\left (t \\right )} \\right )} \\tan{\\left (\\theta{\\left (t \\right )} \\right )}\\right) \\left(\\frac{d}{d t} \\theta{\\left (t \\right )}\\right)^{2}\\right)$$"
      ],
      "text/plain": [
       "                                                                              \n",
       "            ⎛       d                                  ⎞             ⎛        \n",
       "(m_p + m_w)⋅⎜b_damp⋅──(α(t)) + g⋅l⋅m_p⋅sin(θ(t)) + T(t)⎟⋅cos(θ(t)) + ⎝J_p⋅m_p⋅\n",
       "            ⎝       dt                                 ⎠                      \n",
       "──────────────────────────────────────────────────────────────────────────────\n",
       "                                                                              \n",
       "                                                                              \n",
       "\n",
       "                                                                              \n",
       "                                                                              \n",
       "sin(θ(t)) - J_p⋅m_p⋅cos(θ(t))⋅tan(θ(t)) + J_p⋅m_w⋅sin(θ(t)) - J_p⋅m_w⋅cos(θ(t)\n",
       "                                                                              \n",
       "──────────────────────────────────────────────────────────────────────────────\n",
       "                                  ⎛                     2    2    2          2\n",
       "                                  ⎝J_p⋅m_p + J_p⋅m_w + l ⋅m_p ⋅sin (θ(t)) + l \n",
       "\n",
       "                                                                              \n",
       "               2    2    3          2    2                        2           \n",
       ")⋅tan(θ(t)) + l ⋅m_p ⋅sin (θ(t)) - l ⋅m_p ⋅cos(θ(t))⋅tan(θ(t)) + l ⋅m_p⋅m_w⋅si\n",
       "                                                                              \n",
       "──────────────────────────────────────────────────────────────────────────────\n",
       "        ⎞                                                                     \n",
       "⋅m_p⋅m_w⎠⋅cos(θ(t))                                                           \n",
       "\n",
       "                                                    2\n",
       "           2                            ⎞ ⎛d       ⎞ \n",
       "n(θ(t)) - l ⋅m_p⋅m_w⋅cos(θ(t))⋅tan(θ(t))⎠⋅⎜──(θ(t))⎟ \n",
       "                                          ⎝dt      ⎠ \n",
       "─────────────────────────────────────────────────────\n",
       "                                                     \n",
       "                                                     "
      ]
     },
     "execution_count": 44,
     "metadata": {},
     "output_type": "execute_result"
    }
   ],
   "source": [
    "theta_ddot = eom_sol[theta(t).diff(t,2)].expand().ratsimp().collect([theta(t), x(t), theta(t).diff(t), x(t).diff(t)], sympy.factor)\n",
    "theta_ddot"
   ]
  },
  {
   "cell_type": "code",
   "execution_count": 35,
   "metadata": {
    "collapsed": false
   },
   "outputs": [
    {
     "data": {
      "text/latex": [
       "$$\\left[\\begin{matrix}m_{p} + m_{w} & - l m_{p} \\cos{\\left (\\theta{\\left (t \\right )} \\right )} & 0\\\\- l m_{p} \\cos{\\left (\\theta{\\left (t \\right )} \\right )} & J_{p} + J_{w} + l^{2} m_{p} & - J_{w}\\\\0 & - J_{w} & J_{w}\\end{matrix}\\right]$$"
      ],
      "text/plain": [
       "⎡   m_p + m_w       -l⋅m_p⋅cos(θ(t))    0  ⎤\n",
       "⎢                                          ⎥\n",
       "⎢                               2          ⎥\n",
       "⎢-l⋅m_p⋅cos(θ(t))  J_p + J_w + l ⋅m_p  -J_w⎥\n",
       "⎢                                          ⎥\n",
       "⎣       0                 -J_w         J_w ⎦"
      ]
     },
     "execution_count": 35,
     "metadata": {},
     "output_type": "execute_result"
    }
   ],
   "source": [
    "#l.forcing\n",
    "l.mass_matrix"
   ]
  },
  {
   "cell_type": "code",
   "execution_count": null,
   "metadata": {
    "collapsed": true
   },
   "outputs": [],
   "source": []
  },
  {
   "cell_type": "code",
   "execution_count": null,
   "metadata": {
    "collapsed": true
   },
   "outputs": [],
   "source": []
  }
 ],
 "metadata": {
  "kernelspec": {
   "display_name": "Python 2",
   "language": "python",
   "name": "python2"
  },
  "language_info": {
   "codemirror_mode": {
    "name": "ipython",
    "version": 2
   },
   "file_extension": ".py",
   "mimetype": "text/x-python",
   "name": "python",
   "nbconvert_exporter": "python",
   "pygments_lexer": "ipython2",
   "version": "2.7.6"
  }
 },
 "nbformat": 4,
 "nbformat_minor": 0
}
