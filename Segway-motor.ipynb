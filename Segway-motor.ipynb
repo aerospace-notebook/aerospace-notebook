{
 "cells": [
  {
   "cell_type": "code",
   "execution_count": 6,
   "metadata": {
    "collapsed": false
   },
   "outputs": [],
   "source": [
    "import sympy\n",
    "import sympy.physics.mechanics as mech\n",
    "import control\n",
    "sympy.init_printing(use_latex='mathjax')\n",
    "from IPython.display import display\n",
    "%matplotlib inline\n",
    "%load_ext autoreload\n",
    "%autoreload 2\n",
    "import px4_logutil\n",
    "import pylab as pl"
   ]
  },
  {
   "cell_type": "markdown",
   "metadata": {},
   "source": [
    "Define BKE Function"
   ]
  },
  {
   "cell_type": "code",
   "execution_count": 3,
   "metadata": {
    "collapsed": false
   },
   "outputs": [],
   "source": [
    "def bke(vector, frame_i, frame_b, t):\n",
    "    return (vector.diff(t, frame_b) + frame_b.ang_vel_in(frame_i).cross(vector))"
   ]
  },
  {
   "cell_type": "markdown",
   "metadata": {},
   "source": [
    "Define Symbolic Variables"
   ]
  },
  {
   "cell_type": "code",
   "execution_count": 88,
   "metadata": {
    "collapsed": false
   },
   "outputs": [],
   "source": [
    "T, r, m_w, m_p, l, F, x, g, alpha, theta, t, R_x, R_z, N, J_p, J_w, v_x, omega, k_emf, b_damp, V, J_motor, a = \\\n",
    "    sympy.symbols('T r m_w m_p l F x g alpha theta t R_x R_z N J_p J_w v_x omega k_emf b_damp V J_motor a')"
   ]
  },
  {
   "cell_type": "markdown",
   "metadata": {},
   "source": [
    "# Dynamics"
   ]
  },
  {
   "cell_type": "markdown",
   "metadata": {},
   "source": [
    "Define Reference Frames"
   ]
  },
  {
   "cell_type": "code",
   "execution_count": 5,
   "metadata": {
    "collapsed": false
   },
   "outputs": [],
   "source": [
    "frame_i = mech.ReferenceFrame('i') #inertial rame\n",
    "frame_b = frame_i.orientnew('b', 'Axis', [theta(t), frame_i.y]) #fixed in pendulum\n",
    "frame_w = frame_b.orientnew('w', 'Axis', [-alpha(t), frame_i.y]) #fixed in wheel"
   ]
  },
  {
   "cell_type": "markdown",
   "metadata": {},
   "source": [
    "Define Points of Interest"
   ]
  },
  {
   "cell_type": "code",
   "execution_count": 6,
   "metadata": {
    "collapsed": false
   },
   "outputs": [],
   "source": [
    "point_o = mech.Point('o') \n",
    "point_o.set_vel(frame_i, 0) #point o is inertially fixed\n",
    "\n",
    "point_W = point_o.locatenew('W', frame_i.x*x(t))  #wheel c.m.\n",
    "point_W.set_vel(frame_b, 0) #point W is fixed in pendulum frame, too\n",
    "point_W.set_vel(frame_i, point_W.pos_from(point_o).diff(t, frame_i))\n",
    "\n",
    "point_P = point_W.locatenew('P', frame_b.z*(-l)) #pendulum c.m.\n",
    "point_P.set_vel(frame_b, 0)\n",
    "point_P.v2pt_theory(point_W, frame_i, frame_b);"
   ]
  },
  {
   "cell_type": "markdown",
   "metadata": {},
   "source": [
    "Creation of the Bodies"
   ]
  },
  {
   "cell_type": "code",
   "execution_count": 44,
   "metadata": {
    "collapsed": false
   },
   "outputs": [],
   "source": [
    "# Wheel Creation\n",
    "J_wheel = mech.inertia(frame_w, 0, J_w, 0)\n",
    "wheel = mech.RigidBody('wheel', point_W, frame_w, m_w, (J_wheel, point_W))\n",
    "\n",
    "# Pendulum Creation\n",
    "J_pend = mech.inertia(frame_b, 0, J_p, 0)\n",
    "pend = mech.RigidBody('pend', point_P, frame_b, m_p, (J_pend, point_P)) #change inertia point to point_p"
   ]
  },
  {
   "cell_type": "markdown",
   "metadata": {},
   "source": [
    "## Pendulum"
   ]
  },
  {
   "cell_type": "code",
   "execution_count": 45,
   "metadata": {
    "collapsed": false
   },
   "outputs": [],
   "source": [
    "# Pendulum F=ma equation of motion\n",
    "eom_pend_Newt = bke(pend.linear_momentum(frame_i), frame_i, frame_b, t) \\\n",
    "    - (R_x(t)*frame_i.x) \\\n",
    "    - (-R_z(t)*frame_i.z + m_p*g*frame_i.z)\n",
    "eom_pend_Newt = eom_pend_Newt.simplify()\n",
    "\n",
    "#Pendulum Euler's Law\n",
    "eom_pend_Euler = bke(pend.angular_momentum(point_P, frame_i), frame_i, frame_b, t) \\\n",
    "    - R_x(t)*sympy.cos(theta(t))*(l)*frame_b.y \\\n",
    "    - R_z(t)*sympy.sin(theta(t))*(l)*frame_b.y - (T(t)*frame_b.y)\n",
    "    "
   ]
  },
  {
   "cell_type": "code",
   "execution_count": 46,
   "metadata": {
    "collapsed": false
   },
   "outputs": [
    {
     "data": {
      "text/latex": [
       "$$(m_{p} \\ddot{x} - R_{x})\\mathbf{\\hat{i}_x} + (- g m_{p} + R_{z})\\mathbf{\\hat{i}_z} -  l m_{p} \\ddot{\\theta}\\mathbf{\\hat{b}_x} + l m_{p} \\left(\\dot{\\theta}\\right)^{2}\\mathbf{\\hat{b}_z}$$"
      ],
      "text/plain": [
       "⎛      2              ⎞\n",
       "⎜     d               ⎟\n",
       "⎜m_p⋅───(x(t)) - Rₓ(t)⎟\n",
       "⎜      2              ⎟\n",
       "⎝    dt               ⎠ i_x + (-g⋅m_p + R_z(t)) i_z +          2      \n",
       "        d       \n",
       "-l⋅m_p⋅───(θ(t))\n",
       "         2      \n",
       "       dt        b_x +                 2\n",
       "      ⎛d       ⎞ \n",
       "l⋅m_p⋅⎜──(θ(t))⎟ \n",
       "      ⎝dt      ⎠  b_z"
      ]
     },
     "execution_count": 46,
     "metadata": {},
     "output_type": "execute_result"
    }
   ],
   "source": [
    "eom_pend_Newt"
   ]
  },
  {
   "cell_type": "code",
   "execution_count": 47,
   "metadata": {
    "collapsed": false
   },
   "outputs": [
    {
     "data": {
      "text/latex": [
       "$$(J_{p} \\ddot{\\theta} - l R_{x} \\operatorname{cos}\\left(\\theta\\right) - l R_{z} \\operatorname{sin}\\left(\\theta\\right) - T)\\mathbf{\\hat{b}_y}$$"
      ],
      "text/plain": [
       "⎛      2                                                      ⎞\n",
       "⎜     d                                                       ⎟\n",
       "⎜J_p⋅───(θ(t)) - l⋅Rₓ(t)⋅cos(θ(t)) - l⋅R_z(t)⋅sin(θ(t)) - T(t)⎟\n",
       "⎜      2                                                      ⎟\n",
       "⎝    dt                                                       ⎠ b_y"
      ]
     },
     "execution_count": 47,
     "metadata": {},
     "output_type": "execute_result"
    }
   ],
   "source": [
    "eom_pend_Euler"
   ]
  },
  {
   "cell_type": "markdown",
   "metadata": {},
   "source": [
    "## Wheel"
   ]
  },
  {
   "cell_type": "code",
   "execution_count": 48,
   "metadata": {
    "collapsed": false
   },
   "outputs": [],
   "source": [
    "# Wheel F=ma equation of motion, with reaction force at pin included\n",
    "eom_wheel_Newt = wheel.linear_momentum(frame_i).diff(t, frame_i) \\\n",
    "    - (F(t)*frame_i.x) - (-R_x(t)*frame_i.x) \\\n",
    "    - R_z(t)*frame_i.z - (-N(t)*frame_i.z) - m_w*g*frame_i.z\n",
    "    \n",
    "#Wheel Euler's Law\n",
    "eom_wheel_Euler = bke(wheel.angular_momentum(point_W, frame_i), frame_i, frame_w, t) \\\n",
    "    - (-T(t)*frame_w.y) - (F(t)*r*frame_w.y)"
   ]
  },
  {
   "cell_type": "code",
   "execution_count": 49,
   "metadata": {
    "collapsed": false
   },
   "outputs": [
    {
     "data": {
      "text/latex": [
       "$$(m_{w} \\ddot{x} - F + R_{x})\\mathbf{\\hat{i}_x} + (- g m_{w} + N - R_{z})\\mathbf{\\hat{i}_z}$$"
      ],
      "text/plain": [
       "⎛      2                     ⎞\n",
       "⎜     d                      ⎟\n",
       "⎜m_w⋅───(x(t)) - F(t) + Rₓ(t)⎟\n",
       "⎜      2                     ⎟\n",
       "⎝    dt                      ⎠ i_x + (-g⋅m_w + N(t) - R_z(t)) i_z"
      ]
     },
     "execution_count": 49,
     "metadata": {},
     "output_type": "execute_result"
    }
   ],
   "source": [
    "eom_wheel_Newt"
   ]
  },
  {
   "cell_type": "code",
   "execution_count": 50,
   "metadata": {
    "collapsed": false
   },
   "outputs": [
    {
     "data": {
      "text/latex": [
       "$$(J_{w} \\left(- \\ddot{\\alpha} + \\ddot{\\theta}\\right) - r F + T)\\mathbf{\\hat{w}_y}$$"
      ],
      "text/plain": [
       "⎛    ⎛    2           2      ⎞                ⎞\n",
       "⎜    ⎜   d           d       ⎟                ⎟\n",
       "⎜J_w⋅⎜- ───(α(t)) + ───(θ(t))⎟ - r⋅F(t) + T(t)⎟\n",
       "⎜    ⎜    2           2      ⎟                ⎟\n",
       "⎝    ⎝  dt          dt       ⎠                ⎠ w_y"
      ]
     },
     "execution_count": 50,
     "metadata": {},
     "output_type": "execute_result"
    }
   ],
   "source": [
    "eom_wheel_Euler"
   ]
  },
  {
   "cell_type": "markdown",
   "metadata": {},
   "source": [
    "## Motor"
   ]
  },
  {
   "cell_type": "code",
   "execution_count": 89,
   "metadata": {
    "collapsed": false
   },
   "outputs": [
    {
     "data": {
      "text/latex": [
       "$$- J_{motor} \\frac{d^{2}}{d t^{2}}  \\alpha{\\left (t \\right )} - b_{damp} \\frac{d}{d t} \\alpha{\\left (t \\right )} + k_{emf} V{\\left (t \\right )} + T{\\left (t \\right )}$$"
      ],
      "text/plain": [
       "            2                                            \n",
       "           d                 d                           \n",
       "- J_motor⋅───(α(t)) - b_damp⋅──(α(t)) + k_emf⋅V(t) + T(t)\n",
       "            2                dt                          \n",
       "          dt                                             "
      ]
     },
     "execution_count": 89,
     "metadata": {},
     "output_type": "execute_result"
    }
   ],
   "source": [
    "eom_motor = T(t) + k_emf*V(t) - b_damp*alpha(t).diff(t) - J_motor*alpha(t).diff(t,2)\n",
    "eom_motor"
   ]
  },
  {
   "cell_type": "markdown",
   "metadata": {},
   "source": [
    "## Constraints"
   ]
  },
  {
   "cell_type": "code",
   "execution_count": 90,
   "metadata": {
    "collapsed": false
   },
   "outputs": [
    {
     "data": {
      "text/latex": [
       "$$r \\left(\\alpha{\\left (t \\right )} - \\theta{\\left (t \\right )}\\right) - x{\\left (t \\right )}$$"
      ],
      "text/plain": [
       "r⋅(α(t) - θ(t)) - x(t)"
      ]
     },
     "execution_count": 90,
     "metadata": {},
     "output_type": "execute_result"
    }
   ],
   "source": [
    "no_slip = r*(alpha(t) - theta(t)) - x(t)\n",
    "\n",
    "no_slip"
   ]
  },
  {
   "cell_type": "markdown",
   "metadata": {},
   "source": [
    "# Transform to State Space Form"
   ]
  },
  {
   "cell_type": "markdown",
   "metadata": {},
   "source": [
    "Take all of the equations of motion and solve them for the variables we need"
   ]
  },
  {
   "cell_type": "code",
   "execution_count": 93,
   "metadata": {
    "collapsed": false
   },
   "outputs": [
    {
     "data": {
      "text/latex": [
       "$$\\left[\\begin{matrix}l m_{p} \\sin{\\left (\\theta{\\left (t \\right )} \\right )} \\left(\\frac{d}{d t} \\theta{\\left (t \\right )}\\right)^{2} - l m_{p} \\cos{\\left (\\theta{\\left (t \\right )} \\right )} \\frac{d^{2}}{d t^{2}}  \\theta{\\left (t \\right )} + m_{p} \\frac{d^{2}}{d t^{2}}  x{\\left (t \\right )} - \\operatorname{R_{x}}{\\left (t \\right )}\\\\m_{w} \\frac{d^{2}}{d t^{2}}  x{\\left (t \\right )} - F{\\left (t \\right )} + \\operatorname{R_{x}}{\\left (t \\right )}\\\\J_{p} \\frac{d^{2}}{d t^{2}}  \\theta{\\left (t \\right )} - l \\operatorname{R_{x}}{\\left (t \\right )} \\cos{\\left (\\theta{\\left (t \\right )} \\right )} - l \\operatorname{R_{z}}{\\left (t \\right )} \\sin{\\left (\\theta{\\left (t \\right )} \\right )} - T{\\left (t \\right )}\\\\J_{w} \\left(- \\frac{d^{2}}{d t^{2}}  \\alpha{\\left (t \\right )} + \\frac{d^{2}}{d t^{2}}  \\theta{\\left (t \\right )}\\right) - r F{\\left (t \\right )} + T{\\left (t \\right )}\\\\- g m_{p} + l m_{p} \\sin{\\left (\\theta{\\left (t \\right )} \\right )} \\frac{d^{2}}{d t^{2}}  \\theta{\\left (t \\right )} + l m_{p} \\cos{\\left (\\theta{\\left (t \\right )} \\right )} \\left(\\frac{d}{d t} \\theta{\\left (t \\right )}\\right)^{2} + \\operatorname{R_{z}}{\\left (t \\right )}\\\\- g m_{w} + N{\\left (t \\right )} - \\operatorname{R_{z}}{\\left (t \\right )}\\\\- J_{motor} \\frac{d^{2}}{d t^{2}}  \\alpha{\\left (t \\right )} - b_{damp} \\frac{d}{d t} \\alpha{\\left (t \\right )} + k_{emf} V{\\left (t \\right )} + T{\\left (t \\right )}\\\\r \\left(\\alpha{\\left (t \\right )} - \\theta{\\left (t \\right )}\\right) - x{\\left (t \\right )}\\\\r \\left(\\frac{d}{d t} \\alpha{\\left (t \\right )} - \\frac{d}{d t} \\theta{\\left (t \\right )}\\right) - \\frac{d}{d t} x{\\left (t \\right )}\\\\r \\left(\\frac{d^{2}}{d t^{2}}  \\alpha{\\left (t \\right )} - \\frac{d^{2}}{d t^{2}}  \\theta{\\left (t \\right )}\\right) - \\frac{d^{2}}{d t^{2}}  x{\\left (t \\right )}\\end{matrix}\\right]$$"
      ],
      "text/plain": [
       "⎡                          2                     2               2            \n",
       "⎢                ⎛d       ⎞                     d               d             \n",
       "⎢l⋅m_p⋅sin(θ(t))⋅⎜──(θ(t))⎟  - l⋅m_p⋅cos(θ(t))⋅───(θ(t)) + m_p⋅───(x(t)) - Rₓ(\n",
       "⎢                ⎝dt      ⎠                      2               2            \n",
       "⎢                                              dt              dt             \n",
       "⎢                                                                             \n",
       "⎢                               2                                             \n",
       "⎢                              d                                              \n",
       "⎢                         m_w⋅───(x(t)) - F(t) + Rₓ(t)                        \n",
       "⎢                               2                                             \n",
       "⎢                             dt                                              \n",
       "⎢                                                                             \n",
       "⎢               2                                                             \n",
       "⎢              d                                                              \n",
       "⎢         J_p⋅───(θ(t)) - l⋅Rₓ(t)⋅cos(θ(t)) - l⋅R_z(t)⋅sin(θ(t)) - T(t)       \n",
       "⎢               2                                                             \n",
       "⎢             dt                                                              \n",
       "⎢                                                                             \n",
       "⎢                     ⎛    2           2      ⎞                               \n",
       "⎢                     ⎜   d           d       ⎟                               \n",
       "⎢                 J_w⋅⎜- ───(α(t)) + ───(θ(t))⎟ - r⋅F(t) + T(t)               \n",
       "⎢                     ⎜    2           2      ⎟                               \n",
       "⎢                     ⎝  dt          dt       ⎠                               \n",
       "⎢                                                                             \n",
       "⎢                              2                                   2          \n",
       "⎢                             d                          ⎛d       ⎞           \n",
       "⎢   -g⋅m_p + l⋅m_p⋅sin(θ(t))⋅───(θ(t)) + l⋅m_p⋅cos(θ(t))⋅⎜──(θ(t))⎟  + R_z(t) \n",
       "⎢                              2                         ⎝dt      ⎠           \n",
       "⎢                            dt                                               \n",
       "⎢                                                                             \n",
       "⎢                            -g⋅m_w + N(t) - R_z(t)                           \n",
       "⎢                                                                             \n",
       "⎢                       2                                                     \n",
       "⎢                      d                 d                                    \n",
       "⎢           - J_motor⋅───(α(t)) - b_damp⋅──(α(t)) + k_emf⋅V(t) + T(t)         \n",
       "⎢                       2                dt                                   \n",
       "⎢                     dt                                                      \n",
       "⎢                                                                             \n",
       "⎢                            r⋅(α(t) - θ(t)) - x(t)                           \n",
       "⎢                                                                             \n",
       "⎢                        ⎛d          d       ⎞   d                            \n",
       "⎢                      r⋅⎜──(α(t)) - ──(θ(t))⎟ - ──(x(t))                     \n",
       "⎢                        ⎝dt         dt      ⎠   dt                           \n",
       "⎢                                                                             \n",
       "⎢                       ⎛  2           2      ⎞     2                         \n",
       "⎢                       ⎜ d           d       ⎟    d                          \n",
       "⎢                     r⋅⎜───(α(t)) - ───(θ(t))⎟ - ───(x(t))                   \n",
       "⎢                       ⎜  2           2      ⎟     2                         \n",
       "⎣                       ⎝dt          dt       ⎠   dt                          \n",
       "\n",
       "  ⎤\n",
       "  ⎥\n",
       "t)⎥\n",
       "  ⎥\n",
       "  ⎥\n",
       "  ⎥\n",
       "  ⎥\n",
       "  ⎥\n",
       "  ⎥\n",
       "  ⎥\n",
       "  ⎥\n",
       "  ⎥\n",
       "  ⎥\n",
       "  ⎥\n",
       "  ⎥\n",
       "  ⎥\n",
       "  ⎥\n",
       "  ⎥\n",
       "  ⎥\n",
       "  ⎥\n",
       "  ⎥\n",
       "  ⎥\n",
       "  ⎥\n",
       "  ⎥\n",
       "  ⎥\n",
       "  ⎥\n",
       "  ⎥\n",
       "  ⎥\n",
       "  ⎥\n",
       "  ⎥\n",
       "  ⎥\n",
       "  ⎥\n",
       "  ⎥\n",
       "  ⎥\n",
       "  ⎥\n",
       "  ⎥\n",
       "  ⎥\n",
       "  ⎥\n",
       "  ⎥\n",
       "  ⎥\n",
       "  ⎥\n",
       "  ⎥\n",
       "  ⎥\n",
       "  ⎥\n",
       "  ⎥\n",
       "  ⎥\n",
       "  ⎥\n",
       "  ⎥\n",
       "  ⎦"
      ]
     },
     "execution_count": 93,
     "metadata": {},
     "output_type": "execute_result"
    }
   ],
   "source": [
    "eoms = sympy.Matrix([eom_pend_Newt.dot(frame_i.x), eom_wheel_Newt.dot(frame_i.x), #in the x direction\n",
    "    eom_pend_Euler.dot(frame_i.y), eom_wheel_Euler.dot(frame_i.y), #in the y direction (moments)\n",
    "    eom_pend_Newt.dot(frame_i.z), eom_wheel_Newt.dot(frame_i.z), #in the z direction\n",
    "    eom_motor, #the equation of motion for the motor\n",
    "    no_slip,\n",
    "    no_slip.diff(t),\n",
    "    no_slip.diff(t,2)]) #the constraint equation\n",
    "eoms"
   ]
  },
  {
   "cell_type": "code",
   "execution_count": 94,
   "metadata": {
    "collapsed": false
   },
   "outputs": [],
   "source": [
    "eom_sol = sympy.solve(eoms, [T(t), N(t), R_x(t), R_z(t), F(t), theta(t).diff(t,2), alpha(t).diff(t,2), x(t).diff(t,2), alpha(t).diff(t), alpha(t)], simplify=False)\n",
    "#eom_sol"
   ]
  },
  {
   "cell_type": "markdown",
   "metadata": {},
   "source": [
    "Now we have solved for each of the unknown variables in terms of system properties and theta,\n",
    "the next step is to look specifically at the variables of most importance, x_dot and theta_dot"
   ]
  },
  {
   "cell_type": "code",
   "execution_count": 98,
   "metadata": {
    "collapsed": false
   },
   "outputs": [
    {
     "data": {
      "text/latex": [
       "$$\\frac{b_{damp} \\left(l m_{p} + m_{p} r + m_{w} r\\right) \\frac{d}{d t} \\theta{\\left (t \\right )}}{r \\left(J_{p} m_{p} + J_{p} m_{w} + l^{2} m_{p} m_{w}\\right)}$$"
      ],
      "text/plain": [
       "                               d       \n",
       "b_damp⋅(l⋅m_p + m_p⋅r + m_w⋅r)⋅──(θ(t))\n",
       "                               dt      \n",
       "───────────────────────────────────────\n",
       "     ⎛                     2        ⎞  \n",
       "   r⋅⎝J_p⋅m_p + J_p⋅m_w + l ⋅m_p⋅m_w⎠  "
      ]
     },
     "execution_count": 98,
     "metadata": {},
     "output_type": "execute_result"
    }
   ],
   "source": [
    "simp_assump = {J_motor:0, J_w:0, V(t):0, x(t).diff(t):0, theta(t).diff(t):a, theta(t):0, a:theta(t).diff(t)}\n",
    "theta_ddot = eom_sol[theta(t).diff(t,2)].expand().ratsimp().collect([theta(t), x(t), V(t), theta(t).diff(t), x(t).diff(t)], sympy.factor)\n",
    "theta_ddot = theta_ddot.subs(simp_assump1)\n",
    "theta_ddot = theta_ddot.simplify()\n",
    "theta_ddot"
   ]
  },
  {
   "cell_type": "code",
   "execution_count": 74,
   "metadata": {
    "collapsed": false
   },
   "outputs": [
    {
     "data": {
      "text/latex": [
       "$$\\frac{b_{damp}}{J_{p} m_{p} r} \\left(J_{p} + l^{2} m_{p} + l m_{p} r\\right) \\frac{d}{d t} \\theta{\\left (t \\right )}$$"
      ],
      "text/plain": [
       "       ⎛       2              ⎞ d       \n",
       "b_damp⋅⎝J_p + l ⋅m_p + l⋅m_p⋅r⎠⋅──(θ(t))\n",
       "                                dt      \n",
       "────────────────────────────────────────\n",
       "               J_p⋅m_p⋅r                "
      ]
     },
     "execution_count": 74,
     "metadata": {},
     "output_type": "execute_result"
    }
   ],
   "source": [
    "x_ddot = eom_sol[x(t).diff(t,2)].expand().ratsimp().collect([theta(t), x(t), V(t), theta(t).diff(t), x(t).diff(t)], sympy.factor)\n",
    "x_ddot = x_ddot.subs(simp_assump)\n",
    "x_ddot"
   ]
  },
  {
   "cell_type": "markdown",
   "metadata": {},
   "source": [
    "Next to make things look a little nicer, create a dict that can replace f(t) with a new variable that doesnt have the (t)"
   ]
  },
  {
   "cell_type": "code",
   "execution_count": 20,
   "metadata": {
    "collapsed": false
   },
   "outputs": [],
   "source": [
    "remove_t = {x(t).diff(t): v_x, x(t): x, theta(t).diff(t): omega, theta(t): theta, alpha(t): alpha, V(t): V, T(t): T} #defines the dict\n",
    "\n"
   ]
  },
  {
   "cell_type": "markdown",
   "metadata": {},
   "source": [
    "Create state vector X, input vector U, derivative of state vector Xdot"
   ]
  },
  {
   "cell_type": "code",
   "execution_count": 21,
   "metadata": {
    "collapsed": false
   },
   "outputs": [
    {
     "data": {
      "text/latex": [
       "$$\\left ( \\left[\\begin{matrix}x\\\\v_{x}\\\\\\theta\\\\\\omega\\end{matrix}\\right], \\quad \\left[\\begin{matrix}V\\end{matrix}\\right]\\right )$$"
      ],
      "text/plain": [
       "⎛⎡x ⎤, [V]⎞\n",
       "⎜⎢  ⎥     ⎟\n",
       "⎜⎢vₓ⎥     ⎟\n",
       "⎜⎢  ⎥     ⎟\n",
       "⎜⎢θ ⎥     ⎟\n",
       "⎜⎢  ⎥     ⎟\n",
       "⎝⎣ω ⎦     ⎠"
      ]
     },
     "execution_count": 21,
     "metadata": {},
     "output_type": "execute_result"
    }
   ],
   "source": [
    "X = sympy.Matrix([x(t), x(t).diff(t), theta(t), theta(t).diff(t)]).subs(remove_t) #state vector\n",
    "U = sympy.Matrix([V(t)]).subs(remove_t) #Input torque\n",
    "Xdot = sympy.Matrix([x(t).diff(t), x_ddot, theta(t).diff(t), theta_ddot]).subs(remove_t)\n",
    "X, U"
   ]
  },
  {
   "cell_type": "markdown",
   "metadata": {},
   "source": [
    "Define the state space matricies A, B, C, and D. They are defined by the Jacobians.  A Jacobian is a matrix consisting of partial derivatives of each function and all independent variables"
   ]
  },
  {
   "cell_type": "code",
   "execution_count": 22,
   "metadata": {
    "collapsed": false
   },
   "outputs": [],
   "source": [
    "A = Xdot.jacobian(X)\n",
    "B = Xdot.jacobian(U)\n",
    "C = X.jacobian(X)\n",
    "D = X.jacobian(U)\n",
    "ss = [A, B, C, D]"
   ]
  },
  {
   "cell_type": "markdown",
   "metadata": {},
   "source": [
    "These matricies still are in terms of trig functions and angular rates squared and are thus non-linear.  However, we can assume the system behaves linearly about the operating point, and so evaluate the elements of the state space matricies at the operating point."
   ]
  },
  {
   "cell_type": "code",
   "execution_count": 23,
   "metadata": {
    "collapsed": false
   },
   "outputs": [
    {
     "data": {
      "text/latex": [
       "$$\\left [ \\left[\\begin{matrix}0 & 1 & 0 & 0\\\\0 & \\frac{b_{damp} \\left(J_{p} + l m_{p} r\\right)}{J_{p} m_{p} r^{2} - l^{2} m_{p}^{2} r^{2}} & \\frac{g l^{2} m_{p}^{2} r^{2}}{J_{p} m_{p} r^{2} - l^{2} m_{p}^{2} r^{2}} & \\frac{b_{damp} r \\left(J_{p} + l m_{p} r\\right)}{J_{p} m_{p} r^{2} - l^{2} m_{p}^{2} r^{2}}\\\\0 & 0 & 0 & 1\\\\0 & \\frac{b_{damp} \\left(l m_{p} r + m_{p} r^{2}\\right)}{r \\left(J_{p} m_{p} r^{2} - l^{2} m_{p}^{2} r^{2}\\right)} & \\frac{g l m_{p}^{2} r^{2}}{J_{p} m_{p} r^{2} - l^{2} m_{p}^{2} r^{2}} & \\frac{b_{damp} \\left(l m_{p} r + m_{p} r^{2}\\right)}{J_{p} m_{p} r^{2} - l^{2} m_{p}^{2} r^{2}}\\end{matrix}\\right], \\quad \\left[\\begin{matrix}0\\\\- \\frac{b_{emf} r \\left(J_{p} + l m_{p} r\\right)}{J_{p} m_{p} r^{2} - l^{2} m_{p}^{2} r^{2}}\\\\0\\\\- \\frac{b_{emf} \\left(l m_{p} r + m_{p} r^{2}\\right)}{J_{p} m_{p} r^{2} - l^{2} m_{p}^{2} r^{2}}\\end{matrix}\\right], \\quad \\left[\\begin{matrix}1 & 0 & 0 & 0\\\\0 & 1 & 0 & 0\\\\0 & 0 & 1 & 0\\\\0 & 0 & 0 & 1\\end{matrix}\\right], \\quad \\left[\\begin{matrix}0\\\\0\\\\0\\\\0\\end{matrix}\\right]\\right ]$$"
      ],
      "text/plain": [
       "⎡⎡0               1                          0                         0      \n",
       "⎢⎢                                                                            \n",
       "⎢⎢                                         2    2  2                          \n",
       "⎢⎢      b_damp⋅(J_p + l⋅m_p⋅r)          g⋅l ⋅m_p ⋅r        b_damp⋅r⋅(J_p + l⋅m\n",
       "⎢⎢0    ───────────────────────    ───────────────────────  ───────────────────\n",
       "⎢⎢              2    2    2  2             2    2    2  2           2    2    \n",
       "⎢⎢     J_p⋅m_p⋅r  - l ⋅m_p ⋅r     J_p⋅m_p⋅r  - l ⋅m_p ⋅r   J_p⋅m_p⋅r  - l ⋅m_p\n",
       "⎢⎢                                                                            \n",
       "⎢⎢0               0                          0                         1      \n",
       "⎢⎢                                                                            \n",
       "⎢⎢           ⎛               2⎞                2  2               ⎛           \n",
       "⎢⎢    b_damp⋅⎝l⋅m_p⋅r + m_p⋅r ⎠         g⋅l⋅m_p ⋅r         b_damp⋅⎝l⋅m_p⋅r + m\n",
       "⎢⎢0  ───────────────────────────  ───────────────────────  ───────────────────\n",
       "⎢⎢     ⎛         2    2    2  2⎞           2    2    2  2            2    2   \n",
       "⎣⎣   r⋅⎝J_p⋅m_p⋅r  - l ⋅m_p ⋅r ⎠  J_p⋅m_p⋅r  - l ⋅m_p ⋅r    J_p⋅m_p⋅r  - l ⋅m_\n",
       "\n",
       "      ⎤, ⎡            0             ⎤, ⎡1  0  0  0⎤, ⎡0⎤⎤\n",
       "      ⎥  ⎢                          ⎥  ⎢          ⎥  ⎢ ⎥⎥\n",
       "      ⎥  ⎢-b_emf⋅r⋅(J_p + l⋅m_p⋅r)  ⎥  ⎢0  1  0  0⎥  ⎢0⎥⎥\n",
       "_p⋅r) ⎥  ⎢───────────────────────── ⎥  ⎢          ⎥  ⎢ ⎥⎥\n",
       "───── ⎥  ⎢          2    2    2  2  ⎥  ⎢0  0  1  0⎥  ⎢0⎥⎥\n",
       "2  2  ⎥  ⎢ J_p⋅m_p⋅r  - l ⋅m_p ⋅r   ⎥  ⎢          ⎥  ⎢ ⎥⎥\n",
       " ⋅r   ⎥  ⎢                          ⎥  ⎣0  0  0  1⎦  ⎣0⎦⎥\n",
       "      ⎥  ⎢            0             ⎥                   ⎥\n",
       "      ⎥  ⎢                          ⎥                   ⎥\n",
       "      ⎥  ⎢       ⎛               2⎞ ⎥                   ⎥\n",
       "    2⎞⎥  ⎢-b_emf⋅⎝l⋅m_p⋅r + m_p⋅r ⎠ ⎥                   ⎥\n",
       "_p⋅r ⎠⎥  ⎢──────────────────────────⎥                   ⎥\n",
       "──────⎥  ⎢          2    2    2  2  ⎥                   ⎥\n",
       " 2  2 ⎥  ⎣ J_p⋅m_p⋅r  - l ⋅m_p ⋅r   ⎦                   ⎥\n",
       "p ⋅r  ⎦                                                 ⎦"
      ]
     },
     "execution_count": 23,
     "metadata": {},
     "output_type": "execute_result"
    }
   ],
   "source": [
    "stop_eq_point = {T: 0, omega: 0, theta: 0, v_x: 0} #a dict of the equilibrium points when the segway is not moving\n",
    "ss0 = [A.subs(stop_eq_point), B.subs(stop_eq_point), C, D]\n",
    "ss0"
   ]
  },
  {
   "cell_type": "code",
   "execution_count": 24,
   "metadata": {
    "collapsed": false
   },
   "outputs": [],
   "source": [
    "sub_const = {\n",
    "    J_p: 2,\n",
    "    b_damp: 0,\n",
    "    b_emf: 1,\n",
    "    g: 9.8,\n",
    "    l: 1,\n",
    "    r: 0.1,\n",
    "    m_p: 1,\n",
    "}"
   ]
  },
  {
   "cell_type": "code",
   "execution_count": 25,
   "metadata": {
    "collapsed": true
   },
   "outputs": [],
   "source": [
    "import pylab as pl"
   ]
  },
  {
   "cell_type": "code",
   "execution_count": 26,
   "metadata": {
    "collapsed": false
   },
   "outputs": [
    {
     "data": {
      "text/latex": [
       "$$\\left [ \\left[\\begin{matrix}0 & 1 & 0 & 0\\\\0 & \\frac{b_{damp} \\left(J_{p} + l m_{p} r\\right)}{J_{p} m_{p} r^{2} - l^{2} m_{p}^{2} r^{2}} & \\frac{g l^{2} m_{p}^{2} r^{2}}{J_{p} m_{p} r^{2} - l^{2} m_{p}^{2} r^{2}} & \\frac{b_{damp} r \\left(J_{p} + l m_{p} r\\right)}{J_{p} m_{p} r^{2} - l^{2} m_{p}^{2} r^{2}}\\\\0 & 0 & 0 & 1\\\\0 & \\frac{b_{damp} \\left(l m_{p} r + m_{p} r^{2}\\right)}{r \\left(J_{p} m_{p} r^{2} - l^{2} m_{p}^{2} r^{2}\\right)} & \\frac{g l m_{p}^{2} r^{2}}{J_{p} m_{p} r^{2} - l^{2} m_{p}^{2} r^{2}} & \\frac{b_{damp} \\left(l m_{p} r + m_{p} r^{2}\\right)}{J_{p} m_{p} r^{2} - l^{2} m_{p}^{2} r^{2}}\\end{matrix}\\right], \\quad \\left[\\begin{matrix}0\\\\- \\frac{b_{emf} r \\left(J_{p} + l m_{p} r\\right)}{J_{p} m_{p} r^{2} - l^{2} m_{p}^{2} r^{2}}\\\\0\\\\- \\frac{b_{emf} \\left(l m_{p} r + m_{p} r^{2}\\right)}{J_{p} m_{p} r^{2} - l^{2} m_{p}^{2} r^{2}}\\end{matrix}\\right], \\quad \\left[\\begin{matrix}1 & 0 & 0 & 0\\\\0 & 1 & 0 & 0\\\\0 & 0 & 1 & 0\\\\0 & 0 & 0 & 1\\end{matrix}\\right], \\quad \\left[\\begin{matrix}0\\\\0\\\\0\\\\0\\end{matrix}\\right]\\right ]$$"
      ],
      "text/plain": [
       "⎡⎡0               1                          0                         0      \n",
       "⎢⎢                                                                            \n",
       "⎢⎢                                         2    2  2                          \n",
       "⎢⎢      b_damp⋅(J_p + l⋅m_p⋅r)          g⋅l ⋅m_p ⋅r        b_damp⋅r⋅(J_p + l⋅m\n",
       "⎢⎢0    ───────────────────────    ───────────────────────  ───────────────────\n",
       "⎢⎢              2    2    2  2             2    2    2  2           2    2    \n",
       "⎢⎢     J_p⋅m_p⋅r  - l ⋅m_p ⋅r     J_p⋅m_p⋅r  - l ⋅m_p ⋅r   J_p⋅m_p⋅r  - l ⋅m_p\n",
       "⎢⎢                                                                            \n",
       "⎢⎢0               0                          0                         1      \n",
       "⎢⎢                                                                            \n",
       "⎢⎢           ⎛               2⎞                2  2               ⎛           \n",
       "⎢⎢    b_damp⋅⎝l⋅m_p⋅r + m_p⋅r ⎠         g⋅l⋅m_p ⋅r         b_damp⋅⎝l⋅m_p⋅r + m\n",
       "⎢⎢0  ───────────────────────────  ───────────────────────  ───────────────────\n",
       "⎢⎢     ⎛         2    2    2  2⎞           2    2    2  2            2    2   \n",
       "⎣⎣   r⋅⎝J_p⋅m_p⋅r  - l ⋅m_p ⋅r ⎠  J_p⋅m_p⋅r  - l ⋅m_p ⋅r    J_p⋅m_p⋅r  - l ⋅m_\n",
       "\n",
       "      ⎤, ⎡            0             ⎤, ⎡1  0  0  0⎤, ⎡0⎤⎤\n",
       "      ⎥  ⎢                          ⎥  ⎢          ⎥  ⎢ ⎥⎥\n",
       "      ⎥  ⎢-b_emf⋅r⋅(J_p + l⋅m_p⋅r)  ⎥  ⎢0  1  0  0⎥  ⎢0⎥⎥\n",
       "_p⋅r) ⎥  ⎢───────────────────────── ⎥  ⎢          ⎥  ⎢ ⎥⎥\n",
       "───── ⎥  ⎢          2    2    2  2  ⎥  ⎢0  0  1  0⎥  ⎢0⎥⎥\n",
       "2  2  ⎥  ⎢ J_p⋅m_p⋅r  - l ⋅m_p ⋅r   ⎥  ⎢          ⎥  ⎢ ⎥⎥\n",
       " ⋅r   ⎥  ⎢                          ⎥  ⎣0  0  0  1⎦  ⎣0⎦⎥\n",
       "      ⎥  ⎢            0             ⎥                   ⎥\n",
       "      ⎥  ⎢                          ⎥                   ⎥\n",
       "      ⎥  ⎢       ⎛               2⎞ ⎥                   ⎥\n",
       "    2⎞⎥  ⎢-b_emf⋅⎝l⋅m_p⋅r + m_p⋅r ⎠ ⎥                   ⎥\n",
       "_p⋅r ⎠⎥  ⎢──────────────────────────⎥                   ⎥\n",
       "──────⎥  ⎢          2    2    2  2  ⎥                   ⎥\n",
       " 2  2 ⎥  ⎣ J_p⋅m_p⋅r  - l ⋅m_p ⋅r   ⎦                   ⎥\n",
       "p ⋅r  ⎦                                                 ⎦"
      ]
     },
     "execution_count": 26,
     "metadata": {},
     "output_type": "execute_result"
    }
   ],
   "source": [
    "ss0"
   ]
  },
  {
   "cell_type": "code",
   "execution_count": 27,
   "metadata": {
    "collapsed": false
   },
   "outputs": [
    {
     "data": {
      "text/plain": [
       "A = [[ 0.   1.   0.   0. ]\n",
       " [ 0.   0.   9.8  0. ]\n",
       " [ 0.   0.   0.   1. ]\n",
       " [ 0.   0.   9.8  0. ]]\n",
       "\n",
       "B = [[  0.]\n",
       " [-21.]\n",
       " [  0.]\n",
       " [-11.]]\n",
       "\n",
       "C = [[ 1.  0.  0.  0.]\n",
       " [ 0.  1.  0.  0.]\n",
       " [ 0.  0.  1.  0.]\n",
       " [ 0.  0.  0.  1.]]\n",
       "\n",
       "D = [[ 0.]\n",
       " [ 0.]\n",
       " [ 0.]\n",
       " [ 0.]]"
      ]
     },
     "execution_count": 27,
     "metadata": {},
     "output_type": "execute_result"
    }
   ],
   "source": [
    "sys0 = control.ss(*[pl.array(mat_i.subs(sub_const)).astype(float) for mat_i in ss0])\n",
    "sys0"
   ]
  },
  {
   "cell_type": "code",
   "execution_count": 28,
   "metadata": {
    "collapsed": false
   },
   "outputs": [],
   "source": [
    "def tf_clean(tf, tol=1e-3):\n",
    "    import copy\n",
    "    num = copy.deepcopy(tf.num)\n",
    "    den = copy.deepcopy(tf.den)\n",
    "    for i_u in range(tf.inputs):\n",
    "        for i_y in range(tf.outputs):\n",
    "            num[i_y][i_u] = pl.where(abs(num[i_y][i_u]) < tol, pl.zeros(num[i_y][i_u].shape), num[i_y][i_u])\n",
    "            den[i_y][i_u] = pl.where(abs(den[i_y][i_u]) < tol, pl.zeros(den[i_y][i_u].shape), den[i_y][i_u])\n",
    "    return control.tf(num,den)"
   ]
  },
  {
   "cell_type": "code",
   "execution_count": 29,
   "metadata": {
    "collapsed": false
   },
   "outputs": [
    {
     "data": {
      "text/plain": [
       "\n",
       "   -11\n",
       "---------\n",
       "s^2 - 9.8"
      ]
     },
     "execution_count": 29,
     "metadata": {},
     "output_type": "execute_result"
    }
   ],
   "source": [
    "tf_20 = tf_clean(control.ss2tf(sys0[2,0]))\n",
    "tf_20"
   ]
  },
  {
   "cell_type": "markdown",
   "metadata": {},
   "source": [
    "Figure out pole zero cancellation in python control toolbox."
   ]
  },
  {
   "cell_type": "code",
   "execution_count": 30,
   "metadata": {
    "collapsed": false
   },
   "outputs": [
    {
     "data": {
      "text/plain": [
       "\n",
       "   -11\n",
       "---------\n",
       "s^2 - 9.8"
      ]
     },
     "execution_count": 30,
     "metadata": {},
     "output_type": "execute_result"
    }
   ],
   "source": [
    "tf_20 = control.tf([-11],[1,0,-9.8])\n",
    "tf_20"
   ]
  },
  {
   "cell_type": "code",
   "execution_count": 31,
   "metadata": {
    "collapsed": false
   },
   "outputs": [
    {
     "name": "stderr",
     "output_type": "stream",
     "text": [
      "/usr/local/lib/python2.7/dist-packages/control/freqplot.py:124: FutureWarning: comparison to `None` will result in an elementwise object comparison in the future.\n",
      "  if (omega == None):\n"
     ]
    },
    {
     "data": {
      "image/png": "[encoded data removed]",
      "text/plain": [
       "<matplotlib.figure.Figure at 0x7ff3d775fcd0>"
      ]
     },
     "metadata": {},
     "output_type": "display_data"
    }
   ],
   "source": [
    "control.bode(tf_20, omega=pl.logspace(-2,4));"
   ]
  },
  {
   "cell_type": "code",
   "execution_count": 32,
   "metadata": {
    "collapsed": false
   },
   "outputs": [
    {
     "data": {
      "text/plain": [
       "array([-20,  20, -20,  20])"
      ]
     },
     "execution_count": 32,
     "metadata": {},
     "output_type": "execute_result"
    },
    {
     "data": {
      "image/png": "[encoded data removed]",
      "text/plain": [
       "<matplotlib.figure.Figure at 0x7ff3d75ea2d0>"
      ]
     },
     "metadata": {},
     "output_type": "display_data"
    }
   ],
   "source": [
    "control.rlocus(tf_20);\n",
    "pl.axis(20*pl.array([-1,1,-1,1]))"
   ]
  },
  {
   "cell_type": "code",
   "execution_count": 33,
   "metadata": {
    "collapsed": false
   },
   "outputs": [
    {
     "data": {
      "text/plain": [
       "(array([[  1.        ,   2.00048462, -14.2631815 ,  -6.44414536]]),\n",
       " array([[  2.00048462,   1.50096935,  -6.44414536,  -2.95639604],\n",
       "        [  1.50096935,   2.27934366,  -9.93501762,  -4.5333365 ],\n",
       "        [ -6.44414536,  -9.93501762,  45.78496013,  20.26350468],\n",
       "        [ -2.95639604,  -4.5333365 ,  20.26350468,   9.2403829 ]]),\n",
       " array([-23.94398880+0.j        ,  -1.00657153+0.j        ,\n",
       "         -1.96243072+0.46371317j,  -1.96243072-0.46371317j], dtype=complex64))"
      ]
     },
     "execution_count": 33,
     "metadata": {},
     "output_type": "execute_result"
    }
   ],
   "source": [
    "K, S, E = control.lqr(sys0.A, sys0.B, pl.eye(sys0.A.shape[0]), pl.eye(sys0.B.shape[1]))\n",
    "K, S, E"
   ]
  },
  {
   "cell_type": "code",
   "execution_count": null,
   "metadata": {
    "collapsed": false,
    "scrolled": true
   },
   "outputs": [],
   "source": []
  },
  {
   "cell_type": "code",
   "execution_count": 34,
   "metadata": {
    "collapsed": false
   },
   "outputs": [
    {
     "ename": "NameError",
     "evalue": "name 'eom' is not defined",
     "output_type": "error",
     "traceback": [
      "\u001b[1;31m---------------------------------------------------------------------------\u001b[0m",
      "\u001b[1;31mNameError\u001b[0m                                 Traceback (most recent call last)",
      "\u001b[1;32m<ipython-input-34-e28a34415f1f>\u001b[0m in \u001b[0;36m<module>\u001b[1;34m()\u001b[0m\n\u001b[1;32m----> 1\u001b[1;33m \u001b[0meom\u001b[0m\u001b[1;33m\u001b[0m\u001b[0m\n\u001b[0m",
      "\u001b[1;31mNameError\u001b[0m: name 'eom' is not defined"
     ]
    }
   ],
   "source": [
    "eom"
   ]
  },
  {
   "cell_type": "code",
   "execution_count": null,
   "metadata": {
    "collapsed": true
   },
   "outputs": [],
   "source": [
    "import scipy.integrate\n",
    "\n",
    "sim = scipy.integrate.ode("
   ]
  },
  {
   "cell_type": "code",
   "execution_count": null,
   "metadata": {
    "collapsed": false
   },
   "outputs": [],
   "source": [
    "print Xdot"
   ]
  },
  {
   "cell_type": "code",
   "execution_count": null,
   "metadata": {
    "collapsed": false
   },
   "outputs": [],
   "source": [
    "print X\n",
    "print U"
   ]
  },
  {
   "cell_type": "code",
   "execution_count": null,
   "metadata": {
    "collapsed": false
   },
   "outputs": [],
   "source": [
    "x_vect = sympy.DeferredVector('x')\n",
    "u_vect = sympy.DeferredVector('u')\n",
    "ss_sub = {X[i]:x_vect[i] for i in range(len(X))}\n",
    "ss_sub.update({U[i]:u_vect[i] for i in range(len(U))})\n",
    "ss_sub"
   ]
  },
  {
   "cell_type": "code",
   "execution_count": null,
   "metadata": {
    "collapsed": false
   },
   "outputs": [],
   "source": [
    "Xdot.subs(sub_const).subs(ss_sub)"
   ]
  },
  {
   "cell_type": "code",
   "execution_count": null,
   "metadata": {
    "collapsed": true
   },
   "outputs": [],
   "source": [
    "print x"
   ]
  },
  {
   "cell_type": "code",
   "execution_count": null,
   "metadata": {
    "collapsed": false
   },
   "outputs": [],
   "source": [
    "print Xdot.subs(sub_const)"
   ]
  },
  {
   "cell_type": "code",
   "execution_count": null,
   "metadata": {
    "collapsed": false
   },
   "outputs": [],
   "source": [
    "import numpy\n",
    "f_eval = sympy.lambdify([t, x_vect, u_vect], Xdot.subs(sub_const).subs(ss_sub),\n",
    "                        [{'ImmutableMatrix': numpy.array}, 'numpy'])\n",
    "f_eval(0, pl.array([0,0,0,0]), pl.array([0]))"
   ]
  },
  {
   "cell_type": "code",
   "execution_count": null,
   "metadata": {
    "collapsed": false
   },
   "outputs": [],
   "source": [
    "sim = scipy.integrate.ode(f_eval)\n",
    "x0 = [0.5,0,0.5,0]\n",
    "u = 0\n",
    "sim.set_initial_value(x0)\n",
    "sim.set_f_params(u)\n",
    "dt = 0.01\n",
    "tf = 2\n",
    "data = {\n",
    "    't': [],\n",
    "    'u': [],\n",
    "    'y': [],\n",
    "    'x': [],\n",
    "}\n",
    "\n",
    "while sim.t + dt < tf:\n",
    "    x = sim.y\n",
    "    y = x # fix\n",
    "    u = -K.dot(x)\n",
    "    sim.set_f_params(u)\n",
    "    sim.integrate(sim.t + dt)\n",
    "    data['t'].append(sim.t)\n",
    "    data['u'].append(u)\n",
    "    data['x'].append(x)\n",
    "    data['y'].append(y)\n",
    "    "
   ]
  },
  {
   "cell_type": "code",
   "execution_count": null,
   "metadata": {
    "collapsed": false
   },
   "outputs": [],
   "source": [
    "h_nl = pl.plot(data['t'], data['y'], 'r-');\n",
    "sysc = sys0.feedback(K)\n",
    "t, y, x = control.forced_response(sysc, X0=x0, T=pl.linspace(0,tf), transpose=True)\n",
    "h_l = pl.plot(t, y, 'k--');\n",
    "pl.legend([h_nl[0], h_l[0]], ['non-linear', 'linear'], loc='best')\n",
    "pl.grid()"
   ]
  },
  {
   "cell_type": "markdown",
   "metadata": {
    "collapsed": true
   },
   "source": [
    "# System Identification - Pendulum"
   ]
  },
  {
   "cell_type": "code",
   "execution_count": 148,
   "metadata": {
    "collapsed": false
   },
   "outputs": [
    {
     "data": {
      "text/latex": [
       "$$(J_{p} \\ddot{\\theta} - l R_{x} \\operatorname{cos}\\left(\\theta\\right) - l R_{z} \\operatorname{sin}\\left(\\theta\\right) - T)\\mathbf{\\hat{b}_y}$$"
      ],
      "text/plain": [
       "⎛      2                                                      ⎞\n",
       "⎜     d                                                       ⎟\n",
       "⎜J_p⋅───(θ(t)) - l⋅Rₓ(t)⋅cos(θ(t)) - l⋅R_z(t)⋅sin(θ(t)) - T(t)⎟\n",
       "⎜      2                                                      ⎟\n",
       "⎝    dt                                                       ⎠ b_y"
      ]
     },
     "execution_count": 148,
     "metadata": {},
     "output_type": "execute_result"
    }
   ],
   "source": [
    "eom_pend_Euler"
   ]
  },
  {
   "cell_type": "code",
   "execution_count": 173,
   "metadata": {
    "collapsed": false
   },
   "outputs": [
    {
     "data": {
      "text/latex": [
       "$$\\alpha{\\left (t \\right )} + \\theta{\\left (t \\right )}$$"
      ],
      "text/plain": [
       "α(t) + θ(t)"
      ]
     },
     "execution_count": 173,
     "metadata": {},
     "output_type": "execute_result"
    }
   ],
   "source": [
    "pend_sysID_const = theta(t) + alpha(t)\n",
    "pend_sysID_const"
   ]
  },
  {
   "cell_type": "code",
   "execution_count": 174,
   "metadata": {
    "collapsed": false
   },
   "outputs": [],
   "source": [
    "sol_pend_sysID = sympy.solve(\n",
    "    [pend_sysID_const,pend_sysID_const.diff(t),pend_sysID_const.diff(t, 2)] +\n",
    "    list(eom_pend_Newt.to_matrix(frame_i)) + \n",
    "    list(eom_pend_Euler.to_matrix(frame_i)) + [eom_motor],\n",
    "            [R_x(t), R_z(t), theta(t).diff(t,2), T(t), alpha(t).diff(t, 2), alpha(t).diff(t)])"
   ]
  },
  {
   "cell_type": "code",
   "execution_count": 175,
   "metadata": {
    "collapsed": false
   },
   "outputs": [
    {
     "data": {
      "text/latex": [
       "$$\\left \\{ \\operatorname{R_{x}}{\\left (t \\right )} : \\frac{m_{p}}{J_{motor} + J_{p} + l^{2} m_{p}} \\left(b_{damp} l \\cos{\\left (\\theta{\\left (t \\right )} \\right )} \\frac{d}{d t} \\theta{\\left (t \\right )} + k_{emf} l V{\\left (t \\right )} \\cos{\\left (\\theta{\\left (t \\right )} \\right )} - l^{2} m_{p} \\left(g - l \\cos{\\left (\\theta{\\left (t \\right )} \\right )} \\left(\\frac{d}{d t} \\theta{\\left (t \\right )}\\right)^{2}\\right) \\sin{\\left (\\theta{\\left (t \\right )} \\right )} \\cos{\\left (\\theta{\\left (t \\right )} \\right )} + \\left(l \\sin{\\left (\\theta{\\left (t \\right )} \\right )} \\left(\\frac{d}{d t} \\theta{\\left (t \\right )}\\right)^{2} + \\frac{d^{2}}{d t^{2}}  x{\\left (t \\right )}\\right) \\left(J_{motor} + J_{p} + l^{2} m_{p} \\sin^{2}{\\left (\\theta{\\left (t \\right )} \\right )}\\right)\\right), \\quad \\operatorname{R_{z}}{\\left (t \\right )} : \\frac{m_{p}}{J_{motor} + J_{p} + l^{2} m_{p}} \\left(b_{damp} l \\sin{\\left (\\theta{\\left (t \\right )} \\right )} \\frac{d}{d t} \\theta{\\left (t \\right )} + k_{emf} l V{\\left (t \\right )} \\sin{\\left (\\theta{\\left (t \\right )} \\right )} - l^{2} m_{p} \\left(l \\sin{\\left (\\theta{\\left (t \\right )} \\right )} \\left(\\frac{d}{d t} \\theta{\\left (t \\right )}\\right)^{2} + \\frac{d^{2}}{d t^{2}}  x{\\left (t \\right )}\\right) \\sin{\\left (\\theta{\\left (t \\right )} \\right )} \\cos{\\left (\\theta{\\left (t \\right )} \\right )} + \\left(g - l \\cos{\\left (\\theta{\\left (t \\right )} \\right )} \\left(\\frac{d}{d t} \\theta{\\left (t \\right )}\\right)^{2}\\right) \\left(J_{motor} + J_{p} + l^{2} m_{p} \\cos^{2}{\\left (\\theta{\\left (t \\right )} \\right )}\\right)\\right), \\quad T{\\left (t \\right )} : - \\frac{1}{J_{motor} + J_{p} + l^{2} m_{p}} \\left(J_{motor} g l m_{p} \\sin{\\left (\\theta{\\left (t \\right )} \\right )} + J_{motor} l m_{p} \\cos{\\left (\\theta{\\left (t \\right )} \\right )} \\frac{d^{2}}{d t^{2}}  x{\\left (t \\right )} + J_{p} b_{damp} \\frac{d}{d t} \\theta{\\left (t \\right )} + J_{p} k_{emf} V{\\left (t \\right )} + b_{damp} l^{2} m_{p} \\frac{d}{d t} \\theta{\\left (t \\right )} + k_{emf} l^{2} m_{p} V{\\left (t \\right )}\\right), \\quad \\frac{d}{d t} \\alpha{\\left (t \\right )} : - \\frac{d}{d t} \\theta{\\left (t \\right )}, \\quad \\frac{d^{2}}{d t^{2}}  \\alpha{\\left (t \\right )} : \\frac{1}{J_{motor} + J_{p} + l^{2} m_{p}} \\left(b_{damp} \\frac{d}{d t} \\theta{\\left (t \\right )} - g l m_{p} \\sin{\\left (\\theta{\\left (t \\right )} \\right )} + k_{emf} V{\\left (t \\right )} - l m_{p} \\cos{\\left (\\theta{\\left (t \\right )} \\right )} \\frac{d^{2}}{d t^{2}}  x{\\left (t \\right )}\\right), \\quad \\frac{d^{2}}{d t^{2}}  \\theta{\\left (t \\right )} : \\frac{1}{J_{motor} + J_{p} + l^{2} m_{p}} \\left(- b_{damp} \\frac{d}{d t} \\theta{\\left (t \\right )} + g l m_{p} \\sin{\\left (\\theta{\\left (t \\right )} \\right )} - k_{emf} V{\\left (t \\right )} + l m_{p} \\cos{\\left (\\theta{\\left (t \\right )} \\right )} \\frac{d^{2}}{d t^{2}}  x{\\left (t \\right )}\\right)\\right \\}$$"
      ],
      "text/plain": [
       "⎧           ⎛                                                              ⎛  \n",
       "⎪           ⎜                   d                                    2     ⎜  \n",
       "⎪       m_p⋅⎜b_damp⋅l⋅cos(θ(t))⋅──(θ(t)) + k_emf⋅l⋅V(t)⋅cos(θ(t)) - l ⋅m_p⋅⎜g \n",
       "⎪           ⎜                   dt                                         ⎝  \n",
       "⎨           ⎝                                                                 \n",
       "⎪Rₓ(t): ──────────────────────────────────────────────────────────────────────\n",
       "⎪                                                                             \n",
       "⎪                                                                             \n",
       "⎩                                                                             \n",
       "\n",
       "                        2⎞                       ⎛                      2     \n",
       "              ⎛d       ⎞ ⎟                       ⎜            ⎛d       ⎞     d\n",
       "- l⋅cos(θ(t))⋅⎜──(θ(t))⎟ ⎟⋅sin(θ(t))⋅cos(θ(t)) + ⎜l⋅sin(θ(t))⋅⎜──(θ(t))⎟  + ──\n",
       "              ⎝dt      ⎠ ⎠                       ⎜            ⎝dt      ⎠      \n",
       "                                                 ⎝                          dt\n",
       "──────────────────────────────────────────────────────────────────────────────\n",
       "                                 2                                            \n",
       "                J_motor + J_p + l ⋅m_p                                        \n",
       "                                                                              \n",
       "\n",
       "2      ⎞                                    ⎞              ⎛                  \n",
       "       ⎟ ⎛                 2        2      ⎞⎟              ⎜                  \n",
       "─(x(t))⎟⋅⎝J_motor + J_p + l ⋅m_p⋅sin (θ(t))⎠⎟          m_p⋅⎜b_damp⋅l⋅sin(θ(t))\n",
       "2      ⎟                                    ⎟              ⎜                  \n",
       "       ⎠                                    ⎠              ⎝                  \n",
       "─────────────────────────────────────────────, R_z(t): ───────────────────────\n",
       "                                                                              \n",
       "                                                                              \n",
       "                                                                              \n",
       "\n",
       "                                            ⎛                      2     2    \n",
       " d                                    2     ⎜            ⎛d       ⎞     d     \n",
       "⋅──(θ(t)) + k_emf⋅l⋅V(t)⋅sin(θ(t)) - l ⋅m_p⋅⎜l⋅sin(θ(t))⋅⎜──(θ(t))⎟  + ───(x(t\n",
       " dt                                         ⎜            ⎝dt      ⎠      2    \n",
       "                                            ⎝                          dt     \n",
       "──────────────────────────────────────────────────────────────────────────────\n",
       "                                                                              \n",
       "                                                               J_motor + J_p +\n",
       "                                                                              \n",
       "\n",
       "  ⎞                       ⎛                          2⎞                       \n",
       "  ⎟                       ⎜                ⎛d       ⎞ ⎟ ⎛                 2   \n",
       "))⎟⋅sin(θ(t))⋅cos(θ(t)) + ⎜g - l⋅cos(θ(t))⋅⎜──(θ(t))⎟ ⎟⋅⎝J_motor + J_p + l ⋅m_\n",
       "  ⎟                       ⎝                ⎝dt      ⎠ ⎠                       \n",
       "  ⎠                                                                           \n",
       "──────────────────────────────────────────────────────────────────────────────\n",
       "  2                                                                           \n",
       " l ⋅m_p                                                                       \n",
       "                                                                              \n",
       "\n",
       "             ⎞         ⎛                                                      \n",
       "     2      ⎞⎟         ⎜                                                     d\n",
       "p⋅cos (θ(t))⎠⎟        -⎜J_motor⋅g⋅l⋅m_p⋅sin(θ(t)) + J_motor⋅l⋅m_p⋅cos(θ(t))⋅──\n",
       "             ⎟         ⎜                                                      \n",
       "             ⎠         ⎝                                                    dt\n",
       "──────────────, T(t): ────────────────────────────────────────────────────────\n",
       "                                                                              \n",
       "                                                                              \n",
       "                                                                              \n",
       "\n",
       "2                                                                             \n",
       "                     d                                   2     d              \n",
       "─(x(t)) + J_p⋅b_damp⋅──(θ(t)) + J_p⋅k_emf⋅V(t) + b_damp⋅l ⋅m_p⋅──(θ(t)) + k_em\n",
       "2                    dt                                        dt             \n",
       "                                                                              \n",
       "──────────────────────────────────────────────────────────────────────────────\n",
       "                         2                                                    \n",
       "        J_motor + J_p + l ⋅m_p                                                \n",
       "                                                                              \n",
       "\n",
       "             ⎞                                                                \n",
       "   2         ⎟                                          d                     \n",
       "f⋅l ⋅m_p⋅V(t)⎟                                   b_damp⋅──(θ(t)) - g⋅l⋅m_p⋅sin\n",
       "             ⎟                          2               dt                    \n",
       "             ⎠   d          d          d                                      \n",
       "───────────────, ──(α(t)): -──(θ(t)), ───(α(t)): ─────────────────────────────\n",
       "                 dt         dt          2                                     \n",
       "                                      dt                                    J_\n",
       "                                                                              \n",
       "\n",
       "                                        2                                     \n",
       "                                       d                             d        \n",
       "(θ(t)) + k_emf⋅V(t) - l⋅m_p⋅cos(θ(t))⋅───(x(t))             - b_damp⋅──(θ(t)) \n",
       "                                        2          2                 dt       \n",
       "                                      dt          d                           \n",
       "───────────────────────────────────────────────, ───(θ(t)): ──────────────────\n",
       "               2                                   2                          \n",
       "motor + J_p + l ⋅m_p                             dt                           \n",
       "                                                                              \n",
       "\n",
       "                                                     2      ⎫\n",
       "                                                    d       ⎪\n",
       "+ g⋅l⋅m_p⋅sin(θ(t)) - k_emf⋅V(t) + l⋅m_p⋅cos(θ(t))⋅───(x(t))⎪\n",
       "                                                     2      ⎪\n",
       "                                                   dt       ⎬\n",
       "────────────────────────────────────────────────────────────⎪\n",
       "                           2                                ⎪\n",
       "          J_motor + J_p + l ⋅m_p                            ⎪\n",
       "                                                            ⎭"
      ]
     },
     "execution_count": 175,
     "metadata": {},
     "output_type": "execute_result"
    }
   ],
   "source": [
    "sol_pend_sysID"
   ]
  },
  {
   "cell_type": "code",
   "execution_count": 176,
   "metadata": {
    "collapsed": false
   },
   "outputs": [
    {
     "data": {
      "text/latex": [
       "$$\\frac{1}{J_{motor} + J_{p} + l^{2} m_{p}} \\left(- b_{damp} \\frac{d}{d t} \\theta{\\left (t \\right )} + g l m_{p} \\sin{\\left (\\theta{\\left (t \\right )} \\right )}\\right) - \\frac{d^{2}}{d t^{2}}  \\theta{\\left (t \\right )}$$"
      ],
      "text/plain": [
       "         d                                       \n",
       "- b_damp⋅──(θ(t)) + g⋅l⋅m_p⋅sin(θ(t))     2      \n",
       "         dt                              d       \n",
       "───────────────────────────────────── - ───(θ(t))\n",
       "                         2                2      \n",
       "        J_motor + J_p + l ⋅m_p          dt       "
      ]
     },
     "execution_count": 176,
     "metadata": {},
     "output_type": "execute_result"
    }
   ],
   "source": [
    "pend_sysID = (sol_pend_sysID[theta(t).diff(t,2)].subs({x(t).diff(t,2):0, V(t):0}) - theta(t).diff(t,2))\n",
    "pend_sysID"
   ]
  },
  {
   "cell_type": "code",
   "execution_count": 177,
   "metadata": {
    "collapsed": false
   },
   "outputs": [
    {
     "data": {
      "text/latex": [
       "$$- J_{motor} \\frac{d^{2}}{d t^{2}}  \\alpha{\\left (t \\right )} - b_{damp} \\frac{d}{d t} \\alpha{\\left (t \\right )} + k_{emf} V{\\left (t \\right )} + T{\\left (t \\right )}$$"
      ],
      "text/plain": [
       "            2                                            \n",
       "           d                 d                           \n",
       "- J_motor⋅───(α(t)) - b_damp⋅──(α(t)) + k_emf⋅V(t) + T(t)\n",
       "            2                dt                          \n",
       "          dt                                             "
      ]
     },
     "execution_count": 177,
     "metadata": {},
     "output_type": "execute_result"
    }
   ],
   "source": [
    "eom_motor"
   ]
  },
  {
   "cell_type": "code",
   "execution_count": 131,
   "metadata": {
    "collapsed": false
   },
   "outputs": [
    {
     "data": {
      "text/latex": [
       "$$- J_{motor} \\frac{d^{2}}{d t^{2}}  \\alpha{\\left (t \\right )} - b_{damp} \\frac{d}{d t} \\alpha{\\left (t \\right )} + k_{emf} V{\\left (t \\right )}$$"
      ],
      "text/plain": [
       "            2                                     \n",
       "           d                 d                    \n",
       "- J_motor⋅───(α(t)) - b_damp⋅──(α(t)) + k_emf⋅V(t)\n",
       "            2                dt                   \n",
       "          dt                                      "
      ]
     },
     "execution_count": 131,
     "metadata": {},
     "output_type": "execute_result"
    }
   ],
   "source": [
    "motor_sysID = eom_motor.subs({T(t):0})\n",
    "motor_sysID"
   ]
  },
  {
   "cell_type": "code",
   "execution_count": 4,
   "metadata": {
    "collapsed": false
   },
   "outputs": [],
   "source": []
  },
  {
   "cell_type": "code",
   "execution_count": 21,
   "metadata": {
    "collapsed": true
   },
   "outputs": [],
   "source": [
    "with open('data/segway/motor_sysid/sess001/log001.csv', 'r') as loadfile:\n",
    "    data1 = px4_logutil.px4_log_to_namedtuple(loadfile)"
   ]
  },
  {
   "cell_type": "code",
   "execution_count": 22,
   "metadata": {
    "collapsed": false
   },
   "outputs": [
    {
     "data": {
      "image/png": "[encoded data removed]",
      "text/plain": [
       "<matplotlib.figure.Figure at 0x7fc04c634850>"
      ]
     },
     "metadata": {},
     "output_type": "display_data"
    }
   ],
   "source": [
    "data = data1\n",
    "def do_plotting(data):\n",
    "    i_start = 400\n",
    "    i_end = -1\n",
    "    t = (data.TIME.StartTime[i_start:i_end] -  data1.TIME.StartTime[i_start])/1e6\n",
    "    V = data.BATT.V[i_start:i_end]\n",
    "    #pl.plot(t, data.ENCD.cnt0[i_start:i_end])\n",
    "    #pl.plot(t, data.ENCD.vel0[i_start:i_end])\n",
    "    pl.plot(t, V*(data.OUT1.Out0[i_start:i_end] - 1500)/1500)\n",
    "do_plotting(data1)"
   ]
  },
  {
   "cell_type": "code",
   "execution_count": 17,
   "metadata": {
    "collapsed": false
   },
   "outputs": [
    {
     "data": {
      "text/plain": [
       "[<matplotlib.lines.Line2D at 0x7fc04c837310>]"
      ]
     },
     "execution_count": 17,
     "metadata": {},
     "output_type": "execute_result"
    },
    {
     "data": {
      "image/png": "[encoded data removed]",
      "text/plain": [
       "<matplotlib.figure.Figure at 0x7fc04c908210>"
      ]
     },
     "metadata": {},
     "output_type": "display_data"
    }
   ],
   "source": []
  },
  {
   "cell_type": "code",
   "execution_count": null,
   "metadata": {
    "collapsed": true
   },
   "outputs": [],
   "source": []
  }
 ],
 "metadata": {
  "kernelspec": {
   "display_name": "Python 2",
   "language": "python",
   "name": "python2"
  },
  "language_info": {
   "codemirror_mode": {
    "name": "ipython",
    "version": 2
   },
   "file_extension": ".py",
   "mimetype": "text/x-python",
   "name": "python",
   "nbconvert_exporter": "python",
   "pygments_lexer": "ipython2",
   "version": "2.7.6"
  }
 },
 "nbformat": 4,
 "nbformat_minor": 0
}
