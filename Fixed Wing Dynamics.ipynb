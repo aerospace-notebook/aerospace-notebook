{
 "cells": [
  {
   "cell_type": "code",
   "execution_count": 1,
   "metadata": {
    "collapsed": false
   },
   "outputs": [
    {
     "name": "stdout",
     "output_type": "stream",
     "text": [
      "importing IPython notebook from Aircraft Kinematics.ipynb\n"
     ]
    },
    {
     "data": {
      "text/plain": [
       "u'%.3f'"
      ]
     },
     "execution_count": 1,
     "metadata": {},
     "output_type": "execute_result"
    }
   ],
   "source": [
    "import nbimport\n",
    "from Aircraft_Kinematics import body_b, body_w, frame_i, frame_b, frame_w, bke, t, m, point_cm_w, \\\n",
    "    V_T, alpha, beta, sol_rot, sol_euler_rates, sol_vel_wind, P, Q, R, phi, theta, psi, M_bx, M_by, M_bz, \\\n",
    "    point_cm_b, M_wx, M_wy, M_wz, J_x, J_y, J_z, J_xz, sol_trans_wind, F_wx, F_wy, F_wz\n",
    "import sympy\n",
    "import scipy.optimize\n",
    "import statespace\n",
    "import pylab as pl\n",
    "import control\n",
    "g, L, C, D, T = sympy.symbols('g, L, C, D, T')\n",
    "ail, elv, rdr, thr = sympy.symbols('ail, elv, rdr, thr')\n",
    "%load_ext autoreload\n",
    "%autoreload 2\n",
    "%precision 3"
   ]
  },
  {
   "cell_type": "code",
   "execution_count": 2,
   "metadata": {
    "collapsed": false
   },
   "outputs": [
    {
     "data": {
      "text/latex": [
       "$$g m\\mathbf{\\hat{i}_z} -  D\\mathbf{\\hat{w}_x} -  C\\mathbf{\\hat{w}_y} -  L\\mathbf{\\hat{w}_z} + T\\mathbf{\\hat{b}_x}$$"
      ],
      "text/plain": [
       "g⋅m i_z - D w_x - C w_y - L w_z + T b_x"
      ]
     },
     "execution_count": 2,
     "metadata": {},
     "output_type": "execute_result"
    }
   ],
   "source": [
    "F = m*g*frame_i.z - L(t)*frame_w.z - C(t)*frame_w.y - D(t)*frame_w.x + T(t)*frame_b.x\n",
    "F"
   ]
  },
  {
   "cell_type": "code",
   "execution_count": 3,
   "metadata": {
    "collapsed": false
   },
   "outputs": [
    {
     "data": {
      "text/latex": [
       "$$\\left \\{ \\dot{V}_{T} : g \\operatorname{sin}\\left(\\alpha\\right) \\operatorname{cos}\\left(\\phi\\right) \\operatorname{cos}\\left(\\theta\\right) + g \\operatorname{sin}\\left(\\beta\\right) \\operatorname{sin}\\left(\\phi\\right) \\operatorname{cos}\\left(\\alpha\\right) \\operatorname{cos}\\left(\\theta\\right) - g \\operatorname{sin}\\left(\\theta\\right) \\operatorname{cos}\\left(\\alpha\\right) \\operatorname{cos}\\left(\\beta\\right) - \\frac{D}{m} + \\frac{T \\operatorname{cos}\\left(\\alpha\\right)}{m} \\operatorname{cos}\\left(\\beta\\right), \\quad \\dot{\\alpha} : \\frac{1}{m V_{T}} \\left(- g m \\operatorname{sin}\\left(\\alpha\\right) \\operatorname{sin}\\left(\\beta\\right) \\operatorname{sin}\\left(\\phi\\right) \\operatorname{cos}\\left(\\theta\\right) + g m \\operatorname{sin}\\left(\\alpha\\right) \\operatorname{sin}\\left(\\theta\\right) \\operatorname{cos}\\left(\\beta\\right) + g m \\operatorname{cos}\\left(\\alpha\\right) \\operatorname{cos}\\left(\\phi\\right) \\operatorname{cos}\\left(\\theta\\right) - m P V_{T} \\operatorname{sin}\\left(\\beta\\right) + m Q V_{T} \\operatorname{cos}\\left(\\beta\\right) - L - T \\operatorname{sin}\\left(\\alpha\\right) \\operatorname{cos}\\left(\\beta\\right)\\right), \\quad \\dot{\\beta} : \\frac{1}{m V_{T} \\operatorname{cos}\\left(\\alpha\\right)} \\left(g m \\operatorname{sin}\\left(\\beta\\right) \\operatorname{sin}\\left(\\theta\\right) + g m \\operatorname{sin}\\left(\\phi\\right) \\operatorname{cos}\\left(\\beta\\right) \\operatorname{cos}\\left(\\theta\\right) + m P V_{T} \\operatorname{sin}\\left(\\alpha\\right) \\operatorname{cos}\\left(\\beta\\right) + m Q V_{T} \\operatorname{sin}\\left(\\alpha\\right) \\operatorname{sin}\\left(\\beta\\right) - m R V_{T} \\operatorname{cos}\\left(\\alpha\\right) - C - T \\operatorname{sin}\\left(\\beta\\right)\\right)\\right \\}$$"
      ],
      "text/plain": [
       "⎧                                                                             \n",
       "⎨V_̇T: g⋅sin(α)⋅cos(φ)⋅cos(θ) + g⋅sin(β)⋅sin(φ)⋅cos(α)⋅cos(θ) - g⋅sin(θ)⋅cos(α\n",
       "⎩                                                                             \n",
       "\n",
       "           D   T⋅cos(α)⋅cos(β)      -g⋅m⋅sin(α)⋅sin(β)⋅sin(φ)⋅cos(θ) + g⋅m⋅sin\n",
       ")⋅cos(β) - ─ + ───────────────, α̇: ──────────────────────────────────────────\n",
       "           m          m                                                       \n",
       "\n",
       "(α)⋅sin(θ)⋅cos(β) + g⋅m⋅cos(α)⋅cos(φ)⋅cos(θ) - m⋅P⋅V_T⋅sin(β) + m⋅Q⋅V_T⋅cos(β)\n",
       "──────────────────────────────────────────────────────────────────────────────\n",
       "                          m⋅V_T                                               \n",
       "\n",
       " - L - T⋅sin(α)⋅cos(β)      g⋅m⋅sin(β)⋅sin(θ) + g⋅m⋅sin(φ)⋅cos(β)⋅cos(θ) + m⋅P\n",
       "──────────────────────, β̇: ──────────────────────────────────────────────────\n",
       "                                                                              \n",
       "\n",
       "⋅V_T⋅sin(α)⋅cos(β) + m⋅Q⋅V_T⋅sin(α)⋅sin(β) - m⋅R⋅V_T⋅cos(α) - C - T⋅sin(β)⎫\n",
       "──────────────────────────────────────────────────────────────────────────⎬\n",
       "      m⋅V_T⋅cos(α)                                                        ⎭"
      ]
     },
     "execution_count": 3,
     "metadata": {},
     "output_type": "execute_result"
    }
   ],
   "source": [
    "di_L_i = bke(body_w.linear_momentum(frame_i), frame_i, frame_w, t) \n",
    "sol_trans = sympy.solve((di_L_i - F).to_matrix(frame_w), [xi(t).diff(t) for xi in [V_T, alpha, beta]])\n",
    "sol_trans"
   ]
  },
  {
   "cell_type": "code",
   "execution_count": 4,
   "metadata": {
    "collapsed": false
   },
   "outputs": [],
   "source": [
    "M = frame_w.x*M_wx(t) + frame_w.y*M_wy(t) + frame_w.z*M_wz(t)"
   ]
  },
  {
   "cell_type": "code",
   "execution_count": 5,
   "metadata": {
    "collapsed": false
   },
   "outputs": [
    {
     "data": {
      "text/latex": [
       "$$(J_{x} \\dot{P} + J_{xz} \\dot{R} - J_{y} Q R + \\left(J_{xz} P + J_{z} R\\right) Q)\\mathbf{\\hat{b}_x} + (J_{y} \\dot{Q} + \\left(J_{x} P + J_{xz} R\\right) R - \\left(J_{xz} P + J_{z} R\\right) P)\\mathbf{\\hat{b}_y} + (J_{xz} \\dot{P} + J_{y} P Q + J_{z} \\dot{R} - \\left(J_{x} P + J_{xz} R\\right) Q)\\mathbf{\\hat{b}_z}$$"
      ],
      "text/plain": [
       "(Jₓ⋅Ṗ + J_xz⋅Ṙ - J_y⋅Q⋅R + (J_xz⋅P + J_z⋅R)⋅Q) b_x + (J_y⋅Q̇ + (Jₓ⋅P + J_xz⋅R)⋅R - (J_xz⋅P + J_z⋅R)⋅P) b_y + (J_xz⋅Ṗ + J_y⋅P⋅Q + J_z⋅Ṙ - (Jₓ⋅P + J_xz⋅R)⋅Q) b_z"
      ]
     },
     "execution_count": 5,
     "metadata": {},
     "output_type": "execute_result"
    }
   ],
   "source": [
    "di_H_i = bke(body_b.angular_momentum(point_cm_b, frame_i), frame_i, frame_b, t)\n",
    "di_H_i"
   ]
  },
  {
   "cell_type": "code",
   "execution_count": 6,
   "metadata": {
    "collapsed": false
   },
   "outputs": [
    {
     "data": {
      "text/latex": [
       "$$\\left \\{ \\dot{P} : - \\frac{1}{J_{x} J_{z} - J_{xz}^{2}} \\left(J_{xz} \\left(J_{x} P Q + J_{xz} Q R - J_{y} P Q + M_{wx} \\operatorname{sin}\\left(\\alpha\\right) + M_{wz} \\operatorname{cos}\\left(\\alpha\\right)\\right) + J_{z} \\left(J_{xz} P Q - J_{y} Q R + J_{z} Q R - M_{wx} \\operatorname{cos}\\left(\\alpha\\right) \\operatorname{cos}\\left(\\beta\\right) + M_{wy} \\operatorname{sin}\\left(\\beta\\right) + M_{wz} \\operatorname{sin}\\left(\\alpha\\right) \\operatorname{cos}\\left(\\beta\\right)\\right)\\right), \\quad \\dot{Q} : \\frac{1}{J_{y}} \\left(- J_{x} P R + J_{xz} P^{2} - J_{xz} R^{2} + J_{z} P R + M_{wx} \\operatorname{sin}\\left(\\beta\\right) \\operatorname{cos}\\left(\\alpha\\right) + M_{wy} \\operatorname{cos}\\left(\\beta\\right) - M_{wz} \\operatorname{sin}\\left(\\alpha\\right) \\operatorname{sin}\\left(\\beta\\right)\\right), \\quad \\dot{R} : \\frac{1}{J_{x} J_{z} - J_{xz}^{2}} \\left(J_{x} \\left(J_{x} P Q + J_{xz} Q R - J_{y} P Q + M_{wx} \\operatorname{sin}\\left(\\alpha\\right) + M_{wz} \\operatorname{cos}\\left(\\alpha\\right)\\right) + J_{xz} \\left(J_{xz} P Q - J_{y} Q R + J_{z} Q R - M_{wx} \\operatorname{cos}\\left(\\alpha\\right) \\operatorname{cos}\\left(\\beta\\right) + M_{wy} \\operatorname{sin}\\left(\\beta\\right) + M_{wz} \\operatorname{sin}\\left(\\alpha\\right) \\operatorname{cos}\\left(\\beta\\right)\\right)\\right)\\right \\}$$"
      ],
      "text/plain": [
       "⎧                                                                             \n",
       "⎪    -(J_xz⋅(Jₓ⋅P⋅Q + J_xz⋅Q⋅R - J_y⋅P⋅Q + M_wx⋅sin(α) + M_wz⋅cos(α)) + J_z⋅(J\n",
       "⎨Ṗ: ─────────────────────────────────────────────────────────────────────────\n",
       "⎪                                                                             \n",
       "⎩                                                                             \n",
       "\n",
       "                                                                              \n",
       "_xz⋅P⋅Q - J_y⋅Q⋅R + J_z⋅Q⋅R - M_wx⋅cos(α)⋅cos(β) + M_wy⋅sin(β) + M_wz⋅sin(α)⋅c\n",
       "──────────────────────────────────────────────────────────────────────────────\n",
       "             2                                                                \n",
       "Jₓ⋅J_z - J_xz                                                                 \n",
       "\n",
       "                              2         2                                     \n",
       "os(β)))       -Jₓ⋅P⋅R + J_xz⋅P  - J_xz⋅R  + J_z⋅P⋅R + M_wx⋅sin(β)⋅cos(α) + M_w\n",
       "────────, Q̇: ────────────────────────────────────────────────────────────────\n",
       "                                                           J_y                \n",
       "                                                                              \n",
       "\n",
       "                                                                              \n",
       "y⋅cos(β) - M_wz⋅sin(α)⋅sin(β)      Jₓ⋅(Jₓ⋅P⋅Q + J_xz⋅Q⋅R - J_y⋅P⋅Q + M_wx⋅sin(\n",
       "─────────────────────────────, Ṙ: ───────────────────────────────────────────\n",
       "                                                                              \n",
       "                                                                              \n",
       "\n",
       "                                                                              \n",
       "α) + M_wz⋅cos(α)) + J_xz⋅(J_xz⋅P⋅Q - J_y⋅Q⋅R + J_z⋅Q⋅R - M_wx⋅cos(α)⋅cos(β) + \n",
       "──────────────────────────────────────────────────────────────────────────────\n",
       "                                        2                                     \n",
       "                           Jₓ⋅J_z - J_xz                                      \n",
       "\n",
       "                                 ⎫\n",
       "M_wy⋅sin(β) + M_wz⋅sin(α)⋅cos(β))⎪\n",
       "─────────────────────────────────⎬\n",
       "                                 ⎪\n",
       "                                 ⎭"
      ]
     },
     "execution_count": 6,
     "metadata": {},
     "output_type": "execute_result"
    }
   ],
   "source": [
    "sol_rot = sympy.solve((M - di_H_i).to_matrix(frame_b), [xi(t).diff(t) for xi in [P, Q, R]])\n",
    "sol_rot"
   ]
  },
  {
   "cell_type": "code",
   "execution_count": 7,
   "metadata": {
    "collapsed": false
   },
   "outputs": [
    {
     "data": {
      "text/latex": [
       "$$\\left[\\begin{matrix}\\frac{1}{J_{y}} \\left(- J_{x} P R + J_{xz} P^{2} - J_{xz} R^{2} + J_{z} P R + M_{wx} \\operatorname{sin}\\left(\\beta\\right) \\operatorname{cos}\\left(\\alpha\\right) + M_{wy} \\operatorname{cos}\\left(\\beta\\right) - M_{wz} \\operatorname{sin}\\left(\\alpha\\right) \\operatorname{sin}\\left(\\beta\\right)\\right)\\\\Q \\operatorname{cos}\\left(\\phi\\right) - R \\operatorname{sin}\\left(\\phi\\right)\\\\g \\operatorname{sin}\\left(\\alpha\\right) \\operatorname{cos}\\left(\\phi\\right) \\operatorname{cos}\\left(\\theta\\right) + g \\operatorname{sin}\\left(\\beta\\right) \\operatorname{sin}\\left(\\phi\\right) \\operatorname{cos}\\left(\\alpha\\right) \\operatorname{cos}\\left(\\theta\\right) - g \\operatorname{sin}\\left(\\theta\\right) \\operatorname{cos}\\left(\\alpha\\right) \\operatorname{cos}\\left(\\beta\\right) - \\frac{D}{m} + \\frac{T \\operatorname{cos}\\left(\\alpha\\right)}{m} \\operatorname{cos}\\left(\\beta\\right)\\\\\\frac{1}{V_{T} m} \\left(- P V_{T} m \\operatorname{sin}\\left(\\beta\\right) + Q V_{T} m \\operatorname{cos}\\left(\\beta\\right) - g m \\operatorname{sin}\\left(\\alpha\\right) \\operatorname{sin}\\left(\\beta\\right) \\operatorname{sin}\\left(\\phi\\right) \\operatorname{cos}\\left(\\theta\\right) + g m \\operatorname{sin}\\left(\\alpha\\right) \\operatorname{sin}\\left(\\theta\\right) \\operatorname{cos}\\left(\\beta\\right) + g m \\operatorname{cos}\\left(\\alpha\\right) \\operatorname{cos}\\left(\\phi\\right) \\operatorname{cos}\\left(\\theta\\right) - L - T \\operatorname{sin}\\left(\\alpha\\right) \\operatorname{cos}\\left(\\beta\\right)\\right)\\\\- \\frac{1}{J_{x} J_{z} - J_{xz}^{2}} \\left(J_{xz} \\left(J_{x} P Q + J_{xz} Q R - J_{y} P Q + M_{wx} \\operatorname{sin}\\left(\\alpha\\right) + M_{wz} \\operatorname{cos}\\left(\\alpha\\right)\\right) + J_{z} \\left(J_{xz} P Q - J_{y} Q R + J_{z} Q R - M_{wx} \\operatorname{cos}\\left(\\alpha\\right) \\operatorname{cos}\\left(\\beta\\right) + M_{wy} \\operatorname{sin}\\left(\\beta\\right) + M_{wz} \\operatorname{sin}\\left(\\alpha\\right) \\operatorname{cos}\\left(\\beta\\right)\\right)\\right)\\\\\\frac{1}{J_{x} J_{z} - J_{xz}^{2}} \\left(J_{x} \\left(J_{x} P Q + J_{xz} Q R - J_{y} P Q + M_{wx} \\operatorname{sin}\\left(\\alpha\\right) + M_{wz} \\operatorname{cos}\\left(\\alpha\\right)\\right) + J_{xz} \\left(J_{xz} P Q - J_{y} Q R + J_{z} Q R - M_{wx} \\operatorname{cos}\\left(\\alpha\\right) \\operatorname{cos}\\left(\\beta\\right) + M_{wy} \\operatorname{sin}\\left(\\beta\\right) + M_{wz} \\operatorname{sin}\\left(\\alpha\\right) \\operatorname{cos}\\left(\\beta\\right)\\right)\\right)\\\\P + Q \\operatorname{sin}\\left(\\phi\\right) \\operatorname{tan}\\left(\\theta\\right) + R \\operatorname{cos}\\left(\\phi\\right) \\operatorname{tan}\\left(\\theta\\right)\\\\\\frac{1}{V_{T} m \\operatorname{cos}\\left(\\alpha\\right)} \\left(P V_{T} m \\operatorname{sin}\\left(\\alpha\\right) \\operatorname{cos}\\left(\\beta\\right) + Q V_{T} m \\operatorname{sin}\\left(\\alpha\\right) \\operatorname{sin}\\left(\\beta\\right) - R V_{T} m \\operatorname{cos}\\left(\\alpha\\right) + g m \\operatorname{sin}\\left(\\beta\\right) \\operatorname{sin}\\left(\\theta\\right) + g m \\operatorname{sin}\\left(\\phi\\right) \\operatorname{cos}\\left(\\beta\\right) \\operatorname{cos}\\left(\\theta\\right) - C - T \\operatorname{sin}\\left(\\beta\\right)\\right)\\end{matrix}\\right]$$"
      ],
      "text/plain": [
       "⎡                                                 2         2                 \n",
       "⎢                                 -Jₓ⋅P⋅R + J_xz⋅P  - J_xz⋅R  + J_z⋅P⋅R + M_wx\n",
       "⎢                                 ────────────────────────────────────────────\n",
       "⎢                                                                             \n",
       "⎢                                                                             \n",
       "⎢                                                                      Q⋅cos(φ\n",
       "⎢                                                                             \n",
       "⎢                                                                             \n",
       "⎢                             g⋅sin(α)⋅cos(φ)⋅cos(θ) + g⋅sin(β)⋅sin(φ)⋅cos(α)⋅\n",
       "⎢                                                                             \n",
       "⎢                                                                             \n",
       "⎢        -P⋅V_T⋅m⋅sin(β) + Q⋅V_T⋅m⋅cos(β) - g⋅m⋅sin(α)⋅sin(β)⋅sin(φ)⋅cos(θ) + \n",
       "⎢        ─────────────────────────────────────────────────────────────────────\n",
       "⎢                                                                            V\n",
       "⎢                                                                             \n",
       "⎢-(J_xz⋅(Jₓ⋅P⋅Q + J_xz⋅Q⋅R - J_y⋅P⋅Q + M_wx⋅sin(α) + M_wz⋅cos(α)) + J_z⋅(J_xz⋅\n",
       "⎢─────────────────────────────────────────────────────────────────────────────\n",
       "⎢                                                                             \n",
       "⎢                                                                         Jₓ⋅J\n",
       "⎢                                                                             \n",
       "⎢  Jₓ⋅(Jₓ⋅P⋅Q + J_xz⋅Q⋅R - J_y⋅P⋅Q + M_wx⋅sin(α) + M_wz⋅cos(α)) + J_xz⋅(J_xz⋅P\n",
       "⎢  ───────────────────────────────────────────────────────────────────────────\n",
       "⎢                                                                             \n",
       "⎢                                                                        Jₓ⋅J_\n",
       "⎢                                                                             \n",
       "⎢                                                             P + Q⋅sin(φ)⋅tan\n",
       "⎢                                                                             \n",
       "⎢                 P⋅V_T⋅m⋅sin(α)⋅cos(β) + Q⋅V_T⋅m⋅sin(α)⋅sin(β) - R⋅V_T⋅m⋅cos(\n",
       "⎢                 ────────────────────────────────────────────────────────────\n",
       "⎣                                                                         V_T⋅\n",
       "\n",
       "                                                                              \n",
       "⋅sin(β)⋅cos(α) + M_wy⋅cos(β) - M_wz⋅sin(α)⋅sin(β)                             \n",
       "─────────────────────────────────────────────────                             \n",
       " J_y                                                                          \n",
       "                                                                              \n",
       ") - R⋅sin(φ)                                                                  \n",
       "                                                                              \n",
       "                                  D   T⋅cos(α)⋅cos(β)                         \n",
       "cos(θ) - g⋅sin(θ)⋅cos(α)⋅cos(β) - ─ + ───────────────                         \n",
       "                                  m          m                                \n",
       "                                                                              \n",
       "g⋅m⋅sin(α)⋅sin(θ)⋅cos(β) + g⋅m⋅cos(α)⋅cos(φ)⋅cos(θ) - L - T⋅sin(α)⋅cos(β)     \n",
       "─────────────────────────────────────────────────────────────────────────     \n",
       "_T⋅m                                                                          \n",
       "                                                                              \n",
       "P⋅Q - J_y⋅Q⋅R + J_z⋅Q⋅R - M_wx⋅cos(α)⋅cos(β) + M_wy⋅sin(β) + M_wz⋅sin(α)⋅cos(β\n",
       "──────────────────────────────────────────────────────────────────────────────\n",
       "         2                                                                    \n",
       "_z - J_xz                                                                     \n",
       "                                                                              \n",
       "⋅Q - J_y⋅Q⋅R + J_z⋅Q⋅R - M_wx⋅cos(α)⋅cos(β) + M_wy⋅sin(β) + M_wz⋅sin(α)⋅cos(β)\n",
       "──────────────────────────────────────────────────────────────────────────────\n",
       "        2                                                                     \n",
       "z - J_xz                                                                      \n",
       "                                                                              \n",
       "(θ) + R⋅cos(φ)⋅tan(θ)                                                         \n",
       "                                                                              \n",
       "α) + g⋅m⋅sin(β)⋅sin(θ) + g⋅m⋅sin(φ)⋅cos(β)⋅cos(θ) - C - T⋅sin(β)              \n",
       "────────────────────────────────────────────────────────────────              \n",
       "m⋅cos(α)                                                                      \n",
       "\n",
       "    ⎤\n",
       "    ⎥\n",
       "    ⎥\n",
       "    ⎥\n",
       "    ⎥\n",
       "    ⎥\n",
       "    ⎥\n",
       "    ⎥\n",
       "    ⎥\n",
       "    ⎥\n",
       "    ⎥\n",
       "    ⎥\n",
       "    ⎥\n",
       "    ⎥\n",
       "    ⎥\n",
       "))) ⎥\n",
       "────⎥\n",
       "    ⎥\n",
       "    ⎥\n",
       "    ⎥\n",
       ")   ⎥\n",
       "─   ⎥\n",
       "    ⎥\n",
       "    ⎥\n",
       "    ⎥\n",
       "    ⎥\n",
       "    ⎥\n",
       "    ⎥\n",
       "    ⎥\n",
       "    ⎦"
      ]
     },
     "execution_count": 7,
     "metadata": {},
     "output_type": "execute_result"
    }
   ],
   "source": [
    "eoms = {}\n",
    "eoms.update(sol_euler_rates)\n",
    "eoms.update(sol_trans)\n",
    "eoms.update(sol_vel_wind)\n",
    "eoms.update(sol_rot)\n",
    "\n",
    "x_vect = sympy.Matrix([Q, theta, V_T, alpha, P, R, phi, beta])\n",
    "u_vect = sympy.Matrix([elv, thr, ail, rdr])\n",
    "sub_no_t = {xi(t): xi for xi in x_vect}\n",
    "f_vect = sympy.Matrix([eoms[xi(t).diff(t)].subs(sub_no_t) for xi in x_vect])\n",
    "f_vect"
   ]
  },
  {
   "cell_type": "code",
   "execution_count": 8,
   "metadata": {
    "collapsed": false
   },
   "outputs": [
    {
     "data": {
      "text/latex": [
       "$$\\left \\{ C : \\frac{S \\beta}{2} V_{T}^{2} \\rho, \\quad D : \\frac{S \\rho}{2} V_{T}^{2} \\left(C_{D 0} + k_{CD CL} \\left(- CL_{CD min} + C_{L0} + C_{L \\alpha} \\alpha\\right)^{2}\\right), \\quad L : \\frac{S \\rho}{2} V_{T}^{2} \\left(C_{L0} + C_{L \\alpha} \\alpha\\right), \\quad M_{wx} : \\frac{S \\rho}{2} V_{T}^{2} \\left(- P + ail - \\beta\\right), \\quad M_{wy} : \\frac{S \\rho}{2} V_{T}^{2} \\left(- Q - \\alpha + elv\\right), \\quad M_{wz} : \\frac{S \\rho}{2} V_{T}^{2} \\left(- R - \\beta + rdr\\right), \\quad T : 10 thr\\right \\}$$"
      ],
      "text/plain": [
       "⎧        2              2   ⎛                                             2⎞  \n",
       "⎪   S⋅V_T ⋅β⋅ρ     S⋅V_T ⋅ρ⋅⎝C_D_0 + k_CD_CL⋅(-CL_CD_min + C_L0 + C_L_α⋅α) ⎠  \n",
       "⎨C: ──────────, D: ─────────────────────────────────────────────────────────, \n",
       "⎪       2                                      2                              \n",
       "⎩                                                                             \n",
       "\n",
       "        2                                2                              2     \n",
       "   S⋅V_T ⋅ρ⋅(C_L0 + C_L_α⋅α)        S⋅V_T ⋅ρ⋅(-P + ail - β)        S⋅V_T ⋅ρ⋅(-\n",
       "L: ─────────────────────────, M_wx: ───────────────────────, M_wy: ───────────\n",
       "               2                               2                              \n",
       "                                                                              \n",
       "\n",
       "                         2                            ⎫\n",
       "Q - α + elv)        S⋅V_T ⋅ρ⋅(-R - β + rdr)           ⎪\n",
       "────────────, M_wz: ───────────────────────, T: 10⋅thr⎬\n",
       "2                              2                      ⎪\n",
       "                                                      ⎭"
      ]
     },
     "execution_count": 8,
     "metadata": {},
     "output_type": "execute_result"
    }
   ],
   "source": [
    "C_L_0, C_L_alpha, k_CD_CL, C_D_0, CL_CD_min, rho, S = \\\n",
    "sympy.symbols('C_L0 C_L_alpha k_CD_CL C_D_0 CL_CD_min, rho, S')\n",
    "C_L = C_L_0 + C_L_alpha*alpha\n",
    "C_D = C_D_0 + k_CD_CL*(C_L - CL_CD_min)**2\n",
    "C_C = beta # todo\n",
    "C_T = 10\n",
    "C_l = -P -beta + ail\n",
    "C_m = -Q -alpha + elv\n",
    "C_n = -R -beta + rdr\n",
    "q = rho*V_T**2/2\n",
    "sub_aero_model = {\n",
    "    L(t): C_L*q*S,\n",
    "    D(t): C_D*q*S,\n",
    "    C(t): C_C*q*S,\n",
    "    T(t): C_T*thr,\n",
    "    M_wx(t): C_l*q*S,# todo\n",
    "    M_wy(t): C_m*q*S,# todo\n",
    "    M_wz(t): C_n*q*S,# todo\n",
    "}\n",
    "sub_aero_model"
   ]
  },
  {
   "cell_type": "code",
   "execution_count": 9,
   "metadata": {
    "collapsed": false,
    "scrolled": true
   },
   "outputs": [
    {
     "data": {
      "text/latex": [
       "$$\\left[\\begin{matrix}\\frac{1}{J_{y}} \\left(- J_{x} P R + J_{xz} P^{2} - J_{xz} R^{2} + J_{z} P R - \\frac{S \\rho}{2} V_{T}^{2} \\left(P - ail + \\beta\\right) \\operatorname{sin}\\left(\\beta\\right) \\operatorname{cos}\\left(\\alpha\\right) - \\frac{S \\rho}{2} V_{T}^{2} \\left(Q + \\alpha - elv\\right) \\operatorname{cos}\\left(\\beta\\right) + \\frac{S \\rho}{2} V_{T}^{2} \\left(R + \\beta - rdr\\right) \\operatorname{sin}\\left(\\alpha\\right) \\operatorname{sin}\\left(\\beta\\right)\\right)\\\\Q \\operatorname{cos}\\left(\\phi\\right) - R \\operatorname{sin}\\left(\\phi\\right)\\\\\\frac{1}{m} \\left(- \\frac{S \\rho}{2} V_{T}^{2} \\left(C_{D 0} + k_{CD CL} \\left(- CL_{CD min} + C_{L0} + C_{L \\alpha} \\alpha\\right)^{2}\\right) + g m \\left(\\operatorname{sin}\\left(\\alpha\\right) \\operatorname{cos}\\left(\\phi\\right) \\operatorname{cos}\\left(\\theta\\right) + \\operatorname{sin}\\left(\\beta\\right) \\operatorname{sin}\\left(\\phi\\right) \\operatorname{cos}\\left(\\alpha\\right) \\operatorname{cos}\\left(\\theta\\right) - \\operatorname{sin}\\left(\\theta\\right) \\operatorname{cos}\\left(\\alpha\\right) \\operatorname{cos}\\left(\\beta\\right)\\right) + 10 thr \\operatorname{cos}\\left(\\alpha\\right) \\operatorname{cos}\\left(\\beta\\right)\\right)\\\\\\frac{1}{V_{T} m} \\left(- P V_{T} m \\operatorname{sin}\\left(\\beta\\right) + Q V_{T} m \\operatorname{cos}\\left(\\beta\\right) - \\frac{S \\rho}{2} V_{T}^{2} \\left(C_{L0} + C_{L \\alpha} \\alpha\\right) - g m \\operatorname{sin}\\left(\\alpha\\right) \\operatorname{sin}\\left(\\beta\\right) \\operatorname{sin}\\left(\\phi\\right) \\operatorname{cos}\\left(\\theta\\right) + g m \\operatorname{sin}\\left(\\alpha\\right) \\operatorname{sin}\\left(\\theta\\right) \\operatorname{cos}\\left(\\beta\\right) + g m \\operatorname{cos}\\left(\\alpha\\right) \\operatorname{cos}\\left(\\phi\\right) \\operatorname{cos}\\left(\\theta\\right) - 10 thr \\operatorname{sin}\\left(\\alpha\\right) \\operatorname{cos}\\left(\\beta\\right)\\right)\\\\\\frac{1}{2 J_{x} J_{z} - 2 J_{xz}^{2}} \\left(J_{xz} \\left(- 2 J_{x} P Q - 2 J_{xz} Q R + 2 J_{y} P Q + S V_{T}^{2} \\rho \\left(P - ail + \\beta\\right) \\operatorname{sin}\\left(\\alpha\\right) + S V_{T}^{2} \\rho \\left(R + \\beta - rdr\\right) \\operatorname{cos}\\left(\\alpha\\right)\\right) - J_{z} \\left(2 J_{xz} P Q - 2 J_{y} Q R + 2 J_{z} Q R + S V_{T}^{2} \\rho \\left(P - ail + \\beta\\right) \\operatorname{cos}\\left(\\alpha\\right) \\operatorname{cos}\\left(\\beta\\right) - S V_{T}^{2} \\rho \\left(Q + \\alpha - elv\\right) \\operatorname{sin}\\left(\\beta\\right) - S V_{T}^{2} \\rho \\left(R + \\beta - rdr\\right) \\operatorname{sin}\\left(\\alpha\\right) \\operatorname{cos}\\left(\\beta\\right)\\right)\\right)\\\\\\frac{1}{2 J_{x} J_{z} - 2 J_{xz}^{2}} \\left(- J_{x} \\left(- 2 J_{x} P Q - 2 J_{xz} Q R + 2 J_{y} P Q + S V_{T}^{2} \\rho \\left(P - ail + \\beta\\right) \\operatorname{sin}\\left(\\alpha\\right) + S V_{T}^{2} \\rho \\left(R + \\beta - rdr\\right) \\operatorname{cos}\\left(\\alpha\\right)\\right) + J_{xz} \\left(2 J_{xz} P Q - 2 J_{y} Q R + 2 J_{z} Q R + S V_{T}^{2} \\rho \\left(P - ail + \\beta\\right) \\operatorname{cos}\\left(\\alpha\\right) \\operatorname{cos}\\left(\\beta\\right) - S V_{T}^{2} \\rho \\left(Q + \\alpha - elv\\right) \\operatorname{sin}\\left(\\beta\\right) - S V_{T}^{2} \\rho \\left(R + \\beta - rdr\\right) \\operatorname{sin}\\left(\\alpha\\right) \\operatorname{cos}\\left(\\beta\\right)\\right)\\right)\\\\P + Q \\operatorname{sin}\\left(\\phi\\right) \\operatorname{tan}\\left(\\theta\\right) + R \\operatorname{cos}\\left(\\phi\\right) \\operatorname{tan}\\left(\\theta\\right)\\\\\\frac{1}{V_{T} m \\operatorname{cos}\\left(\\alpha\\right)} \\left(P V_{T} m \\operatorname{sin}\\left(\\alpha\\right) \\operatorname{cos}\\left(\\beta\\right) + Q V_{T} m \\operatorname{sin}\\left(\\alpha\\right) \\operatorname{sin}\\left(\\beta\\right) - R V_{T} m \\operatorname{cos}\\left(\\alpha\\right) - \\frac{S \\beta}{2} V_{T}^{2} \\rho + g m \\operatorname{sin}\\left(\\beta\\right) \\operatorname{sin}\\left(\\theta\\right) + g m \\operatorname{sin}\\left(\\phi\\right) \\operatorname{cos}\\left(\\beta\\right) \\operatorname{cos}\\left(\\theta\\right) - 10 thr \\operatorname{sin}\\left(\\beta\\right)\\right)\\end{matrix}\\right]$$"
      ],
      "text/plain": [
       "⎡                                                                             \n",
       "⎢                                                                        2    \n",
       "⎢                                                        -Jₓ⋅P⋅R + J_xz⋅P  - J\n",
       "⎢                                                                             \n",
       "⎢                                                        ─────────────────────\n",
       "⎢                                                                             \n",
       "⎢                                                                             \n",
       "⎢                                                                             \n",
       "⎢                                                                             \n",
       "⎢                                                      2   ⎛                  \n",
       "⎢                                                 S⋅V_T ⋅ρ⋅⎝C_D_0 + k_CD_CL⋅(-\n",
       "⎢                                               - ────────────────────────────\n",
       "⎢                                                                             \n",
       "⎢                                               ──────────────────────────────\n",
       "⎢                                                                             \n",
       "⎢                                                                             \n",
       "⎢                                                                             \n",
       "⎢                                                                             \n",
       "⎢                                            -P⋅V_T⋅m⋅sin(β) + Q⋅V_T⋅m⋅cos(β) \n",
       "⎢                                                                             \n",
       "⎢                                            ─────────────────────────────────\n",
       "⎢                                                                             \n",
       "⎢                                                                             \n",
       "⎢     ⎛                                          2                            \n",
       "⎢J_xz⋅⎝-2⋅Jₓ⋅P⋅Q - 2⋅J_xz⋅Q⋅R + 2⋅J_y⋅P⋅Q + S⋅V_T ⋅ρ⋅(P - ail + β)⋅sin(α) + S⋅\n",
       "⎢─────────────────────────────────────────────────────────────────────────────\n",
       "⎢                                                                             \n",
       "⎢                                                                             \n",
       "⎢                                                                             \n",
       "⎢     ⎛                                          2                            \n",
       "⎢- Jₓ⋅⎝-2⋅Jₓ⋅P⋅Q - 2⋅J_xz⋅Q⋅R + 2⋅J_y⋅P⋅Q + S⋅V_T ⋅ρ⋅(P - ail + β)⋅sin(α) + S⋅\n",
       "⎢─────────────────────────────────────────────────────────────────────────────\n",
       "⎢                                                                             \n",
       "⎢                                                                             \n",
       "⎢                                                                             \n",
       "⎢                                                                             \n",
       "⎢                                                                             \n",
       "⎢                                                                             \n",
       "⎢                                                                             \n",
       "⎢                                                            P⋅V_T⋅m⋅sin(α)⋅co\n",
       "⎢                                                                             \n",
       "⎢                                                            ─────────────────\n",
       "⎣                                                                             \n",
       "\n",
       "                        2                                      2              \n",
       "     2             S⋅V_T ⋅ρ⋅(P - ail + β)⋅sin(β)⋅cos(α)   S⋅V_T ⋅ρ⋅(Q + α - el\n",
       "_xz⋅R  + J_z⋅P⋅R - ──────────────────────────────────── - ────────────────────\n",
       "                                    2                                   2     \n",
       "──────────────────────────────────────────────────────────────────────────────\n",
       "                                                   J_y                        \n",
       "                                                                              \n",
       "                                           Q⋅cos(φ) - R⋅sin(φ)                \n",
       "                                                                              \n",
       "                           2⎞                                                 \n",
       "CL_CD_min + C_L0 + C_L_α⋅α) ⎠                                                 \n",
       "───────────────────────────── + g⋅m⋅(sin(α)⋅cos(φ)⋅cos(θ) + sin(β)⋅sin(φ)⋅cos(\n",
       "2                                                                             \n",
       "──────────────────────────────────────────────────────────────────────────────\n",
       "                                                   m                          \n",
       "                                                                              \n",
       "       2                                                                      \n",
       "  S⋅V_T ⋅ρ⋅(C_L0 + C_L_α⋅α)                                                   \n",
       "- ───────────────────────── - g⋅m⋅sin(α)⋅sin(β)⋅sin(φ)⋅cos(θ) + g⋅m⋅sin(α)⋅sin\n",
       "              2                                                               \n",
       "──────────────────────────────────────────────────────────────────────────────\n",
       "                                                  V_T⋅m                       \n",
       "                                                                              \n",
       "   2                       ⎞       ⎛                                          \n",
       "V_T ⋅ρ⋅(R + β - rdr)⋅cos(α)⎠ - J_z⋅⎝2⋅J_xz⋅P⋅Q - 2⋅J_y⋅Q⋅R + 2⋅J_z⋅Q⋅R + S⋅V_T\n",
       "──────────────────────────────────────────────────────────────────────────────\n",
       "                                             ⎛             2⎞                 \n",
       "                                           2⋅⎝Jₓ⋅J_z - J_xz ⎠                 \n",
       "                                                                              \n",
       "   2                       ⎞        ⎛                                         \n",
       "V_T ⋅ρ⋅(R + β - rdr)⋅cos(α)⎠ + J_xz⋅⎝2⋅J_xz⋅P⋅Q - 2⋅J_y⋅Q⋅R + 2⋅J_z⋅Q⋅R + S⋅V_\n",
       "──────────────────────────────────────────────────────────────────────────────\n",
       "                                              ⎛             2⎞                \n",
       "                                            2⋅⎝Jₓ⋅J_z - J_xz ⎠                \n",
       "                                                                              \n",
       "                                  P + Q⋅sin(φ)⋅tan(θ) + R⋅cos(φ)⋅tan(θ)       \n",
       "                                                                              \n",
       "                                                     2                        \n",
       "                                                S⋅V_T ⋅β⋅ρ                    \n",
       "s(β) + Q⋅V_T⋅m⋅sin(α)⋅sin(β) - R⋅V_T⋅m⋅cos(α) - ────────── + g⋅m⋅sin(β)⋅sin(θ)\n",
       "                                                    2                         \n",
       "──────────────────────────────────────────────────────────────────────────────\n",
       "                                              V_T⋅m⋅cos(α)                    \n",
       "\n",
       "                 2                                                            \n",
       "v)⋅cos(β)   S⋅V_T ⋅ρ⋅(R + β - rdr)⋅sin(α)⋅sin(β)                              \n",
       "───────── + ────────────────────────────────────                              \n",
       "                             2                                                \n",
       "────────────────────────────────────────────────                              \n",
       "                                                                              \n",
       "                                                                              \n",
       "                                                                              \n",
       "                                                                              \n",
       "                                                                              \n",
       "                                                                              \n",
       "α)⋅cos(θ) - sin(θ)⋅cos(α)⋅cos(β)) + 10⋅thr⋅cos(α)⋅cos(β)                      \n",
       "                                                                              \n",
       "────────────────────────────────────────────────────────                      \n",
       "                                                                              \n",
       "                                                                              \n",
       "                                                                              \n",
       "                                                                              \n",
       "(θ)⋅cos(β) + g⋅m⋅cos(α)⋅cos(φ)⋅cos(θ) - 10⋅thr⋅sin(α)⋅cos(β)                  \n",
       "                                                                              \n",
       "────────────────────────────────────────────────────────────                  \n",
       "                                                                              \n",
       "                                                                              \n",
       "2                                      2                               2      \n",
       " ⋅ρ⋅(P - ail + β)⋅cos(α)⋅cos(β) - S⋅V_T ⋅ρ⋅(Q + α - elv)⋅sin(β) - S⋅V_T ⋅ρ⋅(R \n",
       "──────────────────────────────────────────────────────────────────────────────\n",
       "                                                                              \n",
       "                                                                              \n",
       "                                                                              \n",
       " 2                                      2                               2     \n",
       "T ⋅ρ⋅(P - ail + β)⋅cos(α)⋅cos(β) - S⋅V_T ⋅ρ⋅(Q + α - elv)⋅sin(β) - S⋅V_T ⋅ρ⋅(R\n",
       "──────────────────────────────────────────────────────────────────────────────\n",
       "                                                                              \n",
       "                                                                              \n",
       "                                                                              \n",
       "                                                                              \n",
       "                                                                              \n",
       "                                                                              \n",
       "                                                                              \n",
       " + g⋅m⋅sin(φ)⋅cos(β)⋅cos(θ) - 10⋅thr⋅sin(β)                                   \n",
       "                                                                              \n",
       "───────────────────────────────────────────                                   \n",
       "                                                                              \n",
       "\n",
       "                          ⎤\n",
       "                          ⎥\n",
       "                          ⎥\n",
       "                          ⎥\n",
       "                          ⎥\n",
       "                          ⎥\n",
       "                          ⎥\n",
       "                          ⎥\n",
       "                          ⎥\n",
       "                          ⎥\n",
       "                          ⎥\n",
       "                          ⎥\n",
       "                          ⎥\n",
       "                          ⎥\n",
       "                          ⎥\n",
       "                          ⎥\n",
       "                          ⎥\n",
       "                          ⎥\n",
       "                          ⎥\n",
       "                          ⎥\n",
       "                          ⎥\n",
       "                          ⎥\n",
       "                          ⎥\n",
       "                        ⎞ ⎥\n",
       "+ β - rdr)⋅sin(α)⋅cos(β)⎠ ⎥\n",
       "───────────────────────── ⎥\n",
       "                          ⎥\n",
       "                          ⎥\n",
       "                          ⎥\n",
       "                         ⎞⎥\n",
       " + β - rdr)⋅sin(α)⋅cos(β)⎠⎥\n",
       "──────────────────────────⎥\n",
       "                          ⎥\n",
       "                          ⎥\n",
       "                          ⎥\n",
       "                          ⎥\n",
       "                          ⎥\n",
       "                          ⎥\n",
       "                          ⎥\n",
       "                          ⎥\n",
       "                          ⎥\n",
       "                          ⎥\n",
       "                          ⎦"
      ]
     },
     "execution_count": 9,
     "metadata": {},
     "output_type": "execute_result"
    }
   ],
   "source": [
    "f_aero_vect = f_vect.subs(sub_aero_model).applyfunc(lambda e:e.simplify())\n",
    "f_aero_vect"
   ]
  },
  {
   "cell_type": "code",
   "execution_count": 10,
   "metadata": {
    "collapsed": false
   },
   "outputs": [
    {
     "data": {
      "text/latex": [
       "$$\\left\\{CL_{CD min}, C_{D 0}, C_{L0}, C_{L \\alpha}, J_{x}, J_{xz}, J_{y}, J_{z}, S, ail, elv, g, k_{CD CL}, m, rdr, \\rho, thr\\right\\}$$"
      ],
      "text/plain": [
       "set([CL_CD_min, C_D_0, C_L0, C_L_α, Jₓ, J_xz, J_y, J_z, S, ail, elv, g, k_CD_C\n",
       "L, m, rdr, ρ, thr])"
      ]
     },
     "execution_count": 10,
     "metadata": {},
     "output_type": "execute_result"
    }
   ],
   "source": [
    "param = f_aero_vect.atoms(sympy.Symbol).difference(x_vect)\n",
    "param"
   ]
  },
  {
   "cell_type": "code",
   "execution_count": 11,
   "metadata": {
    "collapsed": false
   },
   "outputs": [],
   "source": [
    "#x_id = sympy.Matrix(list(x_vect) + list(param))\n",
    "#f_id_vect = sympy.Matrix(list(f_aero_vect) + list(sympy.zeros(len(param))))\n",
    "#A_id = f_id_vect.jacobian(x_id)\n",
    "#sub_x0 = {P:0, Q:0, R:0, phi:0, theta:0, alpha:0, beta:0}\n",
    "#A_id.subs(sub_x0)"
   ]
  },
  {
   "cell_type": "code",
   "execution_count": 12,
   "metadata": {
    "collapsed": false
   },
   "outputs": [],
   "source": [
    "sub_const = {\n",
    "    J_x:1, J_y:1, J_z:1, J_xz:0, m:1, rho:1.225, S:1, g:10,\n",
    "    C_L_alpha:3, C_L_0: 0.1, C_D_0: 0.01, k_CD_CL: 0.01, CL_CD_min:0,\n",
    "}"
   ]
  },
  {
   "cell_type": "code",
   "execution_count": 13,
   "metadata": {
    "collapsed": false
   },
   "outputs": [
    {
     "data": {
      "text/latex": [
       "$$\\left ( \\left[\\begin{matrix}Q & \\theta & V_{T} & \\alpha & P & R & \\phi & \\beta\\end{matrix}\\right], \\quad \\left[\\begin{matrix}elv & thr & ail & rdr\\end{matrix}\\right]\\right )$$"
      ],
      "text/plain": [
       "([Q  θ  V_T  α  P  R  φ  β], [elv  thr  ail  rdr])"
      ]
     },
     "execution_count": 13,
     "metadata": {},
     "output_type": "execute_result"
    }
   ],
   "source": [
    "x_vect.T, u_vect.T"
   ]
  },
  {
   "cell_type": "code",
   "execution_count": 14,
   "metadata": {
    "collapsed": false
   },
   "outputs": [],
   "source": [
    "def trim_level(V_T, gamma):\n",
    "    f1 = lambda theta, elv, thr: \\\n",
    "        pl.sum(ss.f_eval(0, [0, theta, V_T, gamma-theta, 0, 0, 0, 0], [elv, thr, 0, 0])**2)\n",
    "    res = scipy.optimize.minimize(lambda x:f1(theta=x[0], elv=x[1], thr=x[2]), [0,0,0])\n",
    "    theta_trim = res.x[0]\n",
    "    elv_trim = res.x[1]\n",
    "    thr_trim = res.x[2]\n",
    "    return [0, theta_trim, V_T, gamma - theta_trim, 0, 0, 0, 0], [elv_trim, thr_trim, 0, 0], res"
   ]
  },
  {
   "cell_type": "code",
   "execution_count": 15,
   "metadata": {
    "collapsed": false
   },
   "outputs": [
    {
     "data": {
      "text/latex": [
       "$$\\left ( \\left [ 0, \\quad 0.0196622211004, \\quad 20, \\quad -0.0196622211004, \\quad 0, \\quad 0, \\quad 0, \\quad 0\\right ], \\quad \\left [ -0.0196622285512, \\quad 0.284781460076, \\quad 0, \\quad 0\\right ]\\right )$$"
      ],
      "text/plain": [
       "([0, 0.0196622211004, 20, -0.0196622211004, 0, 0, 0, 0], [-0.0196622285512, 0.\n",
       "284781460076, 0, 0])"
      ]
     },
     "execution_count": 15,
     "metadata": {},
     "output_type": "execute_result"
    },
    {
     "data": {
      "image/png": "[encoded data removed]",
      "text/plain": [
       "<matplotlib.figure.Figure at 0x7f3f47cf5190>"
      ]
     },
     "metadata": {},
     "output_type": "display_data"
    }
   ],
   "source": [
    "ss = statespace.StateSpace(x_vect, u_vect, f_aero_vect.subs(sub_const), x_vect)\n",
    "x0, u0, res = trim_level(20, 0)\n",
    "data = ss.simulate(x0, u0,dt=0.01,tf=60)\n",
    "pl.plot(data.t, data.y);\n",
    "pl.grid()\n",
    "x0, u0"
   ]
  },
  {
   "cell_type": "code",
   "execution_count": 16,
   "metadata": {
    "collapsed": false
   },
   "outputs": [
    {
     "name": "stderr",
     "output_type": "stream",
     "text": [
      "/usr/local/lib/python2.7/dist-packages/control/freqplot.py:124: FutureWarning: comparison to `None` will result in an elementwise object comparison in the future.\n",
      "  if (omega == None):\n"
     ]
    },
    {
     "data": {
      "image/png": "[encoded data removed]",
      "text/plain": [
       "<matplotlib.figure.Figure at 0x7f3f475cfd10>"
      ]
     },
     "metadata": {},
     "output_type": "display_data"
    }
   ],
   "source": [
    "ss_lin = ss.linearize(x0, u0)\n",
    "control.bode(ss_lin.to_control()[0,0], omega=pl.logspace(-2,2));"
   ]
  },
  {
   "cell_type": "code",
   "execution_count": 17,
   "metadata": {
    "collapsed": false
   },
   "outputs": [
    {
     "name": "stderr",
     "output_type": "stream",
     "text": [
      "/usr/local/lib/python2.7/dist-packages/control/matlab.py:1136: FutureWarning: comparison to `None` will result in an elementwise object comparison in the future.\n",
      "  if klist == None:\n"
     ]
    },
    {
     "data": {
      "image/png": "[encoded data removed]",
      "text/plain": [
       "<matplotlib.figure.Figure at 0x7f3f6c375450>"
      ]
     },
     "metadata": {},
     "output_type": "display_data"
    }
   ],
   "source": [
    "control.rlocus(ss_lin.to_control()[0,0], klist=pl.linspace(0,1,1000));\n",
    "pl.grid()"
   ]
  },
  {
   "cell_type": "code",
   "execution_count": 18,
   "metadata": {
    "collapsed": false
   },
   "outputs": [
    {
     "data": {
      "image/png": "[encoded data removed]",
      "text/plain": [
       "<matplotlib.figure.Figure at 0x7f3f46c1e910>"
      ]
     },
     "metadata": {},
     "output_type": "display_data"
    },
    {
     "data": {
      "image/png": "[encoded data removed]",
      "text/plain": [
       "<matplotlib.figure.Figure at 0x7f3f475d4e10>"
      ]
     },
     "metadata": {},
     "output_type": "display_data"
    }
   ],
   "source": [
    "C_L_eval = sympy.lambdify(alpha, C_L.subs(sub_const))\n",
    "C_D_eval = sympy.lambdify(alpha, C_D.subs(sub_const))\n",
    "alpha_val = pl.linspace(-pl.deg2rad(15),pl.deg2rad(15))\n",
    "\n",
    "pl.figure()\n",
    "pl.plot(alpha_val, C_L_eval(alpha_val))\n",
    "pl.xlabel(r'$\\alpha$')\n",
    "pl.ylabel(r'$C_L$')\n",
    "pl.grid()\n",
    "\n",
    "pl.figure()\n",
    "pl.plot(C_L_eval(alpha_val), C_D_eval(alpha_val))\n",
    "pl.xlabel(r'$C_L$')\n",
    "pl.ylabel(r'$C_D$')\n",
    "pl.grid()"
   ]
  },
  {
   "cell_type": "code",
   "execution_count": 19,
   "metadata": {
    "collapsed": false
   },
   "outputs": [
    {
     "data": {
      "text/plain": [
       "array([[  4.175e-01,   1.411e+00,  -4.802e-02,  -2.839e-01,   2.836e-14,\n",
       "          3.277e-13,  -9.850e-13,   2.515e-13],\n",
       "       [ -1.971e-03,  -9.046e-01,   9.736e-01,   2.035e-01,  -2.513e-15,\n",
       "         -1.947e-14,   1.887e-12,  -1.215e-12],\n",
       "       [  2.191e-14,  -7.459e-13,  -5.215e-14,  -3.617e-14,   4.170e-01,\n",
       "         -7.601e-03,   9.713e-01,  -3.250e-01],\n",
       "       [  3.282e-13,  -2.508e-12,  -4.783e-13,  -7.556e-15,   8.763e-03,\n",
       "          4.152e-01,   6.116e-02,  -3.387e-01]])"
      ]
     },
     "execution_count": 19,
     "metadata": {},
     "output_type": "execute_result"
    }
   ],
   "source": [
    "K, S, E = control.lqr(ss_lin.A, ss_lin.B, pl.eye(8), pl.eye(4))\n",
    "K"
   ]
  },
  {
   "cell_type": "code",
   "execution_count": 20,
   "metadata": {
    "collapsed": true
   },
   "outputs": [],
   "source": [
    "class Autopilot(object):\n",
    "    \"\"\"\n",
    "    This class is a simple autopilot with an estimator and controller.\n",
    "    \"\"\"\n",
    "    def __init__(self, x0, u0, f_eval, g_eval):\n",
    "        self.time_contr = 0\n",
    "        self.time_est = 0\n",
    "        self.ode = scipy.integrate.ode(f_eval)\n",
    "\n",
    "    def predict(self, t):\n",
    "        self.ode.integrate(t)\n",
    "        \n"
   ]
  },
  {
   "cell_type": "code",
   "execution_count": 21,
   "metadata": {
    "collapsed": false
   },
   "outputs": [],
   "source": [
    "def f_contr(t, y):\n",
    "    x = y\n",
    "    return u0-K.dot(x-x0)"
   ]
  },
  {
   "cell_type": "code",
   "execution_count": 22,
   "metadata": {
    "collapsed": false
   },
   "outputs": [
    {
     "data": {
      "image/png": "[encoded data removed]",
      "text/plain": [
       "<matplotlib.figure.Figure at 0x7f3f47b12110>"
      ]
     },
     "metadata": {},
     "output_type": "display_data"
    }
   ],
   "source": [
    "x1 = x0 + pl.rand(8)\n",
    "data_lin = ss_lin.simulate(x1, u0, contr_eval=f_contr, dt=0.02)\n",
    "data = ss.simulate(x1, u0, contr_eval=f_contr, dt=0.02)\n",
    "h0 = pl.plot(data.t, data.x, 'b');\n",
    "h1 = pl.plot(data_lin.t, data_lin.x, 'r');\n",
    "pl.legend([h0[0], h1[0]], ['non-lin', 'lin'], loc='best')\n",
    "pl.grid()"
   ]
  },
  {
   "cell_type": "code",
   "execution_count": 23,
   "metadata": {
    "collapsed": false
   },
   "outputs": [
    {
     "data": {
      "image/png": "[encoded data removed]",
      "text/plain": [
       "<matplotlib.figure.Figure at 0x7f3f478aa410>"
      ]
     },
     "metadata": {},
     "output_type": "display_data"
    }
   ],
   "source": [
    "pl.plot(data.t, data_lin.x - data.x);\n",
    "pl.title('linearization error')\n",
    "pl.grid()"
   ]
  },
  {
   "cell_type": "code",
   "execution_count": 24,
   "metadata": {
    "collapsed": false
   },
   "outputs": [
    {
     "data": {
      "image/png": "[encoded data removed]",
      "text/plain": [
       "<matplotlib.figure.Figure at 0x7f3f47d02110>"
      ]
     },
     "metadata": {},
     "output_type": "display_data"
    }
   ],
   "source": [
    "pl.plot(data.t, data.u);\n",
    "pl.grid()"
   ]
  },
  {
   "cell_type": "code",
   "execution_count": 25,
   "metadata": {
    "collapsed": false
   },
   "outputs": [
    {
     "data": {
      "text/plain": [
       "array([[ 0.417,  1.411,  0.   , -0.284,  0.   ,  0.   ,  0.   ,  0.   ],\n",
       "       [ 0.   , -0.905,  0.974,  0.203,  0.   ,  0.   ,  0.   ,  0.   ],\n",
       "       [ 0.   ,  0.   ,  0.   ,  0.   ,  0.417,  0.   ,  0.971, -0.325],\n",
       "       [ 0.   ,  0.   ,  0.   ,  0.   ,  0.   ,  0.415,  0.   , -0.339]])"
      ]
     },
     "execution_count": 25,
     "metadata": {},
     "output_type": "execute_result"
    }
   ],
   "source": [
    "K_clean = pl.where(abs(K) < 1e-1, pl.zeros(K.shape), K)\n",
    "K_clean"
   ]
  },
  {
   "cell_type": "markdown",
   "metadata": {},
   "source": [
    "Not we characterize how the controller is actually implemented."
   ]
  },
  {
   "cell_type": "code",
   "execution_count": 26,
   "metadata": {
    "collapsed": false
   },
   "outputs": [],
   "source": [
    "P_r, Q_r, R_r, k_P, k_Q, k_R, k_theta, k_phi, k_alpha, k_dh, k_ah, dh_r, V_T_r, k_V_thr, k_rdr_beta, k_ail_beta, k_alpha_thr, alpha_r = \\\n",
    "    sympy.symbols('P_r, Q_r, R_r, k_P, k_Q, k_R, k_theta, k_phi, k_alpha, k_dh, k_ah, dh_r, V_T_r, k_V_thr, k_rdr_beta, k_ail_beta, k_alpha_thr, alpha_r')"
   ]
  },
  {
   "cell_type": "code",
   "execution_count": 27,
   "metadata": {
    "collapsed": false
   },
   "outputs": [
    {
     "data": {
      "text/latex": [
       "$$\\left[\\begin{matrix}- k_{\\alpha} \\left(- \\alpha + \\alpha_{r}\\right) + k_{\\theta} \\left(k_{Q} \\left(- Q + Q_{r}\\right) - \\theta\\right)\\\\k_{V thr} \\left(- V_{T} + V_{T r}\\right) - k_{\\alpha thr} \\left(- \\alpha + \\alpha_{r}\\right) - k_{dh} \\left(V_{T} \\operatorname{sin}\\left(\\alpha - \\theta\\right) + dh_{r}\\right)\\\\\\beta k_{ail \\beta} + k_{\\phi} \\left(k_{P} \\left(- P + P_{r}\\right) - \\phi\\right)\\\\\\beta k_{rdr \\beta} + k_{R} \\left(- R + R_{r}\\right)\\end{matrix}\\right]$$"
      ],
      "text/plain": [
       "⎡                -k_α⋅(-α + αᵣ) + k_θ⋅(k_Q⋅(-Q + Qᵣ) - θ)                ⎤\n",
       "⎢                                                                        ⎥\n",
       "⎢k_V_thr⋅(-V_T + V_T_r) - k_α_thr⋅(-α + αᵣ) - k_dh⋅(V_T⋅sin(α - θ) + dhᵣ)⎥\n",
       "⎢                                                                        ⎥\n",
       "⎢                   β⋅k_ail_β + kᵩ⋅(k_P⋅(-P + Pᵣ) - φ)                   ⎥\n",
       "⎢                                                                        ⎥\n",
       "⎣                       β⋅k_rdr_β + k_R⋅(-R + Rᵣ)                        ⎦"
      ]
     },
     "execution_count": 27,
     "metadata": {},
     "output_type": "execute_result"
    }
   ],
   "source": [
    "phi_r = k_P *(P_r - P)\n",
    "ail_r = k_phi*(phi_r - phi) + k_ail_beta*beta\n",
    "\n",
    "theta_r = k_Q *(Q_r - Q)\n",
    "\n",
    "elv_r = k_theta*(theta_r - theta) - k_alpha*(alpha_r - alpha)\n",
    "rdr_r = k_R *(R_r - R) + k_rdr_beta*beta\n",
    "\n",
    "thr_r = -k_dh*(dh_r - V_T*sympy.sin(theta - alpha)) + k_V_thr*(V_T_r - V_T) - k_alpha_thr*(alpha_r - alpha)\n",
    "u_r = sympy.Matrix([elv_r, thr_r, ail_r, rdr_r])\n",
    "u_r"
   ]
  },
  {
   "cell_type": "code",
   "execution_count": 28,
   "metadata": {
    "collapsed": false
   },
   "outputs": [
    {
     "data": {
      "text/latex": [
       "$$\\left ( \\left[\\begin{matrix}elv & thr & ail & rdr\\end{matrix}\\right], \\quad \\left[\\begin{matrix}Q & \\theta & V_{T} & \\alpha & P & R & \\phi & \\beta\\end{matrix}\\right]\\right )$$"
      ],
      "text/plain": [
       "([elv  thr  ail  rdr], [Q  θ  V_T  α  P  R  φ  β])"
      ]
     },
     "execution_count": 28,
     "metadata": {},
     "output_type": "execute_result"
    }
   ],
   "source": [
    "u_vect.T, x_vect.T"
   ]
  },
  {
   "cell_type": "code",
   "execution_count": 29,
   "metadata": {
    "collapsed": false
   },
   "outputs": [
    {
     "data": {
      "text/latex": [
       "$$\\left \\{ P : 0, \\quad Q : 0, \\quad R : 0, \\quad V_{T} : 20, \\quad ail : 0, \\quad \\alpha : -0.0196622211004, \\quad \\beta : 0, \\quad elv : -0.0196622285512, \\quad \\phi : 0, \\quad rdr : 0, \\quad \\theta : 0.0196622211004, \\quad thr : 0.284781460076\\right \\}$$"
      ],
      "text/plain": [
       "{P: 0, Q: 0, R: 0, V_T: 20, ail: 0, α: -0.0196622211004, β: 0, elv: -0.0196622\n",
       "285512, φ: 0, rdr: 0, θ: 0.0196622211004, thr: 0.284781460076}"
      ]
     },
     "execution_count": 29,
     "metadata": {},
     "output_type": "execute_result"
    }
   ],
   "source": [
    "sub_trim = {x_vect[i]: x0[i] for i in range(len(x_vect))}\n",
    "sub_trim.update({u_vect[i]: u0[i] for i in range(len(u_vect))})\n",
    "sub_trim"
   ]
  },
  {
   "cell_type": "code",
   "execution_count": 30,
   "metadata": {
    "collapsed": false
   },
   "outputs": [
    {
     "data": {
      "text/latex": [
       "$$\\left[\\begin{matrix}k_{Q} k_{\\theta} & k_{\\theta} & 0 & - k_{\\alpha} & 0 & 0 & 0 & 0\\\\0 & - 19.9845378751776 k_{dh} & k_{V thr} - 0.039314307687877 k_{dh} & - k_{\\alpha thr} + 19.9845378751776 k_{dh} & 0 & 0 & 0 & 0\\\\0 & 0 & 0 & 0 & k_{P} k_{\\phi} & 0 & k_{\\phi} & - k_{ail \\beta}\\\\0 & 0 & 0 & 0 & 0 & k_{R} & 0 & - k_{rdr \\beta}\\end{matrix}\\right]$$"
      ],
      "text/plain": [
       "⎡k_Q⋅k_θ           k_θ                             0                          \n",
       "⎢                                                                             \n",
       "⎢   0     -19.9845378751776⋅k_dh  k_V_thr - - -0.039314307687877⋅k_dh  -k_α_th\n",
       "⎢                                                                             \n",
       "⎢   0               0                              0                          \n",
       "⎢                                                                             \n",
       "⎣   0               0                              0                          \n",
       "\n",
       "       -k_α                  0      0   0      0    ⎤\n",
       "                                                    ⎥\n",
       "r + 19.9845378751776⋅k_dh    0      0   0      0    ⎥\n",
       "                                                    ⎥\n",
       "        0                  k_P⋅kᵩ   0   kᵩ  -k_ail_β⎥\n",
       "                                                    ⎥\n",
       "        0                    0     k_R  0   -k_rdr_β⎦"
      ]
     },
     "execution_count": 30,
     "metadata": {},
     "output_type": "execute_result"
    }
   ],
   "source": [
    "u_r = sympy.Matrix([elv_r, thr_r, ail_r, rdr_r])\n",
    "K_syms = -u_r.jacobian(x_vect).subs(sub_trim)\n",
    "K_syms"
   ]
  },
  {
   "cell_type": "markdown",
   "metadata": {},
   "source": [
    "We want to find the gains in the designed controller that give the LQR gains."
   ]
  },
  {
   "cell_type": "code",
   "execution_count": 31,
   "metadata": {
    "collapsed": false
   },
   "outputs": [
    {
     "data": {
      "text/latex": [
       "$$\\left[\\begin{matrix}- k_{Q} k_{\\theta} + 0.417461280566769\\\\- k_{\\theta} + 1.4109761152722\\\\k_{\\alpha} - 0.283931106866936\\\\19.9845378751776 k_{dh} - 0.904595697355912\\\\- k_{V thr} + 0.039314307687877 k_{dh} + 0.973583929069631\\\\k_{\\alpha thr} - 19.9845378751776 k_{dh} + 0.203499495423821\\\\- k_{P} k_{\\phi} + 0.417008809476205\\\\- k_{\\phi} + 0.971332589512055\\\\k_{ail \\beta} - 0.324971897058001\\\\- k_{R} + 0.415154150886853\\\\k_{rdr \\beta} - 0.338711658534966\\end{matrix}\\right]$$"
      ],
      "text/plain": [
       "⎡              -k_Q⋅k_θ + 0.417461280566769               ⎤\n",
       "⎢                                                         ⎥\n",
       "⎢                 -k_θ + 1.4109761152722                  ⎥\n",
       "⎢                                                         ⎥\n",
       "⎢                 k_α - 0.283931106866936                 ⎥\n",
       "⎢                                                         ⎥\n",
       "⎢        19.9845378751776⋅k_dh - 0.904595697355912        ⎥\n",
       "⎢                                                         ⎥\n",
       "⎢  -k_V_thr + 0.039314307687877⋅k_dh + 0.973583929069631  ⎥\n",
       "⎢                                                         ⎥\n",
       "⎢k_α_thr - -19.9845378751776⋅(-1)⋅k_dh + 0.203499495423821⎥\n",
       "⎢                                                         ⎥\n",
       "⎢               -k_P⋅kᵩ + 0.417008809476205               ⎥\n",
       "⎢                                                         ⎥\n",
       "⎢                 -kᵩ + 0.971332589512055                 ⎥\n",
       "⎢                                                         ⎥\n",
       "⎢               k_ail_β - 0.324971897058001               ⎥\n",
       "⎢                                                         ⎥\n",
       "⎢                -k_R + 0.415154150886853                 ⎥\n",
       "⎢                                                         ⎥\n",
       "⎣               k_rdr_β - 0.338711658534966               ⎦"
      ]
     },
     "execution_count": 31,
     "metadata": {},
     "output_type": "execute_result"
    }
   ],
   "source": [
    "K_diff = list(pl.where(abs(K) < 1e-1, pl.zeros(K.shape), K) - K_syms)\n",
    "K_eqs = sympy.Matrix([ K_diff[i] for i in pl.nonzero(K_diff)[0]])\n",
    "K_eqs"
   ]
  },
  {
   "cell_type": "code",
   "execution_count": 32,
   "metadata": {
    "collapsed": false
   },
   "outputs": [
    {
     "data": {
      "text/latex": [
       "$$\\left ( 11, \\quad 11\\right )$$"
      ],
      "text/plain": [
       "(11, 11)"
      ]
     },
     "execution_count": 32,
     "metadata": {},
     "output_type": "execute_result"
    }
   ],
   "source": [
    "len(K_eqs), len(K_eqs.atoms(sympy.Symbol))"
   ]
  },
  {
   "cell_type": "markdown",
   "metadata": {},
   "source": [
    "Here, we solve for the gains in the designed controller to match the LQR gains."
   ]
  },
  {
   "cell_type": "code",
   "execution_count": 33,
   "metadata": {
    "collapsed": false
   },
   "outputs": [
    {
     "data": {
      "text/latex": [
       "$$\\left \\{ k_{P} : 0.429316193010355, \\quad k_{Q} : 0.295867007278315, \\quad k_{R} : 0.415154150886853, \\quad k_{V thr} : 0.975363482532469, \\quad k_{ail \\beta} : 0.324971897058001, \\quad k_{\\alpha} : 0.283931106866936, \\quad k_{\\alpha thr} : 0.701096201932091, \\quad k_{dh} : 0.0452647793512149, \\quad k_{\\phi} : 0.971332589512055, \\quad k_{rdr \\beta} : 0.338711658534966, \\quad k_{\\theta} : 1.4109761152722\\right \\}$$"
      ],
      "text/plain": [
       "{k_P: 0.429316193010355, k_Q: 0.295867007278315, k_R: 0.415154150886853, k_V_t\n",
       "hr: 0.975363482532469, k_ail_β: 0.324971897058001, k_α: 0.283931106866936, k_α\n",
       "_thr: 0.701096201932091, k_dh: 0.0452647793512149, kᵩ: 0.971332589512055, k_rd\n",
       "r_β: 0.338711658534966, k_θ: 1.4109761152722}"
      ]
     },
     "execution_count": 33,
     "metadata": {},
     "output_type": "execute_result"
    }
   ],
   "source": [
    "sol_K = sympy.solve(K_eqs)[0]\n",
    "sol_K"
   ]
  },
  {
   "cell_type": "markdown",
   "metadata": {},
   "source": [
    "We see that the solution matches the LQR solution at the trim conditions."
   ]
  },
  {
   "cell_type": "code",
   "execution_count": 34,
   "metadata": {
    "collapsed": false
   },
   "outputs": [
    {
     "data": {
      "text/plain": [
       "array([[ 0.417,  1.411,  0.   , -0.284,  0.   ,  0.   ,  0.   ,  0.   ],\n",
       "       [ 0.   , -0.905,  0.974,  0.203,  0.   ,  0.   ,  0.   ,  0.   ],\n",
       "       [ 0.   ,  0.   ,  0.   ,  0.   ,  0.417,  0.   ,  0.971, -0.325],\n",
       "       [ 0.   ,  0.   ,  0.   ,  0.   ,  0.   ,  0.415,  0.   , -0.339]])"
      ]
     },
     "execution_count": 34,
     "metadata": {},
     "output_type": "execute_result"
    }
   ],
   "source": [
    "K_d = pl.array(K_syms.subs(sol_K)).astype(float)\n",
    "K_d"
   ]
  },
  {
   "cell_type": "code",
   "execution_count": 35,
   "metadata": {
    "collapsed": false
   },
   "outputs": [
    {
     "data": {
      "text/plain": [
       "array([[ 0.417,  1.411,  0.   , -0.284,  0.   ,  0.   ,  0.   ,  0.   ],\n",
       "       [ 0.   , -0.905,  0.974,  0.203,  0.   ,  0.   ,  0.   ,  0.   ],\n",
       "       [ 0.   ,  0.   ,  0.   ,  0.   ,  0.417,  0.   ,  0.971, -0.325],\n",
       "       [ 0.   ,  0.   ,  0.   ,  0.   ,  0.   ,  0.415,  0.   , -0.339]])"
      ]
     },
     "execution_count": 35,
     "metadata": {},
     "output_type": "execute_result"
    }
   ],
   "source": [
    "K_clean"
   ]
  },
  {
   "cell_type": "code",
   "execution_count": 36,
   "metadata": {
    "collapsed": false
   },
   "outputs": [
    {
     "data": {
      "text/plain": [
       "array([-345.710+0.j   ,  -37.442+0.j   ,   -0.984+0.j   ,   -9.995+0.j   ,\n",
       "       -346.777+7.043j, -346.777-7.043j,   -0.709+0.j   ,  -11.868+0.j   ])"
      ]
     },
     "execution_count": 36,
     "metadata": {},
     "output_type": "execute_result"
    }
   ],
   "source": [
    "pl.eig(ss_lin.A - ss_lin.B.dot(K_d))[0]"
   ]
  },
  {
   "cell_type": "code",
   "execution_count": 37,
   "metadata": {
    "collapsed": false
   },
   "outputs": [
    {
     "data": {
      "text/plain": [
       "array([-345.710+0.j   ,  -37.442+0.j   ,   -0.984+0.j   ,   -9.995+0.j   ,\n",
       "       -346.777+7.043j, -346.777-7.043j,   -0.709+0.j   ,  -11.868+0.j   ])"
      ]
     },
     "execution_count": 37,
     "metadata": {},
     "output_type": "execute_result"
    }
   ],
   "source": [
    "pl.eig(ss_lin.A - ss_lin.B.dot(K_clean))[0]"
   ]
  },
  {
   "cell_type": "code",
   "execution_count": 38,
   "metadata": {
    "collapsed": false
   },
   "outputs": [
    {
     "data": {
      "text/plain": [
       "array([-345.710+0.j   , -346.814+5.048j, -346.814-5.048j,  -37.453+0.j   ,\n",
       "         -0.989+0.j   ,   -9.980+0.j   ,   -0.712+0.j   ,  -11.869+0.j   ])"
      ]
     },
     "execution_count": 38,
     "metadata": {},
     "output_type": "execute_result"
    }
   ],
   "source": [
    "pl.eig(ss_lin.A - ss_lin.B.dot(K))[0]"
   ]
  }
 ],
 "metadata": {
  "kernelspec": {
   "display_name": "Python 2",
   "language": "python",
   "name": "python2"
  },
  "language_info": {
   "codemirror_mode": {
    "name": "ipython",
    "version": 2
   },
   "file_extension": ".py",
   "mimetype": "text/x-python",
   "name": "python",
   "nbconvert_exporter": "python",
   "pygments_lexer": "ipython2",
   "version": "2.7.6"
  }
 },
 "nbformat": 4,
 "nbformat_minor": 0
}
